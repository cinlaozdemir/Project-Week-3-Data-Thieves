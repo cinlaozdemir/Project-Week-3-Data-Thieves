{
 "cells": [
  {
   "cell_type": "code",
   "execution_count": null,
   "metadata": {},
   "outputs": [],
   "source": [
    "import pandas as pd\n",
    "import pymysql\n",
    "from sqlalchemy import create_engine"
   ]
  },
  {
   "cell_type": "code",
   "execution_count": null,
   "metadata": {},
   "outputs": [],
   "source": [
    "driver = 'mysql+pymysql'\n",
    "host = \"34.90.32.189\"\n",
    "username = 'root'\n",
    "password = '123456789'\n",
    "db = \"suicides1\"\n",
    "connection_string = f'{driver}://{username}:{password}@{host}/{db}'\n",
    "connection=create_engine(connection_string)"
   ]
  },
  {
   "cell_type": "code",
   "execution_count": null,
   "metadata": {},
   "outputs": [],
   "source": [
    "suicides=pd.read_sql_query(\"Select * from suicides1;\", connection)\n",
    "suicides.head()"
   ]
  },
  {
   "cell_type": "markdown",
   "metadata": {},
   "source": [
    "# Highest & Lowest Number of Suicides/Year"
   ]
  },
  {
   "cell_type": "markdown",
   "metadata": {},
   "source": [
    "Highest:"
   ]
  },
  {
   "cell_type": "code",
   "execution_count": null,
   "metadata": {},
   "outputs": [],
   "source": [
    "suicides_year = suicides.groupby(\"Year\").sum().sort_values(\"Num_Suicides\", ascending=False)\n",
    "suicides_year.drop(columns=[\"Population\", \"Suicides/100kPop\", \"GDP/Capita\"], inplace=True)\n",
    "suicides_year.head()"
   ]
  },
  {
   "cell_type": "markdown",
   "metadata": {},
   "source": [
    "Lowest:"
   ]
  },
  {
   "cell_type": "code",
   "execution_count": null,
   "metadata": {},
   "outputs": [],
   "source": [
    "suicides_year = suicides.groupby(\"Year\").sum().sort_values(\"Num_Suicides\", ascending=True)\n",
    "suicides_year.drop(columns=[\"Population\", \"Suicides/100kPop\", \"GDP/Capita\"], inplace=True)\n",
    "suicides_year.head()"
   ]
  },
  {
   "cell_type": "markdown",
   "metadata": {},
   "source": [
    "# Highest & Lowest Number of Suicides/Country"
   ]
  },
  {
   "cell_type": "markdown",
   "metadata": {},
   "source": [
    "Highest:"
   ]
  },
  {
   "cell_type": "code",
   "execution_count": null,
   "metadata": {},
   "outputs": [],
   "source": [
    "suicides_country = suicides.groupby(\"Country\").sum().sort_values(\"Num_Suicides\", ascending=False)\n",
    "suicides_country.drop(columns=[\"Population\", \"Suicides/100kPop\", \"GDP/Capita\", \"Year\"], inplace=True)\n",
    "suicides_country.head()"
   ]
  },
  {
   "cell_type": "markdown",
   "metadata": {},
   "source": [
    "Lowest:"
   ]
  },
  {
   "cell_type": "code",
   "execution_count": null,
   "metadata": {},
   "outputs": [],
   "source": [
    "suicides_country = suicides.groupby(\"Country\").sum().sort_values(\"Num_Suicides\", ascending = True)\n",
    "suicides_country.drop(columns = [\"Population\", \"Suicides/100kPop\", \"GDP/Capita\", \"Year\"], inplace = True)\n",
    "suicides_country.head()"
   ]
  },
  {
   "cell_type": "markdown",
   "metadata": {},
   "source": [
    "# Number of suicides by age range"
   ]
  },
  {
   "cell_type": "markdown",
   "metadata": {},
   "source": [
    "Sorted:"
   ]
  },
  {
   "cell_type": "code",
   "execution_count": null,
   "metadata": {},
   "outputs": [],
   "source": [
    "suicides_age = suicides.groupby(\"Age\").sum()\n",
    "suicides_age.drop(columns=[\"Year\", \"Population\", \"Suicides/100kPop\", \"GDP/Capita\"], inplace=True)\n",
    "suicides_age.sort_values(\"Num_Suicides\", ascending=False)"
   ]
  },
  {
   "cell_type": "code",
   "execution_count": null,
   "metadata": {},
   "outputs": [],
   "source": [
    "suicides.loc[suicides['Country'] == \"Turkey\"].sum()"
   ]
  },
  {
   "cell_type": "code",
   "execution_count": null,
   "metadata": {},
   "outputs": [],
   "source": [
    "suicides.loc[(suicides['Country'] == \"Spain\") & (suicides['Year'] == \"2009\")].sum()"
   ]
  }
 ],
 "metadata": {
  "kernelspec": {
   "display_name": "Python 3",
   "language": "python",
   "name": "python3"
  },
  "language_info": {
   "codemirror_mode": {
    "name": "ipython",
    "version": 3
   },
   "file_extension": ".py",
   "mimetype": "text/x-python",
   "name": "python",
   "nbconvert_exporter": "python",
   "pygments_lexer": "ipython3",
   "version": "3.7.3"
  }
 },
 "nbformat": 4,
 "nbformat_minor": 2
}
