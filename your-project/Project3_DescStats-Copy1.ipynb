{
 "cells": [
  {
   "cell_type": "markdown",
   "metadata": {},
   "source": [
    "# Importing libraries"
   ]
  },
  {
   "cell_type": "code",
   "execution_count": 1,
   "metadata": {
    "collapsed": true
   },
   "outputs": [],
   "source": [
    "import pandas as pd\n",
    "import pymysql\n",
    "from sqlalchemy import create_engine"
   ]
  },
  {
   "cell_type": "markdown",
   "metadata": {},
   "source": [
    "# Changing the way pandas displays floats"
   ]
  },
  {
   "cell_type": "code",
   "execution_count": 2,
   "metadata": {
    "collapsed": true
   },
   "outputs": [],
   "source": [
    "pd.set_option('display.float_format', lambda x: '%.5f' % x)"
   ]
  },
  {
   "cell_type": "markdown",
   "metadata": {},
   "source": [
    "# Importing dataset"
   ]
  },
  {
   "cell_type": "code",
   "execution_count": 3,
   "metadata": {
    "collapsed": true
   },
   "outputs": [],
   "source": [
    "suicides = pd.read_csv('/Users/andressalomferrer/Desktop/ironhack/Projects/Project_3/Project-Week-3-Data-Thieves/your-project/master.csv')"
   ]
  },
  {
   "cell_type": "code",
   "execution_count": 4,
   "metadata": {},
   "outputs": [
    {
     "data": {
      "text/html": [
       "<div>\n",
       "<style>\n",
       "    .dataframe thead tr:only-child th {\n",
       "        text-align: right;\n",
       "    }\n",
       "\n",
       "    .dataframe thead th {\n",
       "        text-align: left;\n",
       "    }\n",
       "\n",
       "    .dataframe tbody tr th {\n",
       "        vertical-align: top;\n",
       "    }\n",
       "</style>\n",
       "<table border=\"1\" class=\"dataframe\">\n",
       "  <thead>\n",
       "    <tr style=\"text-align: right;\">\n",
       "      <th></th>\n",
       "      <th>country</th>\n",
       "      <th>year</th>\n",
       "      <th>sex</th>\n",
       "      <th>age</th>\n",
       "      <th>suicides_no</th>\n",
       "      <th>population</th>\n",
       "      <th>suicides/100k pop</th>\n",
       "      <th>country-year</th>\n",
       "      <th>HDI for year</th>\n",
       "      <th>gdp_for_year ($)</th>\n",
       "      <th>gdp_per_capita ($)</th>\n",
       "      <th>generation</th>\n",
       "    </tr>\n",
       "  </thead>\n",
       "  <tbody>\n",
       "    <tr>\n",
       "      <th>0</th>\n",
       "      <td>Albania</td>\n",
       "      <td>1987</td>\n",
       "      <td>male</td>\n",
       "      <td>15-24 years</td>\n",
       "      <td>21</td>\n",
       "      <td>312900</td>\n",
       "      <td>6.71000</td>\n",
       "      <td>Albania1987</td>\n",
       "      <td>nan</td>\n",
       "      <td>2,156,624,900</td>\n",
       "      <td>796</td>\n",
       "      <td>Generation X</td>\n",
       "    </tr>\n",
       "    <tr>\n",
       "      <th>1</th>\n",
       "      <td>Albania</td>\n",
       "      <td>1987</td>\n",
       "      <td>male</td>\n",
       "      <td>35-54 years</td>\n",
       "      <td>16</td>\n",
       "      <td>308000</td>\n",
       "      <td>5.19000</td>\n",
       "      <td>Albania1987</td>\n",
       "      <td>nan</td>\n",
       "      <td>2,156,624,900</td>\n",
       "      <td>796</td>\n",
       "      <td>Silent</td>\n",
       "    </tr>\n",
       "    <tr>\n",
       "      <th>2</th>\n",
       "      <td>Albania</td>\n",
       "      <td>1987</td>\n",
       "      <td>female</td>\n",
       "      <td>15-24 years</td>\n",
       "      <td>14</td>\n",
       "      <td>289700</td>\n",
       "      <td>4.83000</td>\n",
       "      <td>Albania1987</td>\n",
       "      <td>nan</td>\n",
       "      <td>2,156,624,900</td>\n",
       "      <td>796</td>\n",
       "      <td>Generation X</td>\n",
       "    </tr>\n",
       "    <tr>\n",
       "      <th>3</th>\n",
       "      <td>Albania</td>\n",
       "      <td>1987</td>\n",
       "      <td>male</td>\n",
       "      <td>75+ years</td>\n",
       "      <td>1</td>\n",
       "      <td>21800</td>\n",
       "      <td>4.59000</td>\n",
       "      <td>Albania1987</td>\n",
       "      <td>nan</td>\n",
       "      <td>2,156,624,900</td>\n",
       "      <td>796</td>\n",
       "      <td>G.I. Generation</td>\n",
       "    </tr>\n",
       "    <tr>\n",
       "      <th>4</th>\n",
       "      <td>Albania</td>\n",
       "      <td>1987</td>\n",
       "      <td>male</td>\n",
       "      <td>25-34 years</td>\n",
       "      <td>9</td>\n",
       "      <td>274300</td>\n",
       "      <td>3.28000</td>\n",
       "      <td>Albania1987</td>\n",
       "      <td>nan</td>\n",
       "      <td>2,156,624,900</td>\n",
       "      <td>796</td>\n",
       "      <td>Boomers</td>\n",
       "    </tr>\n",
       "  </tbody>\n",
       "</table>\n",
       "</div>"
      ],
      "text/plain": [
       "   country  year     sex          age  suicides_no  population  \\\n",
       "0  Albania  1987    male  15-24 years           21      312900   \n",
       "1  Albania  1987    male  35-54 years           16      308000   \n",
       "2  Albania  1987  female  15-24 years           14      289700   \n",
       "3  Albania  1987    male    75+ years            1       21800   \n",
       "4  Albania  1987    male  25-34 years            9      274300   \n",
       "\n",
       "   suicides/100k pop country-year  HDI for year  gdp_for_year ($)   \\\n",
       "0            6.71000  Albania1987           nan      2,156,624,900   \n",
       "1            5.19000  Albania1987           nan      2,156,624,900   \n",
       "2            4.83000  Albania1987           nan      2,156,624,900   \n",
       "3            4.59000  Albania1987           nan      2,156,624,900   \n",
       "4            3.28000  Albania1987           nan      2,156,624,900   \n",
       "\n",
       "   gdp_per_capita ($)       generation  \n",
       "0                 796     Generation X  \n",
       "1                 796           Silent  \n",
       "2                 796     Generation X  \n",
       "3                 796  G.I. Generation  \n",
       "4                 796          Boomers  "
      ]
     },
     "execution_count": 4,
     "metadata": {},
     "output_type": "execute_result"
    }
   ],
   "source": [
    "suicides.head()"
   ]
  },
  {
   "cell_type": "markdown",
   "metadata": {},
   "source": [
    "# Checking dtypes"
   ]
  },
  {
   "cell_type": "code",
   "execution_count": 5,
   "metadata": {},
   "outputs": [
    {
     "data": {
      "text/plain": [
       "country                object\n",
       "year                    int64\n",
       "sex                    object\n",
       "age                    object\n",
       "suicides_no             int64\n",
       "population              int64\n",
       "suicides/100k pop     float64\n",
       "country-year           object\n",
       "HDI for year          float64\n",
       " gdp_for_year ($)      object\n",
       "gdp_per_capita ($)      int64\n",
       "generation             object\n",
       "dtype: object"
      ]
     },
     "execution_count": 5,
     "metadata": {},
     "output_type": "execute_result"
    }
   ],
   "source": [
    "suicides.dtypes"
   ]
  },
  {
   "cell_type": "markdown",
   "metadata": {},
   "source": [
    "# Renaming columns "
   ]
  },
  {
   "cell_type": "code",
   "execution_count": 6,
   "metadata": {
    "collapsed": true
   },
   "outputs": [],
   "source": [
    "suicides.rename(columns={\" gdp_for_year ($) \": \"GDP/Year\", \"gdp_per_capita ($)\": \"GDP/Capita\", \"country\": \"Country\",\n",
    "                        \"year\": \"Year\", \"sex\": \"Gender\", \"suicides_no\": \"Num_Suicides\", \"age\": \"Age\", \"population\":\n",
    "                        \"Population\", \"suicides/100k pop\": \"Suicides/100kPop\", \"generation\": \"Generation\", \"HDI for year\":\n",
    "                         \"HDI/Year\"}, inplace=True)"
   ]
  },
  {
   "cell_type": "code",
   "execution_count": 7,
   "metadata": {},
   "outputs": [
    {
     "data": {
      "text/html": [
       "<div>\n",
       "<style>\n",
       "    .dataframe thead tr:only-child th {\n",
       "        text-align: right;\n",
       "    }\n",
       "\n",
       "    .dataframe thead th {\n",
       "        text-align: left;\n",
       "    }\n",
       "\n",
       "    .dataframe tbody tr th {\n",
       "        vertical-align: top;\n",
       "    }\n",
       "</style>\n",
       "<table border=\"1\" class=\"dataframe\">\n",
       "  <thead>\n",
       "    <tr style=\"text-align: right;\">\n",
       "      <th></th>\n",
       "      <th>Country</th>\n",
       "      <th>Year</th>\n",
       "      <th>Gender</th>\n",
       "      <th>Age</th>\n",
       "      <th>Num_Suicides</th>\n",
       "      <th>Population</th>\n",
       "      <th>Suicides/100kPop</th>\n",
       "      <th>country-year</th>\n",
       "      <th>HDI/Year</th>\n",
       "      <th>GDP/Year</th>\n",
       "      <th>GDP/Capita</th>\n",
       "      <th>Generation</th>\n",
       "    </tr>\n",
       "  </thead>\n",
       "  <tbody>\n",
       "    <tr>\n",
       "      <th>0</th>\n",
       "      <td>Albania</td>\n",
       "      <td>1987</td>\n",
       "      <td>male</td>\n",
       "      <td>15-24 years</td>\n",
       "      <td>21</td>\n",
       "      <td>312900</td>\n",
       "      <td>6.71000</td>\n",
       "      <td>Albania1987</td>\n",
       "      <td>nan</td>\n",
       "      <td>2,156,624,900</td>\n",
       "      <td>796</td>\n",
       "      <td>Generation X</td>\n",
       "    </tr>\n",
       "    <tr>\n",
       "      <th>1</th>\n",
       "      <td>Albania</td>\n",
       "      <td>1987</td>\n",
       "      <td>male</td>\n",
       "      <td>35-54 years</td>\n",
       "      <td>16</td>\n",
       "      <td>308000</td>\n",
       "      <td>5.19000</td>\n",
       "      <td>Albania1987</td>\n",
       "      <td>nan</td>\n",
       "      <td>2,156,624,900</td>\n",
       "      <td>796</td>\n",
       "      <td>Silent</td>\n",
       "    </tr>\n",
       "    <tr>\n",
       "      <th>2</th>\n",
       "      <td>Albania</td>\n",
       "      <td>1987</td>\n",
       "      <td>female</td>\n",
       "      <td>15-24 years</td>\n",
       "      <td>14</td>\n",
       "      <td>289700</td>\n",
       "      <td>4.83000</td>\n",
       "      <td>Albania1987</td>\n",
       "      <td>nan</td>\n",
       "      <td>2,156,624,900</td>\n",
       "      <td>796</td>\n",
       "      <td>Generation X</td>\n",
       "    </tr>\n",
       "    <tr>\n",
       "      <th>3</th>\n",
       "      <td>Albania</td>\n",
       "      <td>1987</td>\n",
       "      <td>male</td>\n",
       "      <td>75+ years</td>\n",
       "      <td>1</td>\n",
       "      <td>21800</td>\n",
       "      <td>4.59000</td>\n",
       "      <td>Albania1987</td>\n",
       "      <td>nan</td>\n",
       "      <td>2,156,624,900</td>\n",
       "      <td>796</td>\n",
       "      <td>G.I. Generation</td>\n",
       "    </tr>\n",
       "    <tr>\n",
       "      <th>4</th>\n",
       "      <td>Albania</td>\n",
       "      <td>1987</td>\n",
       "      <td>male</td>\n",
       "      <td>25-34 years</td>\n",
       "      <td>9</td>\n",
       "      <td>274300</td>\n",
       "      <td>3.28000</td>\n",
       "      <td>Albania1987</td>\n",
       "      <td>nan</td>\n",
       "      <td>2,156,624,900</td>\n",
       "      <td>796</td>\n",
       "      <td>Boomers</td>\n",
       "    </tr>\n",
       "  </tbody>\n",
       "</table>\n",
       "</div>"
      ],
      "text/plain": [
       "   Country  Year  Gender          Age  Num_Suicides  Population  \\\n",
       "0  Albania  1987    male  15-24 years            21      312900   \n",
       "1  Albania  1987    male  35-54 years            16      308000   \n",
       "2  Albania  1987  female  15-24 years            14      289700   \n",
       "3  Albania  1987    male    75+ years             1       21800   \n",
       "4  Albania  1987    male  25-34 years             9      274300   \n",
       "\n",
       "   Suicides/100kPop country-year  HDI/Year       GDP/Year  GDP/Capita  \\\n",
       "0           6.71000  Albania1987       nan  2,156,624,900         796   \n",
       "1           5.19000  Albania1987       nan  2,156,624,900         796   \n",
       "2           4.83000  Albania1987       nan  2,156,624,900         796   \n",
       "3           4.59000  Albania1987       nan  2,156,624,900         796   \n",
       "4           3.28000  Albania1987       nan  2,156,624,900         796   \n",
       "\n",
       "        Generation  \n",
       "0     Generation X  \n",
       "1           Silent  \n",
       "2     Generation X  \n",
       "3  G.I. Generation  \n",
       "4          Boomers  "
      ]
     },
     "execution_count": 7,
     "metadata": {},
     "output_type": "execute_result"
    }
   ],
   "source": [
    "suicides.head()"
   ]
  },
  {
   "cell_type": "code",
   "execution_count": 8,
   "metadata": {
    "collapsed": true
   },
   "outputs": [],
   "source": [
    "# Dropping this column, redundant information\n",
    "suicides.drop(\"country-year\", axis=1, inplace=True)"
   ]
  },
  {
   "cell_type": "code",
   "execution_count": 9,
   "metadata": {
    "collapsed": true
   },
   "outputs": [],
   "source": [
    "# Re-formatting the columns GDP/Year so it can be converted to float\n",
    "suicides[\"GDP/Year\"] = suicides[\"GDP/Year\"].apply(lambda x: x.replace(\",\", \"\"))"
   ]
  },
  {
   "cell_type": "code",
   "execution_count": 10,
   "metadata": {
    "collapsed": true
   },
   "outputs": [],
   "source": [
    "suicides = suicides.astype({\"GDP/Year\": 'float'})"
   ]
  },
  {
   "cell_type": "code",
   "execution_count": 11,
   "metadata": {},
   "outputs": [
    {
     "data": {
      "text/plain": [
       "Country              object\n",
       "Year                  int64\n",
       "Gender               object\n",
       "Age                  object\n",
       "Num_Suicides          int64\n",
       "Population            int64\n",
       "Suicides/100kPop    float64\n",
       "HDI/Year            float64\n",
       "GDP/Year            float64\n",
       "GDP/Capita            int64\n",
       "Generation           object\n",
       "dtype: object"
      ]
     },
     "execution_count": 11,
     "metadata": {},
     "output_type": "execute_result"
    }
   ],
   "source": [
    "suicides.dtypes"
   ]
  },
  {
   "cell_type": "code",
   "execution_count": 12,
   "metadata": {},
   "outputs": [
    {
     "name": "stdout",
     "output_type": "stream",
     "text": [
      "<class 'pandas.core.frame.DataFrame'>\n",
      "RangeIndex: 27820 entries, 0 to 27819\n",
      "Data columns (total 11 columns):\n",
      "Country             27820 non-null object\n",
      "Year                27820 non-null int64\n",
      "Gender              27820 non-null object\n",
      "Age                 27820 non-null object\n",
      "Num_Suicides        27820 non-null int64\n",
      "Population          27820 non-null int64\n",
      "Suicides/100kPop    27820 non-null float64\n",
      "HDI/Year            8364 non-null float64\n",
      "GDP/Year            27820 non-null float64\n",
      "GDP/Capita          27820 non-null int64\n",
      "Generation          27820 non-null object\n",
      "dtypes: float64(3), int64(4), object(4)\n",
      "memory usage: 2.3+ MB\n"
     ]
    }
   ],
   "source": [
    "suicides.info()"
   ]
  },
  {
   "cell_type": "code",
   "execution_count": 13,
   "metadata": {},
   "outputs": [
    {
     "data": {
      "text/plain": [
       "8364"
      ]
     },
     "execution_count": 13,
     "metadata": {},
     "output_type": "execute_result"
    }
   ],
   "source": [
    "suicides.shape[0] - suicides['HDI/Year'].isnull().sum()"
   ]
  },
  {
   "cell_type": "code",
   "execution_count": 14,
   "metadata": {
    "collapsed": true
   },
   "outputs": [],
   "source": [
    "# Since we have so many null values and we won't be using this column, we decided to drop it\n",
    "suicides.drop(\"HDI/Year\", axis=1, inplace=True)"
   ]
  },
  {
   "cell_type": "code",
   "execution_count": 15,
   "metadata": {},
   "outputs": [
    {
     "data": {
      "text/plain": [
       "Country             0\n",
       "Year                0\n",
       "Gender              0\n",
       "Age                 0\n",
       "Num_Suicides        0\n",
       "Population          0\n",
       "Suicides/100kPop    0\n",
       "GDP/Year            0\n",
       "GDP/Capita          0\n",
       "Generation          0\n",
       "dtype: int64"
      ]
     },
     "execution_count": 15,
     "metadata": {},
     "output_type": "execute_result"
    }
   ],
   "source": [
    "# Checking null values \n",
    "suicides.isnull().sum()"
   ]
  },
  {
   "cell_type": "code",
   "execution_count": 16,
   "metadata": {},
   "outputs": [
    {
     "data": {
      "text/html": [
       "<div>\n",
       "<style>\n",
       "    .dataframe thead tr:only-child th {\n",
       "        text-align: right;\n",
       "    }\n",
       "\n",
       "    .dataframe thead th {\n",
       "        text-align: left;\n",
       "    }\n",
       "\n",
       "    .dataframe tbody tr th {\n",
       "        vertical-align: top;\n",
       "    }\n",
       "</style>\n",
       "<table border=\"1\" class=\"dataframe\">\n",
       "  <thead>\n",
       "    <tr style=\"text-align: right;\">\n",
       "      <th></th>\n",
       "      <th>Year</th>\n",
       "      <th>Num_Suicides</th>\n",
       "      <th>Population</th>\n",
       "      <th>Suicides/100kPop</th>\n",
       "      <th>GDP/Year</th>\n",
       "      <th>GDP/Capita</th>\n",
       "    </tr>\n",
       "  </thead>\n",
       "  <tbody>\n",
       "    <tr>\n",
       "      <th>count</th>\n",
       "      <td>27820.00000</td>\n",
       "      <td>27820.00000</td>\n",
       "      <td>27820.00000</td>\n",
       "      <td>27820.00000</td>\n",
       "      <td>27820.00000</td>\n",
       "      <td>27820.00000</td>\n",
       "    </tr>\n",
       "    <tr>\n",
       "      <th>mean</th>\n",
       "      <td>2001.25838</td>\n",
       "      <td>242.57441</td>\n",
       "      <td>1844793.61740</td>\n",
       "      <td>12.81610</td>\n",
       "      <td>445580969025.72711</td>\n",
       "      <td>16866.46441</td>\n",
       "    </tr>\n",
       "    <tr>\n",
       "      <th>std</th>\n",
       "      <td>8.46906</td>\n",
       "      <td>902.04792</td>\n",
       "      <td>3911779.44176</td>\n",
       "      <td>18.96151</td>\n",
       "      <td>1453609985940.91626</td>\n",
       "      <td>18887.57647</td>\n",
       "    </tr>\n",
       "    <tr>\n",
       "      <th>min</th>\n",
       "      <td>1985.00000</td>\n",
       "      <td>0.00000</td>\n",
       "      <td>278.00000</td>\n",
       "      <td>0.00000</td>\n",
       "      <td>46919625.00000</td>\n",
       "      <td>251.00000</td>\n",
       "    </tr>\n",
       "    <tr>\n",
       "      <th>25%</th>\n",
       "      <td>1995.00000</td>\n",
       "      <td>3.00000</td>\n",
       "      <td>97498.50000</td>\n",
       "      <td>0.92000</td>\n",
       "      <td>8985352832.00000</td>\n",
       "      <td>3447.00000</td>\n",
       "    </tr>\n",
       "    <tr>\n",
       "      <th>50%</th>\n",
       "      <td>2002.00000</td>\n",
       "      <td>25.00000</td>\n",
       "      <td>430150.00000</td>\n",
       "      <td>5.99000</td>\n",
       "      <td>48114688201.00000</td>\n",
       "      <td>9372.00000</td>\n",
       "    </tr>\n",
       "    <tr>\n",
       "      <th>75%</th>\n",
       "      <td>2008.00000</td>\n",
       "      <td>131.00000</td>\n",
       "      <td>1486143.25000</td>\n",
       "      <td>16.62000</td>\n",
       "      <td>260202429150.00000</td>\n",
       "      <td>24874.00000</td>\n",
       "    </tr>\n",
       "    <tr>\n",
       "      <th>max</th>\n",
       "      <td>2016.00000</td>\n",
       "      <td>22338.00000</td>\n",
       "      <td>43805214.00000</td>\n",
       "      <td>224.97000</td>\n",
       "      <td>18120714000000.00000</td>\n",
       "      <td>126352.00000</td>\n",
       "    </tr>\n",
       "  </tbody>\n",
       "</table>\n",
       "</div>"
      ],
      "text/plain": [
       "             Year  Num_Suicides     Population  Suicides/100kPop  \\\n",
       "count 27820.00000   27820.00000    27820.00000       27820.00000   \n",
       "mean   2001.25838     242.57441  1844793.61740          12.81610   \n",
       "std       8.46906     902.04792  3911779.44176          18.96151   \n",
       "min    1985.00000       0.00000      278.00000           0.00000   \n",
       "25%    1995.00000       3.00000    97498.50000           0.92000   \n",
       "50%    2002.00000      25.00000   430150.00000           5.99000   \n",
       "75%    2008.00000     131.00000  1486143.25000          16.62000   \n",
       "max    2016.00000   22338.00000 43805214.00000         224.97000   \n",
       "\n",
       "                  GDP/Year   GDP/Capita  \n",
       "count          27820.00000  27820.00000  \n",
       "mean    445580969025.72711  16866.46441  \n",
       "std    1453609985940.91626  18887.57647  \n",
       "min         46919625.00000    251.00000  \n",
       "25%       8985352832.00000   3447.00000  \n",
       "50%      48114688201.00000   9372.00000  \n",
       "75%     260202429150.00000  24874.00000  \n",
       "max   18120714000000.00000 126352.00000  "
      ]
     },
     "execution_count": 16,
     "metadata": {},
     "output_type": "execute_result"
    }
   ],
   "source": [
    "suicides.describe()"
   ]
  },
  {
   "cell_type": "code",
   "execution_count": 17,
   "metadata": {},
   "outputs": [
    {
     "data": {
      "text/html": [
       "<div>\n",
       "<style>\n",
       "    .dataframe thead tr:only-child th {\n",
       "        text-align: right;\n",
       "    }\n",
       "\n",
       "    .dataframe thead th {\n",
       "        text-align: left;\n",
       "    }\n",
       "\n",
       "    .dataframe tbody tr th {\n",
       "        vertical-align: top;\n",
       "    }\n",
       "</style>\n",
       "<table border=\"1\" class=\"dataframe\">\n",
       "  <thead>\n",
       "    <tr style=\"text-align: right;\">\n",
       "      <th></th>\n",
       "      <th>Country</th>\n",
       "      <th>Year</th>\n",
       "      <th>Gender</th>\n",
       "      <th>Age</th>\n",
       "      <th>Num_Suicides</th>\n",
       "      <th>Population</th>\n",
       "      <th>Suicides/100kPop</th>\n",
       "      <th>GDP/Year</th>\n",
       "      <th>GDP/Capita</th>\n",
       "      <th>Generation</th>\n",
       "    </tr>\n",
       "  </thead>\n",
       "  <tbody>\n",
       "    <tr>\n",
       "      <th>9</th>\n",
       "      <td>Albania</td>\n",
       "      <td>1987</td>\n",
       "      <td>female</td>\n",
       "      <td>5-14 years</td>\n",
       "      <td>0</td>\n",
       "      <td>311000</td>\n",
       "      <td>0.00000</td>\n",
       "      <td>2156624900.00000</td>\n",
       "      <td>796</td>\n",
       "      <td>Generation X</td>\n",
       "    </tr>\n",
       "    <tr>\n",
       "      <th>10</th>\n",
       "      <td>Albania</td>\n",
       "      <td>1987</td>\n",
       "      <td>female</td>\n",
       "      <td>55-74 years</td>\n",
       "      <td>0</td>\n",
       "      <td>144600</td>\n",
       "      <td>0.00000</td>\n",
       "      <td>2156624900.00000</td>\n",
       "      <td>796</td>\n",
       "      <td>G.I. Generation</td>\n",
       "    </tr>\n",
       "    <tr>\n",
       "      <th>11</th>\n",
       "      <td>Albania</td>\n",
       "      <td>1987</td>\n",
       "      <td>male</td>\n",
       "      <td>5-14 years</td>\n",
       "      <td>0</td>\n",
       "      <td>338200</td>\n",
       "      <td>0.00000</td>\n",
       "      <td>2156624900.00000</td>\n",
       "      <td>796</td>\n",
       "      <td>Generation X</td>\n",
       "    </tr>\n",
       "  </tbody>\n",
       "</table>\n",
       "</div>"
      ],
      "text/plain": [
       "    Country  Year  Gender          Age  Num_Suicides  Population  \\\n",
       "9   Albania  1987  female   5-14 years             0      311000   \n",
       "10  Albania  1987  female  55-74 years             0      144600   \n",
       "11  Albania  1987    male   5-14 years             0      338200   \n",
       "\n",
       "    Suicides/100kPop         GDP/Year  GDP/Capita       Generation  \n",
       "9            0.00000 2156624900.00000         796     Generation X  \n",
       "10           0.00000 2156624900.00000         796  G.I. Generation  \n",
       "11           0.00000 2156624900.00000         796     Generation X  "
      ]
     },
     "execution_count": 17,
     "metadata": {},
     "output_type": "execute_result"
    }
   ],
   "source": [
    "suicides[suicides['Num_Suicides'] == 0][0:3]"
   ]
  },
  {
   "cell_type": "code",
   "execution_count": 18,
   "metadata": {
    "collapsed": true
   },
   "outputs": [],
   "source": [
    "driver = 'mysql+pymysql'\n",
    "host = \"34.90.32.189\"\n",
    "username = 'root'\n",
    "password = '123456789'\n",
    "db = \"suicides1\"\n",
    "connection_string = f'{driver}://{username}:{password}@{host}/{db}'\n",
    "connection=create_engine(connection_string)\n",
    "engine = create_engine(connection_string)"
   ]
  },
  {
   "cell_type": "code",
   "execution_count": 19,
   "metadata": {
    "collapsed": true
   },
   "outputs": [],
   "source": [
    "suicides.to_sql(\"suicides1\", con=connection, if_exists='replace')"
   ]
  },
  {
   "cell_type": "code",
   "execution_count": 20,
   "metadata": {
    "collapsed": true
   },
   "outputs": [],
   "source": [
    "suicides_year = suicides.groupby(\"Year\").sum().sort_values(\"Num_Suicides\", ascending=False)"
   ]
  },
  {
   "cell_type": "code",
   "execution_count": 21,
   "metadata": {
    "collapsed": true
   },
   "outputs": [],
   "source": [
    "suicides_year = suicides_year.reset_index()"
   ]
  },
  {
   "cell_type": "code",
   "execution_count": 22,
   "metadata": {},
   "outputs": [
    {
     "data": {
      "text/html": [
       "<div>\n",
       "<style>\n",
       "    .dataframe thead tr:only-child th {\n",
       "        text-align: right;\n",
       "    }\n",
       "\n",
       "    .dataframe thead th {\n",
       "        text-align: left;\n",
       "    }\n",
       "\n",
       "    .dataframe tbody tr th {\n",
       "        vertical-align: top;\n",
       "    }\n",
       "</style>\n",
       "<table border=\"1\" class=\"dataframe\">\n",
       "  <thead>\n",
       "    <tr style=\"text-align: right;\">\n",
       "      <th></th>\n",
       "      <th>Year</th>\n",
       "      <th>Num_Suicides</th>\n",
       "      <th>Population</th>\n",
       "      <th>Suicides/100kPop</th>\n",
       "      <th>GDP/Year</th>\n",
       "      <th>GDP/Capita</th>\n",
       "    </tr>\n",
       "  </thead>\n",
       "  <tbody>\n",
       "    <tr>\n",
       "      <th>31</th>\n",
       "      <td>2016</td>\n",
       "      <td>15603</td>\n",
       "      <td>132101896</td>\n",
       "      <td>2147.39000</td>\n",
       "      <td>29252100111210.00000</td>\n",
       "      <td>4106420</td>\n",
       "    </tr>\n",
       "    <tr>\n",
       "      <th>23</th>\n",
       "      <td>2015</td>\n",
       "      <td>203640</td>\n",
       "      <td>1774657932</td>\n",
       "      <td>8253.99000</td>\n",
       "      <td>580433884300596.00000</td>\n",
       "      <td>19516008</td>\n",
       "    </tr>\n",
       "    <tr>\n",
       "      <th>20</th>\n",
       "      <td>2014</td>\n",
       "      <td>222984</td>\n",
       "      <td>1912057309</td>\n",
       "      <td>10306.73000</td>\n",
       "      <td>672496725417372.00000</td>\n",
       "      <td>25665252</td>\n",
       "    </tr>\n",
       "    <tr>\n",
       "      <th>19</th>\n",
       "      <td>2013</td>\n",
       "      <td>223199</td>\n",
       "      <td>1890161710</td>\n",
       "      <td>10663.64000</td>\n",
       "      <td>685050211812900.00000</td>\n",
       "      <td>26911368</td>\n",
       "    </tr>\n",
       "    <tr>\n",
       "      <th>18</th>\n",
       "      <td>2012</td>\n",
       "      <td>230160</td>\n",
       "      <td>1912812088</td>\n",
       "      <td>11101.91000</td>\n",
       "      <td>676502580180480.00000</td>\n",
       "      <td>26058300</td>\n",
       "    </tr>\n",
       "    <tr>\n",
       "      <th>12</th>\n",
       "      <td>2011</td>\n",
       "      <td>236484</td>\n",
       "      <td>1993362332</td>\n",
       "      <td>11367.84000</td>\n",
       "      <td>678000047330112.00000</td>\n",
       "      <td>26936148</td>\n",
       "    </tr>\n",
       "    <tr>\n",
       "      <th>11</th>\n",
       "      <td>2010</td>\n",
       "      <td>238702</td>\n",
       "      <td>1997297329</td>\n",
       "      <td>11843.99000</td>\n",
       "      <td>625862405486292.00000</td>\n",
       "      <td>25193196</td>\n",
       "    </tr>\n",
       "    <tr>\n",
       "      <th>8</th>\n",
       "      <td>2009</td>\n",
       "      <td>243487</td>\n",
       "      <td>1976228366</td>\n",
       "      <td>12176.04000</td>\n",
       "      <td>584833269596760.00000</td>\n",
       "      <td>24145248</td>\n",
       "    </tr>\n",
       "    <tr>\n",
       "      <th>13</th>\n",
       "      <td>2008</td>\n",
       "      <td>235447</td>\n",
       "      <td>1860620851</td>\n",
       "      <td>12145.84000</td>\n",
       "      <td>619322403842760.00000</td>\n",
       "      <td>26936208</td>\n",
       "    </tr>\n",
       "    <tr>\n",
       "      <th>15</th>\n",
       "      <td>2007</td>\n",
       "      <td>233408</td>\n",
       "      <td>1859564353</td>\n",
       "      <td>12410.15000</td>\n",
       "      <td>576509655876756.00000</td>\n",
       "      <td>24709620</td>\n",
       "    </tr>\n",
       "    <tr>\n",
       "      <th>16</th>\n",
       "      <td>2006</td>\n",
       "      <td>233361</td>\n",
       "      <td>1840908837</td>\n",
       "      <td>12166.01000</td>\n",
       "      <td>517865365084944.00000</td>\n",
       "      <td>21563784</td>\n",
       "    </tr>\n",
       "    <tr>\n",
       "      <th>14</th>\n",
       "      <td>2005</td>\n",
       "      <td>234375</td>\n",
       "      <td>1734909645</td>\n",
       "      <td>12164.99000</td>\n",
       "      <td>475067354100216.00000</td>\n",
       "      <td>20317212</td>\n",
       "    </tr>\n",
       "    <tr>\n",
       "      <th>9</th>\n",
       "      <td>2004</td>\n",
       "      <td>240861</td>\n",
       "      <td>1745246613</td>\n",
       "      <td>12581.80000</td>\n",
       "      <td>450425300789256.00000</td>\n",
       "      <td>17895936</td>\n",
       "    </tr>\n",
       "    <tr>\n",
       "      <th>2</th>\n",
       "      <td>2003</td>\n",
       "      <td>256079</td>\n",
       "      <td>1838458020</td>\n",
       "      <td>13627.58000</td>\n",
       "      <td>405293412848580.00000</td>\n",
       "      <td>15187104</td>\n",
       "    </tr>\n",
       "    <tr>\n",
       "      <th>1</th>\n",
       "      <td>2002</td>\n",
       "      <td>256095</td>\n",
       "      <td>1822152815</td>\n",
       "      <td>14227.72000</td>\n",
       "      <td>361460007211452.00000</td>\n",
       "      <td>13017420</td>\n",
       "    </tr>\n",
       "    <tr>\n",
       "      <th>4</th>\n",
       "      <td>2001</td>\n",
       "      <td>250652</td>\n",
       "      <td>1755565489</td>\n",
       "      <td>14276.21000</td>\n",
       "      <td>348137752649964.00000</td>\n",
       "      <td>12677892</td>\n",
       "    </tr>\n",
       "    <tr>\n",
       "      <th>3</th>\n",
       "      <td>2000</td>\n",
       "      <td>255832</td>\n",
       "      <td>1799227908</td>\n",
       "      <td>14387.45000</td>\n",
       "      <td>352373683311288.00000</td>\n",
       "      <td>12865476</td>\n",
       "    </tr>\n",
       "    <tr>\n",
       "      <th>0</th>\n",
       "      <td>1999</td>\n",
       "      <td>256119</td>\n",
       "      <td>1776363155</td>\n",
       "      <td>14473.91000</td>\n",
       "      <td>343808646118668.00000</td>\n",
       "      <td>12780864</td>\n",
       "    </tr>\n",
       "    <tr>\n",
       "      <th>5</th>\n",
       "      <td>1998</td>\n",
       "      <td>249591</td>\n",
       "      <td>1725181351</td>\n",
       "      <td>14150.72000</td>\n",
       "      <td>330186954612684.00000</td>\n",
       "      <td>11506728</td>\n",
       "    </tr>\n",
       "    <tr>\n",
       "      <th>10</th>\n",
       "      <td>1997</td>\n",
       "      <td>240745</td>\n",
       "      <td>1702991519</td>\n",
       "      <td>13817.83000</td>\n",
       "      <td>330610567459320.00000</td>\n",
       "      <td>11398596</td>\n",
       "    </tr>\n",
       "    <tr>\n",
       "      <th>6</th>\n",
       "      <td>1996</td>\n",
       "      <td>246725</td>\n",
       "      <td>1662267662</td>\n",
       "      <td>14142.21000</td>\n",
       "      <td>335249321862228.00000</td>\n",
       "      <td>11600736</td>\n",
       "    </tr>\n",
       "    <tr>\n",
       "      <th>7</th>\n",
       "      <td>1995</td>\n",
       "      <td>243544</td>\n",
       "      <td>1591559103</td>\n",
       "      <td>14660.26000</td>\n",
       "      <td>329358922744728.00000</td>\n",
       "      <td>11858508</td>\n",
       "    </tr>\n",
       "    <tr>\n",
       "      <th>17</th>\n",
       "      <td>1994</td>\n",
       "      <td>232063</td>\n",
       "      <td>1548749372</td>\n",
       "      <td>11483.79000</td>\n",
       "      <td>293729643723660.00000</td>\n",
       "      <td>9438756</td>\n",
       "    </tr>\n",
       "    <tr>\n",
       "      <th>21</th>\n",
       "      <td>1993</td>\n",
       "      <td>221565</td>\n",
       "      <td>1530416654</td>\n",
       "      <td>10790.29000</td>\n",
       "      <td>271037019424788.00000</td>\n",
       "      <td>8231796</td>\n",
       "    </tr>\n",
       "    <tr>\n",
       "      <th>22</th>\n",
       "      <td>1992</td>\n",
       "      <td>211473</td>\n",
       "      <td>1569539447</td>\n",
       "      <td>10528.88000</td>\n",
       "      <td>268107812488032.00000</td>\n",
       "      <td>8195232</td>\n",
       "    </tr>\n",
       "    <tr>\n",
       "      <th>24</th>\n",
       "      <td>1991</td>\n",
       "      <td>198020</td>\n",
       "      <td>1489988384</td>\n",
       "      <td>10321.06000</td>\n",
       "      <td>252102888610440.00000</td>\n",
       "      <td>7782096</td>\n",
       "    </tr>\n",
       "    <tr>\n",
       "      <th>25</th>\n",
       "      <td>1990</td>\n",
       "      <td>193361</td>\n",
       "      <td>1466620100</td>\n",
       "      <td>9878.75000</td>\n",
       "      <td>236464399957008.00000</td>\n",
       "      <td>7531260</td>\n",
       "    </tr>\n",
       "    <tr>\n",
       "      <th>26</th>\n",
       "      <td>1989</td>\n",
       "      <td>160244</td>\n",
       "      <td>1225514347</td>\n",
       "      <td>8036.54000</td>\n",
       "      <td>191618261647176.00000</td>\n",
       "      <td>6068424</td>\n",
       "    </tr>\n",
       "    <tr>\n",
       "      <th>28</th>\n",
       "      <td>1988</td>\n",
       "      <td>121026</td>\n",
       "      <td>1054094424</td>\n",
       "      <td>7473.13000</td>\n",
       "      <td>175557691204476.00000</td>\n",
       "      <td>5870508</td>\n",
       "    </tr>\n",
       "    <tr>\n",
       "      <th>27</th>\n",
       "      <td>1987</td>\n",
       "      <td>126842</td>\n",
       "      <td>1095029726</td>\n",
       "      <td>7545.45000</td>\n",
       "      <td>155769882274200.00000</td>\n",
       "      <td>5645760</td>\n",
       "    </tr>\n",
       "    <tr>\n",
       "      <th>29</th>\n",
       "      <td>1986</td>\n",
       "      <td>120670</td>\n",
       "      <td>1029909613</td>\n",
       "      <td>6579.84000</td>\n",
       "      <td>132609631982868.00000</td>\n",
       "      <td>4104636</td>\n",
       "    </tr>\n",
       "    <tr>\n",
       "      <th>30</th>\n",
       "      <td>1985</td>\n",
       "      <td>116063</td>\n",
       "      <td>1008600086</td>\n",
       "      <td>6811.89000</td>\n",
       "      <td>110964754234500.00000</td>\n",
       "      <td>3508548</td>\n",
       "    </tr>\n",
       "  </tbody>\n",
       "</table>\n",
       "</div>"
      ],
      "text/plain": [
       "    Year  Num_Suicides  Population  Suicides/100kPop              GDP/Year  \\\n",
       "31  2016         15603   132101896        2147.39000  29252100111210.00000   \n",
       "23  2015        203640  1774657932        8253.99000 580433884300596.00000   \n",
       "20  2014        222984  1912057309       10306.73000 672496725417372.00000   \n",
       "19  2013        223199  1890161710       10663.64000 685050211812900.00000   \n",
       "18  2012        230160  1912812088       11101.91000 676502580180480.00000   \n",
       "12  2011        236484  1993362332       11367.84000 678000047330112.00000   \n",
       "11  2010        238702  1997297329       11843.99000 625862405486292.00000   \n",
       "8   2009        243487  1976228366       12176.04000 584833269596760.00000   \n",
       "13  2008        235447  1860620851       12145.84000 619322403842760.00000   \n",
       "15  2007        233408  1859564353       12410.15000 576509655876756.00000   \n",
       "16  2006        233361  1840908837       12166.01000 517865365084944.00000   \n",
       "14  2005        234375  1734909645       12164.99000 475067354100216.00000   \n",
       "9   2004        240861  1745246613       12581.80000 450425300789256.00000   \n",
       "2   2003        256079  1838458020       13627.58000 405293412848580.00000   \n",
       "1   2002        256095  1822152815       14227.72000 361460007211452.00000   \n",
       "4   2001        250652  1755565489       14276.21000 348137752649964.00000   \n",
       "3   2000        255832  1799227908       14387.45000 352373683311288.00000   \n",
       "0   1999        256119  1776363155       14473.91000 343808646118668.00000   \n",
       "5   1998        249591  1725181351       14150.72000 330186954612684.00000   \n",
       "10  1997        240745  1702991519       13817.83000 330610567459320.00000   \n",
       "6   1996        246725  1662267662       14142.21000 335249321862228.00000   \n",
       "7   1995        243544  1591559103       14660.26000 329358922744728.00000   \n",
       "17  1994        232063  1548749372       11483.79000 293729643723660.00000   \n",
       "21  1993        221565  1530416654       10790.29000 271037019424788.00000   \n",
       "22  1992        211473  1569539447       10528.88000 268107812488032.00000   \n",
       "24  1991        198020  1489988384       10321.06000 252102888610440.00000   \n",
       "25  1990        193361  1466620100        9878.75000 236464399957008.00000   \n",
       "26  1989        160244  1225514347        8036.54000 191618261647176.00000   \n",
       "28  1988        121026  1054094424        7473.13000 175557691204476.00000   \n",
       "27  1987        126842  1095029726        7545.45000 155769882274200.00000   \n",
       "29  1986        120670  1029909613        6579.84000 132609631982868.00000   \n",
       "30  1985        116063  1008600086        6811.89000 110964754234500.00000   \n",
       "\n",
       "    GDP/Capita  \n",
       "31     4106420  \n",
       "23    19516008  \n",
       "20    25665252  \n",
       "19    26911368  \n",
       "18    26058300  \n",
       "12    26936148  \n",
       "11    25193196  \n",
       "8     24145248  \n",
       "13    26936208  \n",
       "15    24709620  \n",
       "16    21563784  \n",
       "14    20317212  \n",
       "9     17895936  \n",
       "2     15187104  \n",
       "1     13017420  \n",
       "4     12677892  \n",
       "3     12865476  \n",
       "0     12780864  \n",
       "5     11506728  \n",
       "10    11398596  \n",
       "6     11600736  \n",
       "7     11858508  \n",
       "17     9438756  \n",
       "21     8231796  \n",
       "22     8195232  \n",
       "24     7782096  \n",
       "25     7531260  \n",
       "26     6068424  \n",
       "28     5870508  \n",
       "27     5645760  \n",
       "29     4104636  \n",
       "30     3508548  "
      ]
     },
     "execution_count": 22,
     "metadata": {},
     "output_type": "execute_result"
    }
   ],
   "source": [
    "suicides_year.sort_values('Year', ascending = False)"
   ]
  },
  {
   "cell_type": "code",
   "execution_count": 23,
   "metadata": {},
   "outputs": [
    {
     "data": {
      "text/plain": [
       "Country              object\n",
       "Year                  int64\n",
       "Gender               object\n",
       "Age                  object\n",
       "Num_Suicides          int64\n",
       "Population            int64\n",
       "Suicides/100kPop    float64\n",
       "GDP/Year            float64\n",
       "GDP/Capita            int64\n",
       "Generation           object\n",
       "dtype: object"
      ]
     },
     "execution_count": 23,
     "metadata": {},
     "output_type": "execute_result"
    }
   ],
   "source": [
    "suicides.dtypes"
   ]
  },
  {
   "cell_type": "code",
   "execution_count": null,
   "metadata": {},
   "outputs": [],
   "source": []
  },
  {
   "cell_type": "markdown",
   "metadata": {},
   "source": [
    "# NO ME CUADRA:"
   ]
  },
  {
   "cell_type": "code",
   "execution_count": 24,
   "metadata": {
    "collapsed": true
   },
   "outputs": [],
   "source": [
    "## es lo que aparece en la tabla de arriba, pero no es muy poco? \n",
    "\n",
    "pop15 = suicides[suicides['Year'] == 2015]['Population'].sum()"
   ]
  },
  {
   "cell_type": "code",
   "execution_count": 25,
   "metadata": {},
   "outputs": [
    {
     "data": {
      "text/plain": [
       "1774657932"
      ]
     },
     "execution_count": 25,
     "metadata": {},
     "output_type": "execute_result"
    }
   ],
   "source": [
    "pop15"
   ]
  },
  {
   "cell_type": "markdown",
   "metadata": {
    "collapsed": true
   },
   "source": [
    "# ------"
   ]
  },
  {
   "cell_type": "code",
   "execution_count": 26,
   "metadata": {
    "collapsed": true
   },
   "outputs": [],
   "source": [
    "# Q4) Males or females commit suicide more in 2015?"
   ]
  },
  {
   "cell_type": "markdown",
   "metadata": {},
   "source": [
    "# QUESTION 4:\n",
    "\n",
    "# Males or females commit suicide more in 2015?"
   ]
  },
  {
   "cell_type": "code",
   "execution_count": 27,
   "metadata": {
    "collapsed": true
   },
   "outputs": [],
   "source": [
    "# To answer this question we are going to create a dataframe for the year 2015:\n",
    "\n",
    "suicides_2015 = suicides[suicides['Year'] == 2015]"
   ]
  },
  {
   "cell_type": "code",
   "execution_count": 28,
   "metadata": {
    "collapsed": true
   },
   "outputs": [],
   "source": [
    "# Now we are going to filter by the columns we need:\n",
    "\n",
    "s_gender2015 = suicides_2015[['Gender','Num_Suicides']].groupby('Gender').sum()"
   ]
  },
  {
   "cell_type": "markdown",
   "metadata": {},
   "source": [
    "## As we can see, the number of suicides in 2015 is higher in males than in females:\n"
   ]
  },
  {
   "cell_type": "code",
   "execution_count": 29,
   "metadata": {},
   "outputs": [
    {
     "data": {
      "text/html": [
       "<div>\n",
       "<style>\n",
       "    .dataframe thead tr:only-child th {\n",
       "        text-align: right;\n",
       "    }\n",
       "\n",
       "    .dataframe thead th {\n",
       "        text-align: left;\n",
       "    }\n",
       "\n",
       "    .dataframe tbody tr th {\n",
       "        vertical-align: top;\n",
       "    }\n",
       "</style>\n",
       "<table border=\"1\" class=\"dataframe\">\n",
       "  <thead>\n",
       "    <tr style=\"text-align: right;\">\n",
       "      <th></th>\n",
       "      <th>Num_Suicides</th>\n",
       "    </tr>\n",
       "    <tr>\n",
       "      <th>Gender</th>\n",
       "      <th></th>\n",
       "    </tr>\n",
       "  </thead>\n",
       "  <tbody>\n",
       "    <tr>\n",
       "      <th>female</th>\n",
       "      <td>47248</td>\n",
       "    </tr>\n",
       "    <tr>\n",
       "      <th>male</th>\n",
       "      <td>156392</td>\n",
       "    </tr>\n",
       "  </tbody>\n",
       "</table>\n",
       "</div>"
      ],
      "text/plain": [
       "        Num_Suicides\n",
       "Gender              \n",
       "female         47248\n",
       "male          156392"
      ]
     },
     "execution_count": 29,
     "metadata": {},
     "output_type": "execute_result"
    }
   ],
   "source": [
    "s_gender2015"
   ]
  },
  {
   "cell_type": "code",
   "execution_count": 30,
   "metadata": {
    "collapsed": true
   },
   "outputs": [],
   "source": [
    "# Top 10 countries with more suicides in year 2015 taking into account the number of suicides."
   ]
  },
  {
   "cell_type": "code",
   "execution_count": 31,
   "metadata": {
    "collapsed": true
   },
   "outputs": [],
   "source": [
    "top10countriesbynum = suicides_2015[['Country','Num_Suicides']].groupby('Country').sum().sort_values(\"Num_Suicides\", ascending=False)[0:10]"
   ]
  },
  {
   "cell_type": "code",
   "execution_count": 32,
   "metadata": {},
   "outputs": [
    {
     "data": {
      "text/html": [
       "<div>\n",
       "<style>\n",
       "    .dataframe thead tr:only-child th {\n",
       "        text-align: right;\n",
       "    }\n",
       "\n",
       "    .dataframe thead th {\n",
       "        text-align: left;\n",
       "    }\n",
       "\n",
       "    .dataframe tbody tr th {\n",
       "        vertical-align: top;\n",
       "    }\n",
       "</style>\n",
       "<table border=\"1\" class=\"dataframe\">\n",
       "  <thead>\n",
       "    <tr style=\"text-align: right;\">\n",
       "      <th></th>\n",
       "      <th>Num_Suicides</th>\n",
       "    </tr>\n",
       "    <tr>\n",
       "      <th>Country</th>\n",
       "      <th></th>\n",
       "    </tr>\n",
       "  </thead>\n",
       "  <tbody>\n",
       "    <tr>\n",
       "      <th>United States</th>\n",
       "      <td>44189</td>\n",
       "    </tr>\n",
       "    <tr>\n",
       "      <th>Russian Federation</th>\n",
       "      <td>25432</td>\n",
       "    </tr>\n",
       "    <tr>\n",
       "      <th>Japan</th>\n",
       "      <td>23092</td>\n",
       "    </tr>\n",
       "    <tr>\n",
       "      <th>Republic of Korea</th>\n",
       "      <td>13510</td>\n",
       "    </tr>\n",
       "    <tr>\n",
       "      <th>Brazil</th>\n",
       "      <td>11163</td>\n",
       "    </tr>\n",
       "    <tr>\n",
       "      <th>Germany</th>\n",
       "      <td>10088</td>\n",
       "    </tr>\n",
       "    <tr>\n",
       "      <th>Ukraine</th>\n",
       "      <td>7574</td>\n",
       "    </tr>\n",
       "    <tr>\n",
       "      <th>Mexico</th>\n",
       "      <td>6234</td>\n",
       "    </tr>\n",
       "    <tr>\n",
       "      <th>Poland</th>\n",
       "      <td>5420</td>\n",
       "    </tr>\n",
       "    <tr>\n",
       "      <th>United Kingdom</th>\n",
       "      <td>4910</td>\n",
       "    </tr>\n",
       "  </tbody>\n",
       "</table>\n",
       "</div>"
      ],
      "text/plain": [
       "                    Num_Suicides\n",
       "Country                         \n",
       "United States              44189\n",
       "Russian Federation         25432\n",
       "Japan                      23092\n",
       "Republic of Korea          13510\n",
       "Brazil                     11163\n",
       "Germany                    10088\n",
       "Ukraine                     7574\n",
       "Mexico                      6234\n",
       "Poland                      5420\n",
       "United Kingdom              4910"
      ]
     },
     "execution_count": 32,
     "metadata": {},
     "output_type": "execute_result"
    }
   ],
   "source": [
    "top10countriesbynum"
   ]
  },
  {
   "cell_type": "markdown",
   "metadata": {},
   "source": [
    "# Now we realize that took into account the num of suicides. But if we take into account the size of the population, results can be different. Let's check:\n",
    "\n",
    "\n"
   ]
  },
  {
   "cell_type": "code",
   "execution_count": 33,
   "metadata": {
    "collapsed": true
   },
   "outputs": [],
   "source": [
    "top10bysize = suicides_2015[['Country','Suicides/100kPop']].groupby('Country').sum().sort_values(\"Suicides/100kPop\", ascending=False)[0:10]"
   ]
  },
  {
   "cell_type": "code",
   "execution_count": 34,
   "metadata": {
    "scrolled": true
   },
   "outputs": [
    {
     "data": {
      "text/html": [
       "<div>\n",
       "<style>\n",
       "    .dataframe thead tr:only-child th {\n",
       "        text-align: right;\n",
       "    }\n",
       "\n",
       "    .dataframe thead th {\n",
       "        text-align: left;\n",
       "    }\n",
       "\n",
       "    .dataframe tbody tr th {\n",
       "        vertical-align: top;\n",
       "    }\n",
       "</style>\n",
       "<table border=\"1\" class=\"dataframe\">\n",
       "  <thead>\n",
       "    <tr style=\"text-align: right;\">\n",
       "      <th></th>\n",
       "      <th>Suicides/100kPop</th>\n",
       "    </tr>\n",
       "    <tr>\n",
       "      <th>Country</th>\n",
       "      <th></th>\n",
       "    </tr>\n",
       "  </thead>\n",
       "  <tbody>\n",
       "    <tr>\n",
       "      <th>Republic of Korea</th>\n",
       "      <td>389.14000</td>\n",
       "    </tr>\n",
       "    <tr>\n",
       "      <th>Lithuania</th>\n",
       "      <td>385.48000</td>\n",
       "    </tr>\n",
       "    <tr>\n",
       "      <th>Uruguay</th>\n",
       "      <td>270.02000</td>\n",
       "    </tr>\n",
       "    <tr>\n",
       "      <th>Slovenia</th>\n",
       "      <td>264.81000</td>\n",
       "    </tr>\n",
       "    <tr>\n",
       "      <th>Hungary</th>\n",
       "      <td>257.27000</td>\n",
       "    </tr>\n",
       "    <tr>\n",
       "      <th>Latvia</th>\n",
       "      <td>251.47000</td>\n",
       "    </tr>\n",
       "    <tr>\n",
       "      <th>Ukraine</th>\n",
       "      <td>244.72000</td>\n",
       "    </tr>\n",
       "    <tr>\n",
       "      <th>Kazakhstan</th>\n",
       "      <td>238.02000</td>\n",
       "    </tr>\n",
       "    <tr>\n",
       "      <th>Russian Federation</th>\n",
       "      <td>236.92000</td>\n",
       "    </tr>\n",
       "    <tr>\n",
       "      <th>Croatia</th>\n",
       "      <td>229.68000</td>\n",
       "    </tr>\n",
       "  </tbody>\n",
       "</table>\n",
       "</div>"
      ],
      "text/plain": [
       "                    Suicides/100kPop\n",
       "Country                             \n",
       "Republic of Korea          389.14000\n",
       "Lithuania                  385.48000\n",
       "Uruguay                    270.02000\n",
       "Slovenia                   264.81000\n",
       "Hungary                    257.27000\n",
       "Latvia                     251.47000\n",
       "Ukraine                    244.72000\n",
       "Kazakhstan                 238.02000\n",
       "Russian Federation         236.92000\n",
       "Croatia                    229.68000"
      ]
     },
     "execution_count": 34,
     "metadata": {},
     "output_type": "execute_result"
    }
   ],
   "source": [
    "top10bysize"
   ]
  },
  {
   "cell_type": "markdown",
   "metadata": {},
   "source": [
    "### Taking the size of the population into account, we realize that only  Russia, Ukraine and Republic of Korea appears in this new ranking."
   ]
  },
  {
   "cell_type": "code",
   "execution_count": 35,
   "metadata": {},
   "outputs": [],
   "source": [
    "# Creating an intersection by index to see which countries appears in both rankings.\n",
    "idx1 = pd.Index(top10bysize.index)\n",
    "idx2 = pd.Index(top10countriesbynum.index)"
   ]
  },
  {
   "cell_type": "code",
   "execution_count": 36,
   "metadata": {},
   "outputs": [],
   "source": [
    "set_intersection = idx1.intersection(idx2)"
   ]
  },
  {
   "cell_type": "code",
   "execution_count": 37,
   "metadata": {},
   "outputs": [
    {
     "data": {
      "text/plain": [
       "Index(['Republic of Korea', 'Ukraine', 'Russian Federation'], dtype='object', name='Country')"
      ]
     },
     "execution_count": 37,
     "metadata": {},
     "output_type": "execute_result"
    }
   ],
   "source": [
    "set_intersection"
   ]
  },
  {
   "cell_type": "markdown",
   "metadata": {},
   "source": [
    "## Now we will do the same but by gender:"
   ]
  },
  {
   "cell_type": "markdown",
   "metadata": {},
   "source": [
    "### MALES : TOP 10 COUNTRIES BY NUM"
   ]
  },
  {
   "cell_type": "code",
   "execution_count": 38,
   "metadata": {},
   "outputs": [],
   "source": [
    "top10malesbynum = suicides_2015[['Country','Gender','Num_Suicides']].loc[suicides_2015['Gender']=='male'].groupby('Country').sum().sort_values(\"Num_Suicides\", ascending=False)[0:10]"
   ]
  },
  {
   "cell_type": "code",
   "execution_count": 39,
   "metadata": {},
   "outputs": [
    {
     "data": {
      "text/html": [
       "<div>\n",
       "<style>\n",
       "    .dataframe thead tr:only-child th {\n",
       "        text-align: right;\n",
       "    }\n",
       "\n",
       "    .dataframe thead th {\n",
       "        text-align: left;\n",
       "    }\n",
       "\n",
       "    .dataframe tbody tr th {\n",
       "        vertical-align: top;\n",
       "    }\n",
       "</style>\n",
       "<table border=\"1\" class=\"dataframe\">\n",
       "  <thead>\n",
       "    <tr style=\"text-align: right;\">\n",
       "      <th></th>\n",
       "      <th>Num_Suicides</th>\n",
       "    </tr>\n",
       "    <tr>\n",
       "      <th>Country</th>\n",
       "      <th></th>\n",
       "    </tr>\n",
       "  </thead>\n",
       "  <tbody>\n",
       "    <tr>\n",
       "      <th>United States</th>\n",
       "      <td>33990</td>\n",
       "    </tr>\n",
       "    <tr>\n",
       "      <th>Russian Federation</th>\n",
       "      <td>20861</td>\n",
       "    </tr>\n",
       "    <tr>\n",
       "      <th>Japan</th>\n",
       "      <td>16146</td>\n",
       "    </tr>\n",
       "    <tr>\n",
       "      <th>Republic of Korea</th>\n",
       "      <td>9556</td>\n",
       "    </tr>\n",
       "    <tr>\n",
       "      <th>Brazil</th>\n",
       "      <td>8766</td>\n",
       "    </tr>\n",
       "    <tr>\n",
       "      <th>Germany</th>\n",
       "      <td>7403</td>\n",
       "    </tr>\n",
       "    <tr>\n",
       "      <th>Ukraine</th>\n",
       "      <td>6148</td>\n",
       "    </tr>\n",
       "    <tr>\n",
       "      <th>Mexico</th>\n",
       "      <td>4986</td>\n",
       "    </tr>\n",
       "    <tr>\n",
       "      <th>Poland</th>\n",
       "      <td>4697</td>\n",
       "    </tr>\n",
       "    <tr>\n",
       "      <th>United Kingdom</th>\n",
       "      <td>3732</td>\n",
       "    </tr>\n",
       "  </tbody>\n",
       "</table>\n",
       "</div>"
      ],
      "text/plain": [
       "                    Num_Suicides\n",
       "Country                         \n",
       "United States              33990\n",
       "Russian Federation         20861\n",
       "Japan                      16146\n",
       "Republic of Korea           9556\n",
       "Brazil                      8766\n",
       "Germany                     7403\n",
       "Ukraine                     6148\n",
       "Mexico                      4986\n",
       "Poland                      4697\n",
       "United Kingdom              3732"
      ]
     },
     "execution_count": 39,
     "metadata": {},
     "output_type": "execute_result"
    }
   ],
   "source": [
    "top10malesbynum"
   ]
  },
  {
   "cell_type": "markdown",
   "metadata": {},
   "source": [
    "### FEMALES : TOP 10 COUNTRIES BY NUM"
   ]
  },
  {
   "cell_type": "code",
   "execution_count": 40,
   "metadata": {
    "collapsed": true
   },
   "outputs": [],
   "source": [
    "top10femalesbynum = suicides_2015[['Country','Gender','Num_Suicides']].loc[suicides_2015['Gender']=='female'].groupby('Country').sum().sort_values(\"Num_Suicides\", ascending=False)[0:10]"
   ]
  },
  {
   "cell_type": "code",
   "execution_count": 41,
   "metadata": {},
   "outputs": [
    {
     "data": {
      "text/html": [
       "<div>\n",
       "<style>\n",
       "    .dataframe thead tr:only-child th {\n",
       "        text-align: right;\n",
       "    }\n",
       "\n",
       "    .dataframe thead th {\n",
       "        text-align: left;\n",
       "    }\n",
       "\n",
       "    .dataframe tbody tr th {\n",
       "        vertical-align: top;\n",
       "    }\n",
       "</style>\n",
       "<table border=\"1\" class=\"dataframe\">\n",
       "  <thead>\n",
       "    <tr style=\"text-align: right;\">\n",
       "      <th></th>\n",
       "      <th>Num_Suicides</th>\n",
       "    </tr>\n",
       "    <tr>\n",
       "      <th>Country</th>\n",
       "      <th></th>\n",
       "    </tr>\n",
       "  </thead>\n",
       "  <tbody>\n",
       "    <tr>\n",
       "      <th>United States</th>\n",
       "      <td>10199</td>\n",
       "    </tr>\n",
       "    <tr>\n",
       "      <th>Japan</th>\n",
       "      <td>6946</td>\n",
       "    </tr>\n",
       "    <tr>\n",
       "      <th>Russian Federation</th>\n",
       "      <td>4571</td>\n",
       "    </tr>\n",
       "    <tr>\n",
       "      <th>Republic of Korea</th>\n",
       "      <td>3954</td>\n",
       "    </tr>\n",
       "    <tr>\n",
       "      <th>Germany</th>\n",
       "      <td>2685</td>\n",
       "    </tr>\n",
       "    <tr>\n",
       "      <th>Brazil</th>\n",
       "      <td>2397</td>\n",
       "    </tr>\n",
       "    <tr>\n",
       "      <th>Ukraine</th>\n",
       "      <td>1426</td>\n",
       "    </tr>\n",
       "    <tr>\n",
       "      <th>Mexico</th>\n",
       "      <td>1248</td>\n",
       "    </tr>\n",
       "    <tr>\n",
       "      <th>United Kingdom</th>\n",
       "      <td>1178</td>\n",
       "    </tr>\n",
       "    <tr>\n",
       "      <th>Spain</th>\n",
       "      <td>923</td>\n",
       "    </tr>\n",
       "  </tbody>\n",
       "</table>\n",
       "</div>"
      ],
      "text/plain": [
       "                    Num_Suicides\n",
       "Country                         \n",
       "United States              10199\n",
       "Japan                       6946\n",
       "Russian Federation          4571\n",
       "Republic of Korea           3954\n",
       "Germany                     2685\n",
       "Brazil                      2397\n",
       "Ukraine                     1426\n",
       "Mexico                      1248\n",
       "United Kingdom              1178\n",
       "Spain                        923"
      ]
     },
     "execution_count": 41,
     "metadata": {},
     "output_type": "execute_result"
    }
   ],
   "source": [
    "top10femalesbynum"
   ]
  },
  {
   "cell_type": "code",
   "execution_count": 42,
   "metadata": {
    "collapsed": true
   },
   "outputs": [],
   "source": [
    "# Creating an intersection by index to see if the countries with a higher number of suicides\n",
    "# are the same countries for both genres.\n",
    "\n",
    "idgnf = pd.Index(top10femalesbynum.index)\n",
    "idgnm = pd.Index(top10malesbynum.index)"
   ]
  },
  {
   "cell_type": "code",
   "execution_count": 43,
   "metadata": {},
   "outputs": [],
   "source": [
    "set_intersection = idgnf.intersection(idgnm)"
   ]
  },
  {
   "cell_type": "code",
   "execution_count": 44,
   "metadata": {},
   "outputs": [
    {
     "data": {
      "text/plain": [
       "Index(['United States', 'Japan', 'Russian Federation', 'Republic of Korea',\n",
       "       'Germany', 'Brazil', 'Ukraine', 'Mexico', 'United Kingdom'],\n",
       "      dtype='object', name='Country')"
      ]
     },
     "execution_count": 44,
     "metadata": {},
     "output_type": "execute_result"
    }
   ],
   "source": [
    "set_intersection"
   ]
  },
  {
   "cell_type": "markdown",
   "metadata": {},
   "source": [
    "### As we can see 9 out of 10 countries match"
   ]
  },
  {
   "cell_type": "code",
   "execution_count": 45,
   "metadata": {},
   "outputs": [
    {
     "data": {
      "text/plain": [
       "Index(['Spain'], dtype='object', name='Country')"
      ]
     },
     "execution_count": 45,
     "metadata": {},
     "output_type": "execute_result"
    }
   ],
   "source": [
    "# Spain appears in top10 of countries where females commit suicides.\n",
    "\n",
    "idgnf.difference(idgnm)"
   ]
  },
  {
   "cell_type": "code",
   "execution_count": 46,
   "metadata": {},
   "outputs": [
    {
     "data": {
      "text/plain": [
       "Index(['Poland'], dtype='object', name='Country')"
      ]
     },
     "execution_count": 46,
     "metadata": {},
     "output_type": "execute_result"
    }
   ],
   "source": [
    "# Poland appears in top10 of countries where males commit suicides.\n",
    "\n",
    "idgnm.difference(idgnf)"
   ]
  },
  {
   "cell_type": "markdown",
   "metadata": {},
   "source": [
    "### MALE: TOP 10 COUNTRIES BY SIZE\n"
   ]
  },
  {
   "cell_type": "code",
   "execution_count": 47,
   "metadata": {
    "collapsed": true
   },
   "outputs": [],
   "source": [
    "top10malesbysize = suicides_2015[['Country','Gender','Suicides/100kPop']].loc[suicides_2015['Gender']=='male'].groupby('Country').sum().sort_values(\"Suicides/100kPop\", ascending=False)[0:10]\n"
   ]
  },
  {
   "cell_type": "code",
   "execution_count": 48,
   "metadata": {},
   "outputs": [
    {
     "data": {
      "text/html": [
       "<div>\n",
       "<style>\n",
       "    .dataframe thead tr:only-child th {\n",
       "        text-align: right;\n",
       "    }\n",
       "\n",
       "    .dataframe thead th {\n",
       "        text-align: left;\n",
       "    }\n",
       "\n",
       "    .dataframe tbody tr th {\n",
       "        vertical-align: top;\n",
       "    }\n",
       "</style>\n",
       "<table border=\"1\" class=\"dataframe\">\n",
       "  <thead>\n",
       "    <tr style=\"text-align: right;\">\n",
       "      <th></th>\n",
       "      <th>Suicides/100kPop</th>\n",
       "    </tr>\n",
       "    <tr>\n",
       "      <th>Country</th>\n",
       "      <th></th>\n",
       "    </tr>\n",
       "  </thead>\n",
       "  <tbody>\n",
       "    <tr>\n",
       "      <th>Lithuania</th>\n",
       "      <td>323.31000</td>\n",
       "    </tr>\n",
       "    <tr>\n",
       "      <th>Republic of Korea</th>\n",
       "      <td>285.19000</td>\n",
       "    </tr>\n",
       "    <tr>\n",
       "      <th>Uruguay</th>\n",
       "      <td>223.03000</td>\n",
       "    </tr>\n",
       "    <tr>\n",
       "      <th>Slovenia</th>\n",
       "      <td>217.67000</td>\n",
       "    </tr>\n",
       "    <tr>\n",
       "      <th>Latvia</th>\n",
       "      <td>211.07000</td>\n",
       "    </tr>\n",
       "    <tr>\n",
       "      <th>Ukraine</th>\n",
       "      <td>206.64000</td>\n",
       "    </tr>\n",
       "    <tr>\n",
       "      <th>Hungary</th>\n",
       "      <td>203.39000</td>\n",
       "    </tr>\n",
       "    <tr>\n",
       "      <th>Russian Federation</th>\n",
       "      <td>199.26000</td>\n",
       "    </tr>\n",
       "    <tr>\n",
       "      <th>Kazakhstan</th>\n",
       "      <td>195.35000</td>\n",
       "    </tr>\n",
       "    <tr>\n",
       "      <th>Croatia</th>\n",
       "      <td>178.05000</td>\n",
       "    </tr>\n",
       "  </tbody>\n",
       "</table>\n",
       "</div>"
      ],
      "text/plain": [
       "                    Suicides/100kPop\n",
       "Country                             \n",
       "Lithuania                  323.31000\n",
       "Republic of Korea          285.19000\n",
       "Uruguay                    223.03000\n",
       "Slovenia                   217.67000\n",
       "Latvia                     211.07000\n",
       "Ukraine                    206.64000\n",
       "Hungary                    203.39000\n",
       "Russian Federation         199.26000\n",
       "Kazakhstan                 195.35000\n",
       "Croatia                    178.05000"
      ]
     },
     "execution_count": 48,
     "metadata": {},
     "output_type": "execute_result"
    }
   ],
   "source": [
    "top10malesbysize"
   ]
  },
  {
   "cell_type": "markdown",
   "metadata": {
    "collapsed": true
   },
   "source": [
    "### FEMALE: TOP 10 COUNTRIES BY SIZE"
   ]
  },
  {
   "cell_type": "code",
   "execution_count": 49,
   "metadata": {
    "collapsed": true
   },
   "outputs": [],
   "source": [
    "top10femalesbysize = suicides_2015[['Country','Gender','Suicides/100kPop']].loc[suicides_2015['Gender']=='female'].groupby('Country').sum().sort_values(\"Suicides/100kPop\", ascending=False)[0:10]\n"
   ]
  },
  {
   "cell_type": "code",
   "execution_count": 50,
   "metadata": {},
   "outputs": [
    {
     "data": {
      "text/html": [
       "<div>\n",
       "<style>\n",
       "    .dataframe thead tr:only-child th {\n",
       "        text-align: right;\n",
       "    }\n",
       "\n",
       "    .dataframe thead th {\n",
       "        text-align: left;\n",
       "    }\n",
       "\n",
       "    .dataframe tbody tr th {\n",
       "        vertical-align: top;\n",
       "    }\n",
       "</style>\n",
       "<table border=\"1\" class=\"dataframe\">\n",
       "  <thead>\n",
       "    <tr style=\"text-align: right;\">\n",
       "      <th></th>\n",
       "      <th>Suicides/100kPop</th>\n",
       "    </tr>\n",
       "    <tr>\n",
       "      <th>Country</th>\n",
       "      <th></th>\n",
       "    </tr>\n",
       "  </thead>\n",
       "  <tbody>\n",
       "    <tr>\n",
       "      <th>Republic of Korea</th>\n",
       "      <td>103.95000</td>\n",
       "    </tr>\n",
       "    <tr>\n",
       "      <th>Lithuania</th>\n",
       "      <td>62.17000</td>\n",
       "    </tr>\n",
       "    <tr>\n",
       "      <th>Japan</th>\n",
       "      <td>58.29000</td>\n",
       "    </tr>\n",
       "    <tr>\n",
       "      <th>Hungary</th>\n",
       "      <td>53.88000</td>\n",
       "    </tr>\n",
       "    <tr>\n",
       "      <th>Belgium</th>\n",
       "      <td>52.21000</td>\n",
       "    </tr>\n",
       "    <tr>\n",
       "      <th>Croatia</th>\n",
       "      <td>51.63000</td>\n",
       "    </tr>\n",
       "    <tr>\n",
       "      <th>Slovenia</th>\n",
       "      <td>47.14000</td>\n",
       "    </tr>\n",
       "    <tr>\n",
       "      <th>Uruguay</th>\n",
       "      <td>46.99000</td>\n",
       "    </tr>\n",
       "    <tr>\n",
       "      <th>Iceland</th>\n",
       "      <td>45.69000</td>\n",
       "    </tr>\n",
       "    <tr>\n",
       "      <th>Serbia</th>\n",
       "      <td>45.29000</td>\n",
       "    </tr>\n",
       "  </tbody>\n",
       "</table>\n",
       "</div>"
      ],
      "text/plain": [
       "                   Suicides/100kPop\n",
       "Country                            \n",
       "Republic of Korea         103.95000\n",
       "Lithuania                  62.17000\n",
       "Japan                      58.29000\n",
       "Hungary                    53.88000\n",
       "Belgium                    52.21000\n",
       "Croatia                    51.63000\n",
       "Slovenia                   47.14000\n",
       "Uruguay                    46.99000\n",
       "Iceland                    45.69000\n",
       "Serbia                     45.29000"
      ]
     },
     "execution_count": 50,
     "metadata": {},
     "output_type": "execute_result"
    }
   ],
   "source": [
    "top10femalesbysize"
   ]
  },
  {
   "cell_type": "code",
   "execution_count": 51,
   "metadata": {
    "collapsed": true
   },
   "outputs": [],
   "source": [
    "# Creating an intersection by index to see if the countries with a higher number of suicides \n",
    "# by size of the population are the same countries for both genres.\n",
    "\n",
    "idgsf = pd.Index(top10femalesbysize.index)\n",
    "idgsm = pd.Index(top10malesbysize.index)"
   ]
  },
  {
   "cell_type": "code",
   "execution_count": 52,
   "metadata": {
    "collapsed": true
   },
   "outputs": [],
   "source": [
    "set_intersection = idgsf.intersection(idgsm)"
   ]
  },
  {
   "cell_type": "code",
   "execution_count": 53,
   "metadata": {},
   "outputs": [
    {
     "data": {
      "text/plain": [
       "Index(['Republic of Korea', 'Lithuania', 'Hungary', 'Croatia', 'Slovenia',\n",
       "       'Uruguay'],\n",
       "      dtype='object', name='Country')"
      ]
     },
     "execution_count": 53,
     "metadata": {},
     "output_type": "execute_result"
    }
   ],
   "source": [
    "set_intersection"
   ]
  },
  {
   "cell_type": "code",
   "execution_count": 54,
   "metadata": {},
   "outputs": [
    {
     "data": {
      "text/plain": [
       "Index(['Belgium', 'Iceland', 'Japan', 'Serbia'], dtype='object', name='Country')"
      ]
     },
     "execution_count": 54,
     "metadata": {},
     "output_type": "execute_result"
    }
   ],
   "source": [
    "# females but no males:\n",
    "\n",
    "idgsf.difference(idgsm)"
   ]
  },
  {
   "cell_type": "code",
   "execution_count": 55,
   "metadata": {},
   "outputs": [
    {
     "data": {
      "text/plain": [
       "Index(['Kazakhstan', 'Latvia', 'Russian Federation', 'Ukraine'], dtype='object', name='Country')"
      ]
     },
     "execution_count": 55,
     "metadata": {},
     "output_type": "execute_result"
    }
   ],
   "source": [
    "# males but not females:\n",
    "\n",
    "idgsm.difference(idgsf)"
   ]
  },
  {
   "cell_type": "markdown",
   "metadata": {},
   "source": [
    "### In this case, the countries Republic of Korea,  Lithuania, Hungary, Croatia, Slovenia and Uruguay match for both genres.\n",
    "\n",
    "### But Belgiun, Iceland, Japan and Serbia appear in the top 10 for females while Kazakhstan, Latvia, Russian Federation and Ukraine appear in the top 10 for males."
   ]
  },
  {
   "cell_type": "code",
   "execution_count": null,
   "metadata": {
    "collapsed": true
   },
   "outputs": [],
   "source": []
  },
  {
   "cell_type": "markdown",
   "metadata": {},
   "source": [
    "# QUESTION 5: \n",
    "\n",
    "#  Which generation has committed suicide the most/least?\n"
   ]
  },
  {
   "cell_type": "code",
   "execution_count": 56,
   "metadata": {},
   "outputs": [
    {
     "data": {
      "text/html": [
       "<div>\n",
       "<style>\n",
       "    .dataframe thead tr:only-child th {\n",
       "        text-align: right;\n",
       "    }\n",
       "\n",
       "    .dataframe thead th {\n",
       "        text-align: left;\n",
       "    }\n",
       "\n",
       "    .dataframe tbody tr th {\n",
       "        vertical-align: top;\n",
       "    }\n",
       "</style>\n",
       "<table border=\"1\" class=\"dataframe\">\n",
       "  <thead>\n",
       "    <tr style=\"text-align: right;\">\n",
       "      <th></th>\n",
       "      <th>Country</th>\n",
       "      <th>Year</th>\n",
       "      <th>Gender</th>\n",
       "      <th>Age</th>\n",
       "      <th>Num_Suicides</th>\n",
       "      <th>Population</th>\n",
       "      <th>Suicides/100kPop</th>\n",
       "      <th>GDP/Year</th>\n",
       "      <th>GDP/Capita</th>\n",
       "      <th>Generation</th>\n",
       "    </tr>\n",
       "  </thead>\n",
       "  <tbody>\n",
       "    <tr>\n",
       "      <th>576</th>\n",
       "      <td>Antigua and Barbuda</td>\n",
       "      <td>2015</td>\n",
       "      <td>female</td>\n",
       "      <td>55-74 years</td>\n",
       "      <td>1</td>\n",
       "      <td>6403</td>\n",
       "      <td>15.62000</td>\n",
       "      <td>1364863037.00000</td>\n",
       "      <td>14853</td>\n",
       "      <td>Boomers</td>\n",
       "    </tr>\n",
       "    <tr>\n",
       "      <th>577</th>\n",
       "      <td>Antigua and Barbuda</td>\n",
       "      <td>2015</td>\n",
       "      <td>female</td>\n",
       "      <td>15-24 years</td>\n",
       "      <td>0</td>\n",
       "      <td>8561</td>\n",
       "      <td>0.00000</td>\n",
       "      <td>1364863037.00000</td>\n",
       "      <td>14853</td>\n",
       "      <td>Millenials</td>\n",
       "    </tr>\n",
       "  </tbody>\n",
       "</table>\n",
       "</div>"
      ],
      "text/plain": [
       "                 Country  Year  Gender          Age  Num_Suicides  Population  \\\n",
       "576  Antigua and Barbuda  2015  female  55-74 years             1        6403   \n",
       "577  Antigua and Barbuda  2015  female  15-24 years             0        8561   \n",
       "\n",
       "     Suicides/100kPop         GDP/Year  GDP/Capita  Generation  \n",
       "576          15.62000 1364863037.00000       14853     Boomers  \n",
       "577           0.00000 1364863037.00000       14853  Millenials  "
      ]
     },
     "execution_count": 56,
     "metadata": {},
     "output_type": "execute_result"
    }
   ],
   "source": [
    "# checking the data \n",
    "\n",
    "suicides_2015.head(2)"
   ]
  },
  {
   "cell_type": "code",
   "execution_count": null,
   "metadata": {},
   "outputs": [],
   "source": []
  },
  {
   "cell_type": "markdown",
   "metadata": {},
   "source": [
    "## Let's check the number of suicides grouped by generations:"
   ]
  },
  {
   "cell_type": "markdown",
   "metadata": {},
   "source": [
    "## First, we will see which generation committed more suicides from 2000 till 2015"
   ]
  },
  {
   "cell_type": "code",
   "execution_count": 73,
   "metadata": {
    "collapsed": true
   },
   "outputs": [],
   "source": [
    "# Change 'Year' to integer so we can filter by years.\n",
    "suicides_new = suicides.astype({\"Year\": 'int64'})"
   ]
  },
  {
   "cell_type": "code",
   "execution_count": 74,
   "metadata": {},
   "outputs": [],
   "source": [
    "# This will be our filter\n",
    "mask = (suicides_new['Year'] >= 2000) & (suicides_new['Year'] < 2016)"
   ]
  },
  {
   "cell_type": "code",
   "execution_count": 83,
   "metadata": {},
   "outputs": [],
   "source": [
    "df = suicides_new.loc[mask]"
   ]
  },
  {
   "cell_type": "code",
   "execution_count": 84,
   "metadata": {},
   "outputs": [
    {
     "data": {
      "text/html": [
       "<div>\n",
       "<style>\n",
       "    .dataframe thead tr:only-child th {\n",
       "        text-align: right;\n",
       "    }\n",
       "\n",
       "    .dataframe thead th {\n",
       "        text-align: left;\n",
       "    }\n",
       "\n",
       "    .dataframe tbody tr th {\n",
       "        vertical-align: top;\n",
       "    }\n",
       "</style>\n",
       "<table border=\"1\" class=\"dataframe\">\n",
       "  <thead>\n",
       "    <tr style=\"text-align: right;\">\n",
       "      <th></th>\n",
       "      <th>Country</th>\n",
       "      <th>Year</th>\n",
       "      <th>Gender</th>\n",
       "      <th>Age</th>\n",
       "      <th>Num_Suicides</th>\n",
       "      <th>Population</th>\n",
       "      <th>Suicides/100kPop</th>\n",
       "      <th>GDP/Year</th>\n",
       "      <th>GDP/Capita</th>\n",
       "      <th>Generation</th>\n",
       "    </tr>\n",
       "  </thead>\n",
       "  <tbody>\n",
       "    <tr>\n",
       "      <th>132</th>\n",
       "      <td>Albania</td>\n",
       "      <td>2000</td>\n",
       "      <td>male</td>\n",
       "      <td>25-34 years</td>\n",
       "      <td>17</td>\n",
       "      <td>232000</td>\n",
       "      <td>7.33000</td>\n",
       "      <td>3632043908.00000</td>\n",
       "      <td>1299</td>\n",
       "      <td>Generation X</td>\n",
       "    </tr>\n",
       "    <tr>\n",
       "      <th>133</th>\n",
       "      <td>Albania</td>\n",
       "      <td>2000</td>\n",
       "      <td>male</td>\n",
       "      <td>55-74 years</td>\n",
       "      <td>10</td>\n",
       "      <td>177400</td>\n",
       "      <td>5.64000</td>\n",
       "      <td>3632043908.00000</td>\n",
       "      <td>1299</td>\n",
       "      <td>Silent</td>\n",
       "    </tr>\n",
       "  </tbody>\n",
       "</table>\n",
       "</div>"
      ],
      "text/plain": [
       "     Country  Year Gender          Age  Num_Suicides  Population  \\\n",
       "132  Albania  2000   male  25-34 years            17      232000   \n",
       "133  Albania  2000   male  55-74 years            10      177400   \n",
       "\n",
       "     Suicides/100kPop         GDP/Year  GDP/Capita    Generation  \n",
       "132           7.33000 3632043908.00000        1299  Generation X  \n",
       "133           5.64000 3632043908.00000        1299        Silent  "
      ]
     },
     "execution_count": 84,
     "metadata": {},
     "output_type": "execute_result"
    }
   ],
   "source": [
    "# new data frame from 2000 till 2015 \n",
    "df.head(2)"
   ]
  },
  {
   "cell_type": "code",
   "execution_count": 100,
   "metadata": {},
   "outputs": [],
   "source": [
    "df1 = df[['Generation', 'Age','Num_Suicides']]"
   ]
  },
  {
   "cell_type": "code",
   "execution_count": 101,
   "metadata": {},
   "outputs": [
    {
     "data": {
      "text/html": [
       "<div>\n",
       "<style>\n",
       "    .dataframe thead tr:only-child th {\n",
       "        text-align: right;\n",
       "    }\n",
       "\n",
       "    .dataframe thead th {\n",
       "        text-align: left;\n",
       "    }\n",
       "\n",
       "    .dataframe tbody tr th {\n",
       "        vertical-align: top;\n",
       "    }\n",
       "</style>\n",
       "<table border=\"1\" class=\"dataframe\">\n",
       "  <thead>\n",
       "    <tr style=\"text-align: right;\">\n",
       "      <th></th>\n",
       "      <th></th>\n",
       "      <th>Num_Suicides</th>\n",
       "    </tr>\n",
       "    <tr>\n",
       "      <th>Generation</th>\n",
       "      <th>Age</th>\n",
       "      <th></th>\n",
       "    </tr>\n",
       "  </thead>\n",
       "  <tbody>\n",
       "    <tr>\n",
       "      <th rowspan=\"2\" valign=\"top\">Boomers</th>\n",
       "      <th>35-54 years</th>\n",
       "      <td>923044</td>\n",
       "    </tr>\n",
       "    <tr>\n",
       "      <th>55-74 years</th>\n",
       "      <td>286601</td>\n",
       "    </tr>\n",
       "    <tr>\n",
       "      <th>G.I. Generation</th>\n",
       "      <th>75+ years</th>\n",
       "      <td>21633</td>\n",
       "    </tr>\n",
       "    <tr>\n",
       "      <th rowspan=\"3\" valign=\"top\">Generation X</th>\n",
       "      <th>15-24 years</th>\n",
       "      <td>31742</td>\n",
       "    </tr>\n",
       "    <tr>\n",
       "      <th>25-34 years</th>\n",
       "      <td>430755</td>\n",
       "    </tr>\n",
       "    <tr>\n",
       "      <th>35-54 years</th>\n",
       "      <td>485848</td>\n",
       "    </tr>\n",
       "    <tr>\n",
       "      <th>Generation Z</th>\n",
       "      <th>5-14 years</th>\n",
       "      <td>15906</td>\n",
       "    </tr>\n",
       "    <tr>\n",
       "      <th rowspan=\"3\" valign=\"top\">Millenials</th>\n",
       "      <th>15-24 years</th>\n",
       "      <td>413035</td>\n",
       "    </tr>\n",
       "    <tr>\n",
       "      <th>25-34 years</th>\n",
       "      <td>177128</td>\n",
       "    </tr>\n",
       "    <tr>\n",
       "      <th>5-14 years</th>\n",
       "      <td>13465</td>\n",
       "    </tr>\n",
       "    <tr>\n",
       "      <th rowspan=\"2\" valign=\"top\">Silent</th>\n",
       "      <th>55-74 years</th>\n",
       "      <td>645749</td>\n",
       "    </tr>\n",
       "    <tr>\n",
       "      <th>75+ years</th>\n",
       "      <td>349860</td>\n",
       "    </tr>\n",
       "  </tbody>\n",
       "</table>\n",
       "</div>"
      ],
      "text/plain": [
       "                             Num_Suicides\n",
       "Generation      Age                      \n",
       "Boomers         35-54 years        923044\n",
       "                55-74 years        286601\n",
       "G.I. Generation 75+ years           21633\n",
       "Generation X    15-24 years         31742\n",
       "                25-34 years        430755\n",
       "                35-54 years        485848\n",
       "Generation Z    5-14 years          15906\n",
       "Millenials      15-24 years        413035\n",
       "                25-34 years        177128\n",
       "                5-14 years          13465\n",
       "Silent          55-74 years        645749\n",
       "                75+ years          349860"
      ]
     },
     "execution_count": 101,
     "metadata": {},
     "output_type": "execute_result"
    }
   ],
   "source": [
    "df1.groupby(['Generation','Age']).sum()"
   ]
  },
  {
   "cell_type": "code",
   "execution_count": 102,
   "metadata": {
    "collapsed": true
   },
   "outputs": [],
   "source": [
    "# we will drop the column 'Age' because can be confuse as is taking two different ranges\n",
    "# fot the same generation. The reason why it does this is because in 2000 people from the same\n",
    "# generation was in another range of age."
   ]
  },
  {
   "cell_type": "code",
   "execution_count": 103,
   "metadata": {},
   "outputs": [],
   "source": [
    "df1 = df1.groupby('Generation').sum().sort_values(\"Num_Suicides\", ascending=False)"
   ]
  },
  {
   "cell_type": "code",
   "execution_count": 104,
   "metadata": {},
   "outputs": [
    {
     "data": {
      "text/html": [
       "<div>\n",
       "<style>\n",
       "    .dataframe thead tr:only-child th {\n",
       "        text-align: right;\n",
       "    }\n",
       "\n",
       "    .dataframe thead th {\n",
       "        text-align: left;\n",
       "    }\n",
       "\n",
       "    .dataframe tbody tr th {\n",
       "        vertical-align: top;\n",
       "    }\n",
       "</style>\n",
       "<table border=\"1\" class=\"dataframe\">\n",
       "  <thead>\n",
       "    <tr style=\"text-align: right;\">\n",
       "      <th></th>\n",
       "      <th>Num_Suicides</th>\n",
       "    </tr>\n",
       "    <tr>\n",
       "      <th>Generation</th>\n",
       "      <th></th>\n",
       "    </tr>\n",
       "  </thead>\n",
       "  <tbody>\n",
       "    <tr>\n",
       "      <th>Boomers</th>\n",
       "      <td>1209645</td>\n",
       "    </tr>\n",
       "    <tr>\n",
       "      <th>Silent</th>\n",
       "      <td>995609</td>\n",
       "    </tr>\n",
       "    <tr>\n",
       "      <th>Generation X</th>\n",
       "      <td>948345</td>\n",
       "    </tr>\n",
       "    <tr>\n",
       "      <th>Millenials</th>\n",
       "      <td>603628</td>\n",
       "    </tr>\n",
       "    <tr>\n",
       "      <th>G.I. Generation</th>\n",
       "      <td>21633</td>\n",
       "    </tr>\n",
       "    <tr>\n",
       "      <th>Generation Z</th>\n",
       "      <td>15906</td>\n",
       "    </tr>\n",
       "  </tbody>\n",
       "</table>\n",
       "</div>"
      ],
      "text/plain": [
       "                 Num_Suicides\n",
       "Generation                   \n",
       "Boomers               1209645\n",
       "Silent                 995609\n",
       "Generation X           948345\n",
       "Millenials             603628\n",
       "G.I. Generation         21633\n",
       "Generation Z            15906"
      ]
     },
     "execution_count": 104,
     "metadata": {},
     "output_type": "execute_result"
    }
   ],
   "source": [
    "df1"
   ]
  },
  {
   "cell_type": "markdown",
   "metadata": {},
   "source": [
    "### ----- COUNT CUANTOS DE CADA GENERATION HAY ------"
   ]
  },
  {
   "cell_type": "code",
   "execution_count": 106,
   "metadata": {
    "collapsed": true
   },
   "outputs": [],
   "source": [
    "df2 = df.groupby('Generation').sum().sort_values(\"Num_Suicides\", ascending=False)"
   ]
  },
  {
   "cell_type": "code",
   "execution_count": 109,
   "metadata": {},
   "outputs": [],
   "source": [
    "df2 = df2[['Population', 'Suicides/100kPop']]"
   ]
  },
  {
   "cell_type": "code",
   "execution_count": 110,
   "metadata": {},
   "outputs": [
    {
     "data": {
      "text/html": [
       "<div>\n",
       "<style>\n",
       "    .dataframe thead tr:only-child th {\n",
       "        text-align: right;\n",
       "    }\n",
       "\n",
       "    .dataframe thead th {\n",
       "        text-align: left;\n",
       "    }\n",
       "\n",
       "    .dataframe tbody tr th {\n",
       "        vertical-align: top;\n",
       "    }\n",
       "</style>\n",
       "<table border=\"1\" class=\"dataframe\">\n",
       "  <thead>\n",
       "    <tr style=\"text-align: right;\">\n",
       "      <th></th>\n",
       "      <th>Population</th>\n",
       "      <th>Suicides/100kPop</th>\n",
       "    </tr>\n",
       "    <tr>\n",
       "      <th>Generation</th>\n",
       "      <th></th>\n",
       "      <th></th>\n",
       "    </tr>\n",
       "  </thead>\n",
       "  <tbody>\n",
       "    <tr>\n",
       "      <th>Boomers</th>\n",
       "      <td>7112476453</td>\n",
       "      <td>36854.62000</td>\n",
       "    </tr>\n",
       "    <tr>\n",
       "      <th>Silent</th>\n",
       "      <td>5076891426</td>\n",
       "      <td>84449.40000</td>\n",
       "    </tr>\n",
       "    <tr>\n",
       "      <th>Generation X</th>\n",
       "      <td>6908760170</td>\n",
       "      <td>36966.83000</td>\n",
       "    </tr>\n",
       "    <tr>\n",
       "      <th>Millenials</th>\n",
       "      <td>8025200090</td>\n",
       "      <td>30024.97000</td>\n",
       "    </tr>\n",
       "    <tr>\n",
       "      <th>G.I. Generation</th>\n",
       "      <td>86361616</td>\n",
       "      <td>4461.89000</td>\n",
       "    </tr>\n",
       "    <tr>\n",
       "      <th>Generation Z</th>\n",
       "      <td>2503541842</td>\n",
       "      <td>944.18000</td>\n",
       "    </tr>\n",
       "  </tbody>\n",
       "</table>\n",
       "</div>"
      ],
      "text/plain": [
       "                 Population  Suicides/100kPop\n",
       "Generation                                   \n",
       "Boomers          7112476453       36854.62000\n",
       "Silent           5076891426       84449.40000\n",
       "Generation X     6908760170       36966.83000\n",
       "Millenials       8025200090       30024.97000\n",
       "G.I. Generation    86361616        4461.89000\n",
       "Generation Z     2503541842         944.18000"
      ]
     },
     "execution_count": 110,
     "metadata": {},
     "output_type": "execute_result"
    }
   ],
   "source": [
    "df2"
   ]
  },
  {
   "cell_type": "code",
   "execution_count": 111,
   "metadata": {},
   "outputs": [
    {
     "data": {
      "text/plain": [
       "29713231597"
      ]
     },
     "execution_count": 111,
     "metadata": {},
     "output_type": "execute_result"
    }
   ],
   "source": [
    "df2['Population'].sum()"
   ]
  },
  {
   "cell_type": "code",
   "execution_count": null,
   "metadata": {
    "collapsed": true
   },
   "outputs": [],
   "source": []
  },
  {
   "cell_type": "code",
   "execution_count": 66,
   "metadata": {},
   "outputs": [],
   "source": [
    "# Let's see what happened in 2015:"
   ]
  },
  {
   "cell_type": "code",
   "execution_count": 67,
   "metadata": {},
   "outputs": [],
   "source": [
    "sui_gen = suicides_2015[['Generation', 'Age','Num_Suicides']]"
   ]
  },
  {
   "cell_type": "code",
   "execution_count": 68,
   "metadata": {},
   "outputs": [
    {
     "data": {
      "text/html": [
       "<div>\n",
       "<style>\n",
       "    .dataframe thead tr:only-child th {\n",
       "        text-align: right;\n",
       "    }\n",
       "\n",
       "    .dataframe thead th {\n",
       "        text-align: left;\n",
       "    }\n",
       "\n",
       "    .dataframe tbody tr th {\n",
       "        vertical-align: top;\n",
       "    }\n",
       "</style>\n",
       "<table border=\"1\" class=\"dataframe\">\n",
       "  <thead>\n",
       "    <tr style=\"text-align: right;\">\n",
       "      <th></th>\n",
       "      <th></th>\n",
       "      <th>Num_Suicides</th>\n",
       "    </tr>\n",
       "    <tr>\n",
       "      <th>Generation</th>\n",
       "      <th>Age</th>\n",
       "      <th></th>\n",
       "    </tr>\n",
       "  </thead>\n",
       "  <tbody>\n",
       "    <tr>\n",
       "      <th>Boomers</th>\n",
       "      <th>55-74 years</th>\n",
       "      <td>53588</td>\n",
       "    </tr>\n",
       "    <tr>\n",
       "      <th>Generation X</th>\n",
       "      <th>35-54 years</th>\n",
       "      <td>71298</td>\n",
       "    </tr>\n",
       "    <tr>\n",
       "      <th>Generation Z</th>\n",
       "      <th>5-14 years</th>\n",
       "      <td>1681</td>\n",
       "    </tr>\n",
       "    <tr>\n",
       "      <th rowspan=\"2\" valign=\"top\">Millenials</th>\n",
       "      <th>15-24 years</th>\n",
       "      <td>21841</td>\n",
       "    </tr>\n",
       "    <tr>\n",
       "      <th>25-34 years</th>\n",
       "      <td>32118</td>\n",
       "    </tr>\n",
       "    <tr>\n",
       "      <th>Silent</th>\n",
       "      <th>75+ years</th>\n",
       "      <td>23114</td>\n",
       "    </tr>\n",
       "  </tbody>\n",
       "</table>\n",
       "</div>"
      ],
      "text/plain": [
       "                          Num_Suicides\n",
       "Generation   Age                      \n",
       "Boomers      55-74 years         53588\n",
       "Generation X 35-54 years         71298\n",
       "Generation Z 5-14 years           1681\n",
       "Millenials   15-24 years         21841\n",
       "             25-34 years         32118\n",
       "Silent       75+ years           23114"
      ]
     },
     "execution_count": 68,
     "metadata": {},
     "output_type": "execute_result"
    }
   ],
   "source": [
    "sui_gen.groupby(['Generation','Age']).sum()"
   ]
  },
  {
   "cell_type": "markdown",
   "metadata": {},
   "source": [
    "## - - FALTA MERGE MILLENIALS ROWS - -"
   ]
  },
  {
   "cell_type": "code",
   "execution_count": 69,
   "metadata": {
    "collapsed": true
   },
   "outputs": [],
   "source": [
    "#Q6) Countries with the highest 5-14 years range suicide rate?"
   ]
  },
  {
   "cell_type": "code",
   "execution_count": 112,
   "metadata": {},
   "outputs": [
    {
     "data": {
      "text/html": [
       "<div>\n",
       "<style>\n",
       "    .dataframe thead tr:only-child th {\n",
       "        text-align: right;\n",
       "    }\n",
       "\n",
       "    .dataframe thead th {\n",
       "        text-align: left;\n",
       "    }\n",
       "\n",
       "    .dataframe tbody tr th {\n",
       "        vertical-align: top;\n",
       "    }\n",
       "</style>\n",
       "<table border=\"1\" class=\"dataframe\">\n",
       "  <thead>\n",
       "    <tr style=\"text-align: right;\">\n",
       "      <th></th>\n",
       "      <th>Country</th>\n",
       "      <th>Year</th>\n",
       "      <th>Gender</th>\n",
       "      <th>Age</th>\n",
       "      <th>Num_Suicides</th>\n",
       "      <th>Population</th>\n",
       "      <th>Suicides/100kPop</th>\n",
       "      <th>GDP/Year</th>\n",
       "      <th>GDP/Capita</th>\n",
       "      <th>Generation</th>\n",
       "    </tr>\n",
       "  </thead>\n",
       "  <tbody>\n",
       "    <tr>\n",
       "      <th>0</th>\n",
       "      <td>Albania</td>\n",
       "      <td>1987</td>\n",
       "      <td>male</td>\n",
       "      <td>15-24 years</td>\n",
       "      <td>21</td>\n",
       "      <td>312900</td>\n",
       "      <td>6.71000</td>\n",
       "      <td>2156624900.00000</td>\n",
       "      <td>796</td>\n",
       "      <td>Generation X</td>\n",
       "    </tr>\n",
       "    <tr>\n",
       "      <th>1</th>\n",
       "      <td>Albania</td>\n",
       "      <td>1987</td>\n",
       "      <td>male</td>\n",
       "      <td>35-54 years</td>\n",
       "      <td>16</td>\n",
       "      <td>308000</td>\n",
       "      <td>5.19000</td>\n",
       "      <td>2156624900.00000</td>\n",
       "      <td>796</td>\n",
       "      <td>Silent</td>\n",
       "    </tr>\n",
       "    <tr>\n",
       "      <th>2</th>\n",
       "      <td>Albania</td>\n",
       "      <td>1987</td>\n",
       "      <td>female</td>\n",
       "      <td>15-24 years</td>\n",
       "      <td>14</td>\n",
       "      <td>289700</td>\n",
       "      <td>4.83000</td>\n",
       "      <td>2156624900.00000</td>\n",
       "      <td>796</td>\n",
       "      <td>Generation X</td>\n",
       "    </tr>\n",
       "    <tr>\n",
       "      <th>3</th>\n",
       "      <td>Albania</td>\n",
       "      <td>1987</td>\n",
       "      <td>male</td>\n",
       "      <td>75+ years</td>\n",
       "      <td>1</td>\n",
       "      <td>21800</td>\n",
       "      <td>4.59000</td>\n",
       "      <td>2156624900.00000</td>\n",
       "      <td>796</td>\n",
       "      <td>G.I. Generation</td>\n",
       "    </tr>\n",
       "    <tr>\n",
       "      <th>4</th>\n",
       "      <td>Albania</td>\n",
       "      <td>1987</td>\n",
       "      <td>male</td>\n",
       "      <td>25-34 years</td>\n",
       "      <td>9</td>\n",
       "      <td>274300</td>\n",
       "      <td>3.28000</td>\n",
       "      <td>2156624900.00000</td>\n",
       "      <td>796</td>\n",
       "      <td>Boomers</td>\n",
       "    </tr>\n",
       "  </tbody>\n",
       "</table>\n",
       "</div>"
      ],
      "text/plain": [
       "   Country  Year  Gender          Age  Num_Suicides  Population  \\\n",
       "0  Albania  1987    male  15-24 years            21      312900   \n",
       "1  Albania  1987    male  35-54 years            16      308000   \n",
       "2  Albania  1987  female  15-24 years            14      289700   \n",
       "3  Albania  1987    male    75+ years             1       21800   \n",
       "4  Albania  1987    male  25-34 years             9      274300   \n",
       "\n",
       "   Suicides/100kPop         GDP/Year  GDP/Capita       Generation  \n",
       "0           6.71000 2156624900.00000         796     Generation X  \n",
       "1           5.19000 2156624900.00000         796           Silent  \n",
       "2           4.83000 2156624900.00000         796     Generation X  \n",
       "3           4.59000 2156624900.00000         796  G.I. Generation  \n",
       "4           3.28000 2156624900.00000         796          Boomers  "
      ]
     },
     "execution_count": 112,
     "metadata": {},
     "output_type": "execute_result"
    }
   ],
   "source": [
    "suicides.head()"
   ]
  },
  {
   "cell_type": "code",
   "execution_count": null,
   "metadata": {
    "collapsed": true
   },
   "outputs": [],
   "source": [
    "suicides_lrange = suicides"
   ]
  },
  {
   "cell_type": "code",
   "execution_count": null,
   "metadata": {
    "collapsed": true
   },
   "outputs": [],
   "source": []
  },
  {
   "cell_type": "code",
   "execution_count": null,
   "metadata": {
    "collapsed": true
   },
   "outputs": [],
   "source": []
  },
  {
   "cell_type": "code",
   "execution_count": null,
   "metadata": {
    "collapsed": true
   },
   "outputs": [],
   "source": []
  },
  {
   "cell_type": "code",
   "execution_count": null,
   "metadata": {
    "collapsed": true
   },
   "outputs": [],
   "source": []
  },
  {
   "cell_type": "code",
   "execution_count": null,
   "metadata": {},
   "outputs": [],
   "source": []
  },
  {
   "cell_type": "code",
   "execution_count": null,
   "metadata": {
    "collapsed": true
   },
   "outputs": [],
   "source": []
  },
  {
   "cell_type": "code",
   "execution_count": null,
   "metadata": {},
   "outputs": [],
   "source": []
  },
  {
   "cell_type": "code",
   "execution_count": null,
   "metadata": {
    "collapsed": true
   },
   "outputs": [],
   "source": []
  },
  {
   "cell_type": "code",
   "execution_count": null,
   "metadata": {
    "collapsed": true
   },
   "outputs": [],
   "source": []
  },
  {
   "cell_type": "code",
   "execution_count": 70,
   "metadata": {},
   "outputs": [
    {
     "ename": "NameError",
     "evalue": "name 'top10countries' is not defined",
     "output_type": "error",
     "traceback": [
      "\u001b[0;31m---------------------------------------------------------------------------\u001b[0m",
      "\u001b[0;31mNameError\u001b[0m                                 Traceback (most recent call last)",
      "\u001b[0;32m<ipython-input-70-de6e407488df>\u001b[0m in \u001b[0;36m<module>\u001b[0;34m()\u001b[0m\n\u001b[1;32m      2\u001b[0m \u001b[0;31m# we will calculate the top10 countries by number of suicides by poplation.\u001b[0m\u001b[0;34m\u001b[0m\u001b[0;34m\u001b[0m\u001b[0m\n\u001b[1;32m      3\u001b[0m \u001b[0;34m\u001b[0m\u001b[0m\n\u001b[0;32m----> 4\u001b[0;31m \u001b[0mtop10countries\u001b[0m\u001b[0;34m[\u001b[0m\u001b[0;34m'Suicides/Pop'\u001b[0m\u001b[0;34m]\u001b[0m \u001b[0;34m=\u001b[0m \u001b[0mtop10countries\u001b[0m\u001b[0;34m[\u001b[0m\u001b[0;34m'Num_Suicides'\u001b[0m\u001b[0;34m]\u001b[0m\u001b[0;34m/\u001b[0m\u001b[0mtop10countries\u001b[0m\u001b[0;34m[\u001b[0m\u001b[0;34m'Population'\u001b[0m\u001b[0;34m]\u001b[0m\u001b[0;34m*\u001b[0m\u001b[0;36m100000\u001b[0m\u001b[0;34m\u001b[0m\u001b[0m\n\u001b[0m\u001b[1;32m      5\u001b[0m \u001b[0mtop10countriesbysize\u001b[0m \u001b[0;34m=\u001b[0m \u001b[0msuicides_2015\u001b[0m\u001b[0;34m[\u001b[0m\u001b[0;34m[\u001b[0m\u001b[0;34m'Country'\u001b[0m\u001b[0;34m,\u001b[0m\u001b[0;34m'Num_Suicides'\u001b[0m\u001b[0;34m,\u001b[0m\u001b[0;34m'Population'\u001b[0m\u001b[0;34m]\u001b[0m\u001b[0;34m]\u001b[0m\u001b[0;34m.\u001b[0m\u001b[0mgroupby\u001b[0m\u001b[0;34m(\u001b[0m\u001b[0;34m'Country'\u001b[0m\u001b[0;34m)\u001b[0m\u001b[0;34m.\u001b[0m\u001b[0msum\u001b[0m\u001b[0;34m(\u001b[0m\u001b[0;34m)\u001b[0m\u001b[0;34m.\u001b[0m\u001b[0msort_values\u001b[0m\u001b[0;34m(\u001b[0m\u001b[0;34m\"Num_Suicides\"\u001b[0m\u001b[0;34m,\u001b[0m \u001b[0mascending\u001b[0m\u001b[0;34m=\u001b[0m\u001b[0;32mFalse\u001b[0m\u001b[0;34m)\u001b[0m\u001b[0;34m[\u001b[0m\u001b[0;36m0\u001b[0m\u001b[0;34m:\u001b[0m\u001b[0;36m10\u001b[0m\u001b[0;34m]\u001b[0m\u001b[0;34m\u001b[0m\u001b[0m\n\u001b[1;32m      6\u001b[0m \u001b[0msuicides_2015\u001b[0m\u001b[0;34m[\u001b[0m\u001b[0;34m'Suicides/Pop'\u001b[0m\u001b[0;34m]\u001b[0m \u001b[0;34m=\u001b[0m \u001b[0msuicides_2015\u001b[0m\u001b[0;34m[\u001b[0m\u001b[0;34m'Num_Suicides'\u001b[0m\u001b[0;34m]\u001b[0m\u001b[0;34m/\u001b[0m\u001b[0msuicides_2015\u001b[0m\u001b[0;34m[\u001b[0m\u001b[0;34m'Population'\u001b[0m\u001b[0;34m]\u001b[0m\u001b[0;34m*\u001b[0m\u001b[0;36m100000\u001b[0m\u001b[0;34m\u001b[0m\u001b[0m\n",
      "\u001b[0;31mNameError\u001b[0m: name 'top10countries' is not defined"
     ]
    }
   ],
   "source": [
    "# As the number of suicides does not take into account how big a country is in terms of population;\n",
    "# we will calculate the top10 countries by number of suicides by poplation.\n",
    "\n",
    "top10countries['Suicides/Pop'] = top10countries['Num_Suicides']/top10countries['Population']*100000 \n",
    "top10countriesbysize = suicides_2015[['Country','Num_Suicides','Population']].groupby('Country').sum().sort_values(\"Num_Suicides\", ascending=False)[0:10]\n",
    "suicides_2015['Suicides/Pop'] = suicides_2015['Num_Suicides']/suicides_2015['Population']*100000 \n",
    "\n",
    "# Now we can see that if we take into account the number of population by country\n",
    "top10countries.sort_values('Suicides/Pop', ascending = False)\n",
    "topcountries = top10countries[['Country','Num_Suicides','Suicides_Pop']]"
   ]
  }
 ],
 "metadata": {
  "kernelspec": {
   "display_name": "Python 3",
   "language": "python",
   "name": "python3"
  },
  "language_info": {
   "codemirror_mode": {
    "name": "ipython",
    "version": 3
   },
   "file_extension": ".py",
   "mimetype": "text/x-python",
   "name": "python",
   "nbconvert_exporter": "python",
   "pygments_lexer": "ipython3",
   "version": "3.6.3"
  }
 },
 "nbformat": 4,
 "nbformat_minor": 2
}
