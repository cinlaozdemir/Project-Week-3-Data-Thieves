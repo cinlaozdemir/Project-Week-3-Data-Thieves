{
 "cells": [
  {
   "cell_type": "markdown",
   "metadata": {},
   "source": [
    "# Importing libraries"
   ]
  },
  {
   "cell_type": "code",
   "execution_count": 1,
   "metadata": {
    "collapsed": true
   },
   "outputs": [],
   "source": [
    "import pandas as pd\n",
    "import pymysql\n",
    "from sqlalchemy import create_engine"
   ]
  },
  {
   "cell_type": "markdown",
   "metadata": {},
   "source": [
    "# Changing the way pandas displays floats"
   ]
  },
  {
   "cell_type": "code",
   "execution_count": 2,
   "metadata": {
    "collapsed": true
   },
   "outputs": [],
   "source": [
    "pd.set_option('display.float_format', lambda x: '%.5f' % x)"
   ]
  },
  {
   "cell_type": "markdown",
   "metadata": {},
   "source": [
    "# Importing dataset"
   ]
  },
  {
   "cell_type": "code",
   "execution_count": 116,
   "metadata": {
    "collapsed": true
   },
   "outputs": [],
   "source": [
    "suicides = pd.read_csv('/Users/andressalomferrer/Desktop/ironhack/Projects/Project_3/Project-Week-3-Data-Thieves/your-project/suicides_cleaned')"
   ]
  },
  {
   "cell_type": "code",
   "execution_count": 117,
   "metadata": {},
   "outputs": [
    {
     "data": {
      "text/html": [
       "<div>\n",
       "<style>\n",
       "    .dataframe thead tr:only-child th {\n",
       "        text-align: right;\n",
       "    }\n",
       "\n",
       "    .dataframe thead th {\n",
       "        text-align: left;\n",
       "    }\n",
       "\n",
       "    .dataframe tbody tr th {\n",
       "        vertical-align: top;\n",
       "    }\n",
       "</style>\n",
       "<table border=\"1\" class=\"dataframe\">\n",
       "  <thead>\n",
       "    <tr style=\"text-align: right;\">\n",
       "      <th></th>\n",
       "      <th>Unnamed: 0</th>\n",
       "      <th>Country</th>\n",
       "      <th>Year</th>\n",
       "      <th>Gender</th>\n",
       "      <th>Age</th>\n",
       "      <th>Num_Suicides</th>\n",
       "      <th>Population</th>\n",
       "      <th>Suicides/100kPop</th>\n",
       "      <th>GDP/Year</th>\n",
       "      <th>GDP/Capita</th>\n",
       "      <th>Generation</th>\n",
       "    </tr>\n",
       "  </thead>\n",
       "  <tbody>\n",
       "    <tr>\n",
       "      <th>0</th>\n",
       "      <td>36</td>\n",
       "      <td>Albania</td>\n",
       "      <td>1992</td>\n",
       "      <td>male</td>\n",
       "      <td>35-54 years</td>\n",
       "      <td>12</td>\n",
       "      <td>343800</td>\n",
       "      <td>3.49000</td>\n",
       "      <td>709452584</td>\n",
       "      <td>251</td>\n",
       "      <td>Boomers</td>\n",
       "    </tr>\n",
       "    <tr>\n",
       "      <th>1</th>\n",
       "      <td>37</td>\n",
       "      <td>Albania</td>\n",
       "      <td>1992</td>\n",
       "      <td>male</td>\n",
       "      <td>15-24 years</td>\n",
       "      <td>9</td>\n",
       "      <td>263700</td>\n",
       "      <td>3.41000</td>\n",
       "      <td>709452584</td>\n",
       "      <td>251</td>\n",
       "      <td>Generation X</td>\n",
       "    </tr>\n",
       "    <tr>\n",
       "      <th>2</th>\n",
       "      <td>38</td>\n",
       "      <td>Albania</td>\n",
       "      <td>1992</td>\n",
       "      <td>male</td>\n",
       "      <td>55-74 years</td>\n",
       "      <td>5</td>\n",
       "      <td>159500</td>\n",
       "      <td>3.13000</td>\n",
       "      <td>709452584</td>\n",
       "      <td>251</td>\n",
       "      <td>Silent</td>\n",
       "    </tr>\n",
       "    <tr>\n",
       "      <th>3</th>\n",
       "      <td>39</td>\n",
       "      <td>Albania</td>\n",
       "      <td>1992</td>\n",
       "      <td>male</td>\n",
       "      <td>25-34 years</td>\n",
       "      <td>7</td>\n",
       "      <td>245500</td>\n",
       "      <td>2.85000</td>\n",
       "      <td>709452584</td>\n",
       "      <td>251</td>\n",
       "      <td>Boomers</td>\n",
       "    </tr>\n",
       "    <tr>\n",
       "      <th>4</th>\n",
       "      <td>40</td>\n",
       "      <td>Albania</td>\n",
       "      <td>1992</td>\n",
       "      <td>female</td>\n",
       "      <td>15-24 years</td>\n",
       "      <td>7</td>\n",
       "      <td>292400</td>\n",
       "      <td>2.39000</td>\n",
       "      <td>709452584</td>\n",
       "      <td>251</td>\n",
       "      <td>Generation X</td>\n",
       "    </tr>\n",
       "  </tbody>\n",
       "</table>\n",
       "</div>"
      ],
      "text/plain": [
       "   Unnamed: 0  Country  Year  Gender          Age  Num_Suicides  Population  \\\n",
       "0          36  Albania  1992    male  35-54 years            12      343800   \n",
       "1          37  Albania  1992    male  15-24 years             9      263700   \n",
       "2          38  Albania  1992    male  55-74 years             5      159500   \n",
       "3          39  Albania  1992    male  25-34 years             7      245500   \n",
       "4          40  Albania  1992  female  15-24 years             7      292400   \n",
       "\n",
       "   Suicides/100kPop   GDP/Year  GDP/Capita    Generation  \n",
       "0           3.49000  709452584         251       Boomers  \n",
       "1           3.41000  709452584         251  Generation X  \n",
       "2           3.13000  709452584         251        Silent  \n",
       "3           2.85000  709452584         251       Boomers  \n",
       "4           2.39000  709452584         251  Generation X  "
      ]
     },
     "execution_count": 117,
     "metadata": {},
     "output_type": "execute_result"
    }
   ],
   "source": [
    "suicides.head()"
   ]
  },
  {
   "cell_type": "markdown",
   "metadata": {},
   "source": [
    "# Checking dtypes"
   ]
  },
  {
   "cell_type": "code",
   "execution_count": 118,
   "metadata": {},
   "outputs": [
    {
     "data": {
      "text/plain": [
       "Unnamed: 0            int64\n",
       "Country              object\n",
       "Year                  int64\n",
       "Gender               object\n",
       "Age                  object\n",
       "Num_Suicides          int64\n",
       "Population            int64\n",
       "Suicides/100kPop    float64\n",
       "GDP/Year              int64\n",
       "GDP/Capita            int64\n",
       "Generation           object\n",
       "dtype: object"
      ]
     },
     "execution_count": 118,
     "metadata": {},
     "output_type": "execute_result"
    }
   ],
   "source": [
    "suicides.dtypes"
   ]
  },
  {
   "cell_type": "markdown",
   "metadata": {},
   "source": [
    "# Renaming columns "
   ]
  },
  {
   "cell_type": "code",
   "execution_count": 119,
   "metadata": {
    "collapsed": true
   },
   "outputs": [],
   "source": [
    "suicides.rename(columns={\" gdp_for_year ($) \": \"GDP/Year\", \"gdp_per_capita ($)\": \"GDP/Capita\", \"country\": \"Country\",\n",
    "                        \"year\": \"Year\", \"sex\": \"Gender\", \"suicides_no\": \"Num_Suicides\", \"age\": \"Age\", \"population\":\n",
    "                        \"Population\", \"suicides/100k pop\": \"Suicides/100kPop\", \"generation\": \"Generation\", \"HDI for year\":\n",
    "                         \"HDI/Year\"}, inplace=True)"
   ]
  },
  {
   "cell_type": "code",
   "execution_count": 120,
   "metadata": {},
   "outputs": [
    {
     "data": {
      "text/html": [
       "<div>\n",
       "<style>\n",
       "    .dataframe thead tr:only-child th {\n",
       "        text-align: right;\n",
       "    }\n",
       "\n",
       "    .dataframe thead th {\n",
       "        text-align: left;\n",
       "    }\n",
       "\n",
       "    .dataframe tbody tr th {\n",
       "        vertical-align: top;\n",
       "    }\n",
       "</style>\n",
       "<table border=\"1\" class=\"dataframe\">\n",
       "  <thead>\n",
       "    <tr style=\"text-align: right;\">\n",
       "      <th></th>\n",
       "      <th>Unnamed: 0</th>\n",
       "      <th>Country</th>\n",
       "      <th>Year</th>\n",
       "      <th>Gender</th>\n",
       "      <th>Age</th>\n",
       "      <th>Num_Suicides</th>\n",
       "      <th>Population</th>\n",
       "      <th>Suicides/100kPop</th>\n",
       "      <th>GDP/Year</th>\n",
       "      <th>GDP/Capita</th>\n",
       "      <th>Generation</th>\n",
       "    </tr>\n",
       "  </thead>\n",
       "  <tbody>\n",
       "    <tr>\n",
       "      <th>0</th>\n",
       "      <td>36</td>\n",
       "      <td>Albania</td>\n",
       "      <td>1992</td>\n",
       "      <td>male</td>\n",
       "      <td>35-54 years</td>\n",
       "      <td>12</td>\n",
       "      <td>343800</td>\n",
       "      <td>3.49000</td>\n",
       "      <td>709452584</td>\n",
       "      <td>251</td>\n",
       "      <td>Boomers</td>\n",
       "    </tr>\n",
       "    <tr>\n",
       "      <th>1</th>\n",
       "      <td>37</td>\n",
       "      <td>Albania</td>\n",
       "      <td>1992</td>\n",
       "      <td>male</td>\n",
       "      <td>15-24 years</td>\n",
       "      <td>9</td>\n",
       "      <td>263700</td>\n",
       "      <td>3.41000</td>\n",
       "      <td>709452584</td>\n",
       "      <td>251</td>\n",
       "      <td>Generation X</td>\n",
       "    </tr>\n",
       "    <tr>\n",
       "      <th>2</th>\n",
       "      <td>38</td>\n",
       "      <td>Albania</td>\n",
       "      <td>1992</td>\n",
       "      <td>male</td>\n",
       "      <td>55-74 years</td>\n",
       "      <td>5</td>\n",
       "      <td>159500</td>\n",
       "      <td>3.13000</td>\n",
       "      <td>709452584</td>\n",
       "      <td>251</td>\n",
       "      <td>Silent</td>\n",
       "    </tr>\n",
       "    <tr>\n",
       "      <th>3</th>\n",
       "      <td>39</td>\n",
       "      <td>Albania</td>\n",
       "      <td>1992</td>\n",
       "      <td>male</td>\n",
       "      <td>25-34 years</td>\n",
       "      <td>7</td>\n",
       "      <td>245500</td>\n",
       "      <td>2.85000</td>\n",
       "      <td>709452584</td>\n",
       "      <td>251</td>\n",
       "      <td>Boomers</td>\n",
       "    </tr>\n",
       "    <tr>\n",
       "      <th>4</th>\n",
       "      <td>40</td>\n",
       "      <td>Albania</td>\n",
       "      <td>1992</td>\n",
       "      <td>female</td>\n",
       "      <td>15-24 years</td>\n",
       "      <td>7</td>\n",
       "      <td>292400</td>\n",
       "      <td>2.39000</td>\n",
       "      <td>709452584</td>\n",
       "      <td>251</td>\n",
       "      <td>Generation X</td>\n",
       "    </tr>\n",
       "  </tbody>\n",
       "</table>\n",
       "</div>"
      ],
      "text/plain": [
       "   Unnamed: 0  Country  Year  Gender          Age  Num_Suicides  Population  \\\n",
       "0          36  Albania  1992    male  35-54 years            12      343800   \n",
       "1          37  Albania  1992    male  15-24 years             9      263700   \n",
       "2          38  Albania  1992    male  55-74 years             5      159500   \n",
       "3          39  Albania  1992    male  25-34 years             7      245500   \n",
       "4          40  Albania  1992  female  15-24 years             7      292400   \n",
       "\n",
       "   Suicides/100kPop   GDP/Year  GDP/Capita    Generation  \n",
       "0           3.49000  709452584         251       Boomers  \n",
       "1           3.41000  709452584         251  Generation X  \n",
       "2           3.13000  709452584         251        Silent  \n",
       "3           2.85000  709452584         251       Boomers  \n",
       "4           2.39000  709452584         251  Generation X  "
      ]
     },
     "execution_count": 120,
     "metadata": {},
     "output_type": "execute_result"
    }
   ],
   "source": [
    "suicides.head()"
   ]
  },
  {
   "cell_type": "code",
   "execution_count": 123,
   "metadata": {
    "collapsed": true
   },
   "outputs": [],
   "source": [
    "suicides = suicides.astype({\"GDP/Year\": 'float'})"
   ]
  },
  {
   "cell_type": "code",
   "execution_count": 124,
   "metadata": {},
   "outputs": [
    {
     "data": {
      "text/plain": [
       "Unnamed: 0            int64\n",
       "Country              object\n",
       "Year                  int64\n",
       "Gender               object\n",
       "Age                  object\n",
       "Num_Suicides          int64\n",
       "Population            int64\n",
       "Suicides/100kPop    float64\n",
       "GDP/Year            float64\n",
       "GDP/Capita            int64\n",
       "Generation           object\n",
       "dtype: object"
      ]
     },
     "execution_count": 124,
     "metadata": {},
     "output_type": "execute_result"
    }
   ],
   "source": [
    "suicides.dtypes"
   ]
  },
  {
   "cell_type": "code",
   "execution_count": 125,
   "metadata": {},
   "outputs": [
    {
     "name": "stdout",
     "output_type": "stream",
     "text": [
      "<class 'pandas.core.frame.DataFrame'>\n",
      "RangeIndex: 24612 entries, 0 to 24611\n",
      "Data columns (total 11 columns):\n",
      "Unnamed: 0          24612 non-null int64\n",
      "Country             24612 non-null object\n",
      "Year                24612 non-null int64\n",
      "Gender              24612 non-null object\n",
      "Age                 24612 non-null object\n",
      "Num_Suicides        24612 non-null int64\n",
      "Population          24612 non-null int64\n",
      "Suicides/100kPop    24612 non-null float64\n",
      "GDP/Year            24612 non-null float64\n",
      "GDP/Capita          24612 non-null int64\n",
      "Generation          24612 non-null object\n",
      "dtypes: float64(2), int64(5), object(4)\n",
      "memory usage: 2.1+ MB\n"
     ]
    }
   ],
   "source": [
    "suicides.info()"
   ]
  },
  {
   "cell_type": "code",
   "execution_count": 127,
   "metadata": {},
   "outputs": [
    {
     "data": {
      "text/plain": [
       "Unnamed: 0          0\n",
       "Country             0\n",
       "Year                0\n",
       "Gender              0\n",
       "Age                 0\n",
       "Num_Suicides        0\n",
       "Population          0\n",
       "Suicides/100kPop    0\n",
       "GDP/Year            0\n",
       "GDP/Capita          0\n",
       "Generation          0\n",
       "dtype: int64"
      ]
     },
     "execution_count": 127,
     "metadata": {},
     "output_type": "execute_result"
    }
   ],
   "source": [
    "# Checking null values \n",
    "suicides.isnull().sum()"
   ]
  },
  {
   "cell_type": "code",
   "execution_count": 128,
   "metadata": {},
   "outputs": [
    {
     "data": {
      "text/html": [
       "<div>\n",
       "<style>\n",
       "    .dataframe thead tr:only-child th {\n",
       "        text-align: right;\n",
       "    }\n",
       "\n",
       "    .dataframe thead th {\n",
       "        text-align: left;\n",
       "    }\n",
       "\n",
       "    .dataframe tbody tr th {\n",
       "        vertical-align: top;\n",
       "    }\n",
       "</style>\n",
       "<table border=\"1\" class=\"dataframe\">\n",
       "  <thead>\n",
       "    <tr style=\"text-align: right;\">\n",
       "      <th></th>\n",
       "      <th>Unnamed: 0</th>\n",
       "      <th>Year</th>\n",
       "      <th>Num_Suicides</th>\n",
       "      <th>Population</th>\n",
       "      <th>Suicides/100kPop</th>\n",
       "      <th>GDP/Year</th>\n",
       "      <th>GDP/Capita</th>\n",
       "    </tr>\n",
       "  </thead>\n",
       "  <tbody>\n",
       "    <tr>\n",
       "      <th>count</th>\n",
       "      <td>24612.00000</td>\n",
       "      <td>24612.00000</td>\n",
       "      <td>24612.00000</td>\n",
       "      <td>24612.00000</td>\n",
       "      <td>24612.00000</td>\n",
       "      <td>24612.00000</td>\n",
       "      <td>24612.00000</td>\n",
       "    </tr>\n",
       "    <tr>\n",
       "      <th>mean</th>\n",
       "      <td>13929.65017</td>\n",
       "      <td>2002.91809</td>\n",
       "      <td>247.35787</td>\n",
       "      <td>1859937.87762</td>\n",
       "      <td>12.91848</td>\n",
       "      <td>471326282308.23108</td>\n",
       "      <td>17866.15651</td>\n",
       "    </tr>\n",
       "    <tr>\n",
       "      <th>std</th>\n",
       "      <td>8014.51989</td>\n",
       "      <td>7.19399</td>\n",
       "      <td>927.35144</td>\n",
       "      <td>3945249.44288</td>\n",
       "      <td>19.13124</td>\n",
       "      <td>1519293442925.49414</td>\n",
       "      <td>19568.29462</td>\n",
       "    </tr>\n",
       "    <tr>\n",
       "      <th>min</th>\n",
       "      <td>36.00000</td>\n",
       "      <td>1990.00000</td>\n",
       "      <td>0.00000</td>\n",
       "      <td>278.00000</td>\n",
       "      <td>0.00000</td>\n",
       "      <td>46919625.00000</td>\n",
       "      <td>251.00000</td>\n",
       "    </tr>\n",
       "    <tr>\n",
       "      <th>25%</th>\n",
       "      <td>7034.75000</td>\n",
       "      <td>1997.00000</td>\n",
       "      <td>3.00000</td>\n",
       "      <td>100754.75000</td>\n",
       "      <td>0.96000</td>\n",
       "      <td>10109612142.00000</td>\n",
       "      <td>3724.00000</td>\n",
       "    </tr>\n",
       "    <tr>\n",
       "      <th>50%</th>\n",
       "      <td>13933.50000</td>\n",
       "      <td>2003.00000</td>\n",
       "      <td>26.00000</td>\n",
       "      <td>444998.50000</td>\n",
       "      <td>5.98000</td>\n",
       "      <td>51264390116.00000</td>\n",
       "      <td>10220.00000</td>\n",
       "    </tr>\n",
       "    <tr>\n",
       "      <th>75%</th>\n",
       "      <td>20880.25000</td>\n",
       "      <td>2009.00000</td>\n",
       "      <td>132.00000</td>\n",
       "      <td>1497711.50000</td>\n",
       "      <td>16.66000</td>\n",
       "      <td>273317737047.00000</td>\n",
       "      <td>26671.00000</td>\n",
       "    </tr>\n",
       "    <tr>\n",
       "      <th>max</th>\n",
       "      <td>27819.00000</td>\n",
       "      <td>2015.00000</td>\n",
       "      <td>22338.00000</td>\n",
       "      <td>43805214.00000</td>\n",
       "      <td>224.97000</td>\n",
       "      <td>18120714000000.00000</td>\n",
       "      <td>126352.00000</td>\n",
       "    </tr>\n",
       "  </tbody>\n",
       "</table>\n",
       "</div>"
      ],
      "text/plain": [
       "       Unnamed: 0        Year  Num_Suicides     Population  Suicides/100kPop  \\\n",
       "count 24612.00000 24612.00000   24612.00000    24612.00000       24612.00000   \n",
       "mean  13929.65017  2002.91809     247.35787  1859937.87762          12.91848   \n",
       "std    8014.51989     7.19399     927.35144  3945249.44288          19.13124   \n",
       "min      36.00000  1990.00000       0.00000      278.00000           0.00000   \n",
       "25%    7034.75000  1997.00000       3.00000   100754.75000           0.96000   \n",
       "50%   13933.50000  2003.00000      26.00000   444998.50000           5.98000   \n",
       "75%   20880.25000  2009.00000     132.00000  1497711.50000          16.66000   \n",
       "max   27819.00000  2015.00000   22338.00000 43805214.00000         224.97000   \n",
       "\n",
       "                  GDP/Year   GDP/Capita  \n",
       "count          24612.00000  24612.00000  \n",
       "mean    471326282308.23108  17866.15651  \n",
       "std    1519293442925.49414  19568.29462  \n",
       "min         46919625.00000    251.00000  \n",
       "25%      10109612142.00000   3724.00000  \n",
       "50%      51264390116.00000  10220.00000  \n",
       "75%     273317737047.00000  26671.00000  \n",
       "max   18120714000000.00000 126352.00000  "
      ]
     },
     "execution_count": 128,
     "metadata": {},
     "output_type": "execute_result"
    }
   ],
   "source": [
    "suicides.describe()"
   ]
  },
  {
   "cell_type": "code",
   "execution_count": 129,
   "metadata": {},
   "outputs": [
    {
     "data": {
      "text/html": [
       "<div>\n",
       "<style>\n",
       "    .dataframe thead tr:only-child th {\n",
       "        text-align: right;\n",
       "    }\n",
       "\n",
       "    .dataframe thead th {\n",
       "        text-align: left;\n",
       "    }\n",
       "\n",
       "    .dataframe tbody tr th {\n",
       "        vertical-align: top;\n",
       "    }\n",
       "</style>\n",
       "<table border=\"1\" class=\"dataframe\">\n",
       "  <thead>\n",
       "    <tr style=\"text-align: right;\">\n",
       "      <th></th>\n",
       "      <th>Unnamed: 0</th>\n",
       "      <th>Country</th>\n",
       "      <th>Year</th>\n",
       "      <th>Gender</th>\n",
       "      <th>Age</th>\n",
       "      <th>Num_Suicides</th>\n",
       "      <th>Population</th>\n",
       "      <th>Suicides/100kPop</th>\n",
       "      <th>GDP/Year</th>\n",
       "      <th>GDP/Capita</th>\n",
       "      <th>Generation</th>\n",
       "    </tr>\n",
       "  </thead>\n",
       "  <tbody>\n",
       "    <tr>\n",
       "      <th>8</th>\n",
       "      <td>44</td>\n",
       "      <td>Albania</td>\n",
       "      <td>1992</td>\n",
       "      <td>female</td>\n",
       "      <td>5-14 years</td>\n",
       "      <td>0</td>\n",
       "      <td>336700</td>\n",
       "      <td>0.00000</td>\n",
       "      <td>709452584.00000</td>\n",
       "      <td>251</td>\n",
       "      <td>Millenials</td>\n",
       "    </tr>\n",
       "    <tr>\n",
       "      <th>9</th>\n",
       "      <td>45</td>\n",
       "      <td>Albania</td>\n",
       "      <td>1992</td>\n",
       "      <td>female</td>\n",
       "      <td>75+ years</td>\n",
       "      <td>0</td>\n",
       "      <td>38700</td>\n",
       "      <td>0.00000</td>\n",
       "      <td>709452584.00000</td>\n",
       "      <td>251</td>\n",
       "      <td>G.I. Generation</td>\n",
       "    </tr>\n",
       "    <tr>\n",
       "      <th>10</th>\n",
       "      <td>46</td>\n",
       "      <td>Albania</td>\n",
       "      <td>1992</td>\n",
       "      <td>male</td>\n",
       "      <td>5-14 years</td>\n",
       "      <td>0</td>\n",
       "      <td>362900</td>\n",
       "      <td>0.00000</td>\n",
       "      <td>709452584.00000</td>\n",
       "      <td>251</td>\n",
       "      <td>Millenials</td>\n",
       "    </tr>\n",
       "  </tbody>\n",
       "</table>\n",
       "</div>"
      ],
      "text/plain": [
       "    Unnamed: 0  Country  Year  Gender         Age  Num_Suicides  Population  \\\n",
       "8           44  Albania  1992  female  5-14 years             0      336700   \n",
       "9           45  Albania  1992  female   75+ years             0       38700   \n",
       "10          46  Albania  1992    male  5-14 years             0      362900   \n",
       "\n",
       "    Suicides/100kPop        GDP/Year  GDP/Capita       Generation  \n",
       "8            0.00000 709452584.00000         251       Millenials  \n",
       "9            0.00000 709452584.00000         251  G.I. Generation  \n",
       "10           0.00000 709452584.00000         251       Millenials  "
      ]
     },
     "execution_count": 129,
     "metadata": {},
     "output_type": "execute_result"
    }
   ],
   "source": [
    "suicides[suicides['Num_Suicides'] == 0][0:3]"
   ]
  },
  {
   "cell_type": "code",
   "execution_count": 130,
   "metadata": {
    "collapsed": true
   },
   "outputs": [],
   "source": [
    "driver = 'mysql+pymysql'\n",
    "host = \"34.90.32.189\"\n",
    "username = 'root'\n",
    "password = '123456789'\n",
    "db = \"suicides1\"\n",
    "connection_string = f'{driver}://{username}:{password}@{host}/{db}'\n",
    "connection=create_engine(connection_string)\n",
    "engine = create_engine(connection_string)"
   ]
  },
  {
   "cell_type": "code",
   "execution_count": 131,
   "metadata": {
    "collapsed": true
   },
   "outputs": [],
   "source": [
    "suicides.to_sql(\"suicides1\", con=connection, if_exists='replace')"
   ]
  },
  {
   "cell_type": "code",
   "execution_count": 132,
   "metadata": {
    "collapsed": true
   },
   "outputs": [],
   "source": [
    "suicides_year = suicides.groupby(\"Year\").sum().sort_values(\"Num_Suicides\", ascending=False)"
   ]
  },
  {
   "cell_type": "code",
   "execution_count": 133,
   "metadata": {
    "collapsed": true
   },
   "outputs": [],
   "source": [
    "suicides_year = suicides_year.reset_index()"
   ]
  },
  {
   "cell_type": "code",
   "execution_count": 134,
   "metadata": {},
   "outputs": [
    {
     "data": {
      "text/html": [
       "<div>\n",
       "<style>\n",
       "    .dataframe thead tr:only-child th {\n",
       "        text-align: right;\n",
       "    }\n",
       "\n",
       "    .dataframe thead th {\n",
       "        text-align: left;\n",
       "    }\n",
       "\n",
       "    .dataframe tbody tr th {\n",
       "        vertical-align: top;\n",
       "    }\n",
       "</style>\n",
       "<table border=\"1\" class=\"dataframe\">\n",
       "  <thead>\n",
       "    <tr style=\"text-align: right;\">\n",
       "      <th></th>\n",
       "      <th>Year</th>\n",
       "      <th>Unnamed: 0</th>\n",
       "      <th>Num_Suicides</th>\n",
       "      <th>Population</th>\n",
       "      <th>Suicides/100kPop</th>\n",
       "      <th>GDP/Year</th>\n",
       "      <th>GDP/Capita</th>\n",
       "    </tr>\n",
       "  </thead>\n",
       "  <tbody>\n",
       "    <tr>\n",
       "      <th>23</th>\n",
       "      <td>2015</td>\n",
       "      <td>11053140</td>\n",
       "      <td>203640</td>\n",
       "      <td>1774657932</td>\n",
       "      <td>8253.99000</td>\n",
       "      <td>580433884300596.00000</td>\n",
       "      <td>19516008</td>\n",
       "    </tr>\n",
       "    <tr>\n",
       "      <th>20</th>\n",
       "      <td>2014</td>\n",
       "      <td>13684836</td>\n",
       "      <td>222984</td>\n",
       "      <td>1912057309</td>\n",
       "      <td>10306.73000</td>\n",
       "      <td>672496725417372.00000</td>\n",
       "      <td>25665252</td>\n",
       "    </tr>\n",
       "    <tr>\n",
       "      <th>19</th>\n",
       "      <td>2013</td>\n",
       "      <td>13570920</td>\n",
       "      <td>223199</td>\n",
       "      <td>1890161710</td>\n",
       "      <td>10663.64000</td>\n",
       "      <td>685050211812900.00000</td>\n",
       "      <td>26911368</td>\n",
       "    </tr>\n",
       "    <tr>\n",
       "      <th>18</th>\n",
       "      <td>2012</td>\n",
       "      <td>13939746</td>\n",
       "      <td>230160</td>\n",
       "      <td>1912812088</td>\n",
       "      <td>11101.91000</td>\n",
       "      <td>676502580180480.00000</td>\n",
       "      <td>26058300</td>\n",
       "    </tr>\n",
       "    <tr>\n",
       "      <th>12</th>\n",
       "      <td>2011</td>\n",
       "      <td>14368668</td>\n",
       "      <td>236484</td>\n",
       "      <td>1993362332</td>\n",
       "      <td>11367.84000</td>\n",
       "      <td>678000047330112.00000</td>\n",
       "      <td>26936148</td>\n",
       "    </tr>\n",
       "    <tr>\n",
       "      <th>11</th>\n",
       "      <td>2010</td>\n",
       "      <td>15288936</td>\n",
       "      <td>238702</td>\n",
       "      <td>1997297329</td>\n",
       "      <td>11843.99000</td>\n",
       "      <td>625862405486292.00000</td>\n",
       "      <td>25193196</td>\n",
       "    </tr>\n",
       "    <tr>\n",
       "      <th>8</th>\n",
       "      <td>2009</td>\n",
       "      <td>15189042</td>\n",
       "      <td>243487</td>\n",
       "      <td>1976228366</td>\n",
       "      <td>12176.04000</td>\n",
       "      <td>584833269596760.00000</td>\n",
       "      <td>24145248</td>\n",
       "    </tr>\n",
       "    <tr>\n",
       "      <th>13</th>\n",
       "      <td>2008</td>\n",
       "      <td>14231178</td>\n",
       "      <td>235447</td>\n",
       "      <td>1860620851</td>\n",
       "      <td>12145.84000</td>\n",
       "      <td>619322403842760.00000</td>\n",
       "      <td>26936208</td>\n",
       "    </tr>\n",
       "    <tr>\n",
       "      <th>15</th>\n",
       "      <td>2007</td>\n",
       "      <td>14104116</td>\n",
       "      <td>233408</td>\n",
       "      <td>1859564353</td>\n",
       "      <td>12410.15000</td>\n",
       "      <td>576509655876756.00000</td>\n",
       "      <td>24709620</td>\n",
       "    </tr>\n",
       "    <tr>\n",
       "      <th>16</th>\n",
       "      <td>2006</td>\n",
       "      <td>14306106</td>\n",
       "      <td>233361</td>\n",
       "      <td>1840908837</td>\n",
       "      <td>12166.01000</td>\n",
       "      <td>517865365084944.00000</td>\n",
       "      <td>21563784</td>\n",
       "    </tr>\n",
       "    <tr>\n",
       "      <th>14</th>\n",
       "      <td>2005</td>\n",
       "      <td>14529960</td>\n",
       "      <td>234375</td>\n",
       "      <td>1734909645</td>\n",
       "      <td>12164.99000</td>\n",
       "      <td>475067354100216.00000</td>\n",
       "      <td>20317212</td>\n",
       "    </tr>\n",
       "    <tr>\n",
       "      <th>9</th>\n",
       "      <td>2004</td>\n",
       "      <td>13985712</td>\n",
       "      <td>240861</td>\n",
       "      <td>1745246613</td>\n",
       "      <td>12581.80000</td>\n",
       "      <td>450425300789256.00000</td>\n",
       "      <td>17895936</td>\n",
       "    </tr>\n",
       "    <tr>\n",
       "      <th>2</th>\n",
       "      <td>2003</td>\n",
       "      <td>14339316</td>\n",
       "      <td>256079</td>\n",
       "      <td>1838458020</td>\n",
       "      <td>13627.58000</td>\n",
       "      <td>405293412848580.00000</td>\n",
       "      <td>15187104</td>\n",
       "    </tr>\n",
       "    <tr>\n",
       "      <th>1</th>\n",
       "      <td>2002</td>\n",
       "      <td>14326932</td>\n",
       "      <td>256095</td>\n",
       "      <td>1822152815</td>\n",
       "      <td>14227.72000</td>\n",
       "      <td>361460007211452.00000</td>\n",
       "      <td>13017420</td>\n",
       "    </tr>\n",
       "    <tr>\n",
       "      <th>4</th>\n",
       "      <td>2001</td>\n",
       "      <td>14538792</td>\n",
       "      <td>250652</td>\n",
       "      <td>1755565489</td>\n",
       "      <td>14276.21000</td>\n",
       "      <td>348137752649964.00000</td>\n",
       "      <td>12677892</td>\n",
       "    </tr>\n",
       "    <tr>\n",
       "      <th>3</th>\n",
       "      <td>2000</td>\n",
       "      <td>14303316</td>\n",
       "      <td>255832</td>\n",
       "      <td>1799227908</td>\n",
       "      <td>14387.45000</td>\n",
       "      <td>352373683311288.00000</td>\n",
       "      <td>12865476</td>\n",
       "    </tr>\n",
       "    <tr>\n",
       "      <th>0</th>\n",
       "      <td>1999</td>\n",
       "      <td>13838862</td>\n",
       "      <td>256119</td>\n",
       "      <td>1776363155</td>\n",
       "      <td>14473.91000</td>\n",
       "      <td>343808646118668.00000</td>\n",
       "      <td>12780864</td>\n",
       "    </tr>\n",
       "    <tr>\n",
       "      <th>5</th>\n",
       "      <td>1998</td>\n",
       "      <td>13235958</td>\n",
       "      <td>249591</td>\n",
       "      <td>1725181351</td>\n",
       "      <td>14150.72000</td>\n",
       "      <td>330186954612684.00000</td>\n",
       "      <td>11506728</td>\n",
       "    </tr>\n",
       "    <tr>\n",
       "      <th>10</th>\n",
       "      <td>1997</td>\n",
       "      <td>12956370</td>\n",
       "      <td>240745</td>\n",
       "      <td>1702991519</td>\n",
       "      <td>13817.83000</td>\n",
       "      <td>330610567459320.00000</td>\n",
       "      <td>11398596</td>\n",
       "    </tr>\n",
       "    <tr>\n",
       "      <th>6</th>\n",
       "      <td>1996</td>\n",
       "      <td>13042266</td>\n",
       "      <td>246725</td>\n",
       "      <td>1662267662</td>\n",
       "      <td>14142.21000</td>\n",
       "      <td>335249321862228.00000</td>\n",
       "      <td>11600736</td>\n",
       "    </tr>\n",
       "    <tr>\n",
       "      <th>7</th>\n",
       "      <td>1995</td>\n",
       "      <td>12541668</td>\n",
       "      <td>243544</td>\n",
       "      <td>1591559103</td>\n",
       "      <td>14660.26000</td>\n",
       "      <td>329358922744728.00000</td>\n",
       "      <td>11858508</td>\n",
       "    </tr>\n",
       "    <tr>\n",
       "      <th>17</th>\n",
       "      <td>1994</td>\n",
       "      <td>10708872</td>\n",
       "      <td>232063</td>\n",
       "      <td>1548749372</td>\n",
       "      <td>11483.79000</td>\n",
       "      <td>293729643723660.00000</td>\n",
       "      <td>9438756</td>\n",
       "    </tr>\n",
       "    <tr>\n",
       "      <th>21</th>\n",
       "      <td>1993</td>\n",
       "      <td>10108458</td>\n",
       "      <td>221565</td>\n",
       "      <td>1530416654</td>\n",
       "      <td>10790.29000</td>\n",
       "      <td>271037019424788.00000</td>\n",
       "      <td>8231796</td>\n",
       "    </tr>\n",
       "    <tr>\n",
       "      <th>22</th>\n",
       "      <td>1992</td>\n",
       "      <td>10229928</td>\n",
       "      <td>211473</td>\n",
       "      <td>1569500347</td>\n",
       "      <td>10528.88000</td>\n",
       "      <td>268105059273804.00000</td>\n",
       "      <td>8124816</td>\n",
       "    </tr>\n",
       "    <tr>\n",
       "      <th>24</th>\n",
       "      <td>1991</td>\n",
       "      <td>10069902</td>\n",
       "      <td>198020</td>\n",
       "      <td>1489949284</td>\n",
       "      <td>10321.06000</td>\n",
       "      <td>252100370038884.00000</td>\n",
       "      <td>7717680</td>\n",
       "    </tr>\n",
       "    <tr>\n",
       "      <th>25</th>\n",
       "      <td>1990</td>\n",
       "      <td>10343550</td>\n",
       "      <td>193361</td>\n",
       "      <td>1466581000</td>\n",
       "      <td>9878.75000</td>\n",
       "      <td>236461895071680.00000</td>\n",
       "      <td>7467192</td>\n",
       "    </tr>\n",
       "  </tbody>\n",
       "</table>\n",
       "</div>"
      ],
      "text/plain": [
       "    Year  Unnamed: 0  Num_Suicides  Population  Suicides/100kPop  \\\n",
       "23  2015    11053140        203640  1774657932        8253.99000   \n",
       "20  2014    13684836        222984  1912057309       10306.73000   \n",
       "19  2013    13570920        223199  1890161710       10663.64000   \n",
       "18  2012    13939746        230160  1912812088       11101.91000   \n",
       "12  2011    14368668        236484  1993362332       11367.84000   \n",
       "11  2010    15288936        238702  1997297329       11843.99000   \n",
       "8   2009    15189042        243487  1976228366       12176.04000   \n",
       "13  2008    14231178        235447  1860620851       12145.84000   \n",
       "15  2007    14104116        233408  1859564353       12410.15000   \n",
       "16  2006    14306106        233361  1840908837       12166.01000   \n",
       "14  2005    14529960        234375  1734909645       12164.99000   \n",
       "9   2004    13985712        240861  1745246613       12581.80000   \n",
       "2   2003    14339316        256079  1838458020       13627.58000   \n",
       "1   2002    14326932        256095  1822152815       14227.72000   \n",
       "4   2001    14538792        250652  1755565489       14276.21000   \n",
       "3   2000    14303316        255832  1799227908       14387.45000   \n",
       "0   1999    13838862        256119  1776363155       14473.91000   \n",
       "5   1998    13235958        249591  1725181351       14150.72000   \n",
       "10  1997    12956370        240745  1702991519       13817.83000   \n",
       "6   1996    13042266        246725  1662267662       14142.21000   \n",
       "7   1995    12541668        243544  1591559103       14660.26000   \n",
       "17  1994    10708872        232063  1548749372       11483.79000   \n",
       "21  1993    10108458        221565  1530416654       10790.29000   \n",
       "22  1992    10229928        211473  1569500347       10528.88000   \n",
       "24  1991    10069902        198020  1489949284       10321.06000   \n",
       "25  1990    10343550        193361  1466581000        9878.75000   \n",
       "\n",
       "                GDP/Year  GDP/Capita  \n",
       "23 580433884300596.00000    19516008  \n",
       "20 672496725417372.00000    25665252  \n",
       "19 685050211812900.00000    26911368  \n",
       "18 676502580180480.00000    26058300  \n",
       "12 678000047330112.00000    26936148  \n",
       "11 625862405486292.00000    25193196  \n",
       "8  584833269596760.00000    24145248  \n",
       "13 619322403842760.00000    26936208  \n",
       "15 576509655876756.00000    24709620  \n",
       "16 517865365084944.00000    21563784  \n",
       "14 475067354100216.00000    20317212  \n",
       "9  450425300789256.00000    17895936  \n",
       "2  405293412848580.00000    15187104  \n",
       "1  361460007211452.00000    13017420  \n",
       "4  348137752649964.00000    12677892  \n",
       "3  352373683311288.00000    12865476  \n",
       "0  343808646118668.00000    12780864  \n",
       "5  330186954612684.00000    11506728  \n",
       "10 330610567459320.00000    11398596  \n",
       "6  335249321862228.00000    11600736  \n",
       "7  329358922744728.00000    11858508  \n",
       "17 293729643723660.00000     9438756  \n",
       "21 271037019424788.00000     8231796  \n",
       "22 268105059273804.00000     8124816  \n",
       "24 252100370038884.00000     7717680  \n",
       "25 236461895071680.00000     7467192  "
      ]
     },
     "execution_count": 134,
     "metadata": {},
     "output_type": "execute_result"
    }
   ],
   "source": [
    "suicides_year.sort_values('Year', ascending = False)"
   ]
  },
  {
   "cell_type": "code",
   "execution_count": 136,
   "metadata": {},
   "outputs": [
    {
     "data": {
      "text/plain": [
       "Unnamed: 0            int64\n",
       "Country              object\n",
       "Year                  int64\n",
       "Gender               object\n",
       "Age                  object\n",
       "Num_Suicides          int64\n",
       "Population            int64\n",
       "Suicides/100kPop    float64\n",
       "GDP/Year            float64\n",
       "GDP/Capita            int64\n",
       "Generation           object\n",
       "dtype: object"
      ]
     },
     "execution_count": 136,
     "metadata": {},
     "output_type": "execute_result"
    }
   ],
   "source": [
    "suicides.dtypes"
   ]
  },
  {
   "cell_type": "code",
   "execution_count": null,
   "metadata": {
    "collapsed": true
   },
   "outputs": [],
   "source": []
  },
  {
   "cell_type": "markdown",
   "metadata": {},
   "source": [
    "# NO ME CUADRA:"
   ]
  },
  {
   "cell_type": "code",
   "execution_count": 24,
   "metadata": {
    "collapsed": true
   },
   "outputs": [],
   "source": [
    "## es lo que aparece en la tabla de arriba, pero no es muy poco? \n",
    "\n",
    "pop15 = suicides[suicides['Year'] == 2015]['Population'].sum()"
   ]
  },
  {
   "cell_type": "code",
   "execution_count": 25,
   "metadata": {},
   "outputs": [
    {
     "data": {
      "text/plain": [
       "1774657932"
      ]
     },
     "execution_count": 25,
     "metadata": {},
     "output_type": "execute_result"
    }
   ],
   "source": [
    "pop15"
   ]
  },
  {
   "cell_type": "markdown",
   "metadata": {
    "collapsed": true
   },
   "source": [
    "# ------"
   ]
  },
  {
   "cell_type": "code",
   "execution_count": 26,
   "metadata": {
    "collapsed": true
   },
   "outputs": [],
   "source": [
    "# Q4) Males or females commit suicide more in 2015?"
   ]
  },
  {
   "cell_type": "markdown",
   "metadata": {},
   "source": [
    "# QUESTION 4:\n",
    "\n",
    "# Males or females commit suicide more in 2015?"
   ]
  },
  {
   "cell_type": "code",
   "execution_count": 27,
   "metadata": {
    "collapsed": true
   },
   "outputs": [],
   "source": [
    "# To answer this question we are going to create a dataframe for the year 2015:\n",
    "\n",
    "suicides_2015 = suicides[suicides['Year'] == 2015]"
   ]
  },
  {
   "cell_type": "code",
   "execution_count": 28,
   "metadata": {
    "collapsed": true
   },
   "outputs": [],
   "source": [
    "# Now we are going to filter by the columns we need:\n",
    "\n",
    "s_gender2015 = suicides_2015[['Gender','Num_Suicides']].groupby('Gender').sum()"
   ]
  },
  {
   "cell_type": "markdown",
   "metadata": {},
   "source": [
    "## As we can see, the number of suicides in 2015 is higher in males than in females:\n"
   ]
  },
  {
   "cell_type": "code",
   "execution_count": 29,
   "metadata": {},
   "outputs": [
    {
     "data": {
      "text/html": [
       "<div>\n",
       "<style>\n",
       "    .dataframe thead tr:only-child th {\n",
       "        text-align: right;\n",
       "    }\n",
       "\n",
       "    .dataframe thead th {\n",
       "        text-align: left;\n",
       "    }\n",
       "\n",
       "    .dataframe tbody tr th {\n",
       "        vertical-align: top;\n",
       "    }\n",
       "</style>\n",
       "<table border=\"1\" class=\"dataframe\">\n",
       "  <thead>\n",
       "    <tr style=\"text-align: right;\">\n",
       "      <th></th>\n",
       "      <th>Num_Suicides</th>\n",
       "    </tr>\n",
       "    <tr>\n",
       "      <th>Gender</th>\n",
       "      <th></th>\n",
       "    </tr>\n",
       "  </thead>\n",
       "  <tbody>\n",
       "    <tr>\n",
       "      <th>female</th>\n",
       "      <td>47248</td>\n",
       "    </tr>\n",
       "    <tr>\n",
       "      <th>male</th>\n",
       "      <td>156392</td>\n",
       "    </tr>\n",
       "  </tbody>\n",
       "</table>\n",
       "</div>"
      ],
      "text/plain": [
       "        Num_Suicides\n",
       "Gender              \n",
       "female         47248\n",
       "male          156392"
      ]
     },
     "execution_count": 29,
     "metadata": {},
     "output_type": "execute_result"
    }
   ],
   "source": [
    "s_gender2015"
   ]
  },
  {
   "cell_type": "code",
   "execution_count": 30,
   "metadata": {
    "collapsed": true
   },
   "outputs": [],
   "source": [
    "# Top 10 countries with more suicides in year 2015 taking into account the number of suicides."
   ]
  },
  {
   "cell_type": "code",
   "execution_count": 31,
   "metadata": {
    "collapsed": true
   },
   "outputs": [],
   "source": [
    "top10countriesbynum = suicides_2015[['Country','Num_Suicides']].groupby('Country').sum().sort_values(\"Num_Suicides\", ascending=False)[0:10]"
   ]
  },
  {
   "cell_type": "code",
   "execution_count": 32,
   "metadata": {},
   "outputs": [
    {
     "data": {
      "text/html": [
       "<div>\n",
       "<style>\n",
       "    .dataframe thead tr:only-child th {\n",
       "        text-align: right;\n",
       "    }\n",
       "\n",
       "    .dataframe thead th {\n",
       "        text-align: left;\n",
       "    }\n",
       "\n",
       "    .dataframe tbody tr th {\n",
       "        vertical-align: top;\n",
       "    }\n",
       "</style>\n",
       "<table border=\"1\" class=\"dataframe\">\n",
       "  <thead>\n",
       "    <tr style=\"text-align: right;\">\n",
       "      <th></th>\n",
       "      <th>Num_Suicides</th>\n",
       "    </tr>\n",
       "    <tr>\n",
       "      <th>Country</th>\n",
       "      <th></th>\n",
       "    </tr>\n",
       "  </thead>\n",
       "  <tbody>\n",
       "    <tr>\n",
       "      <th>United States</th>\n",
       "      <td>44189</td>\n",
       "    </tr>\n",
       "    <tr>\n",
       "      <th>Russian Federation</th>\n",
       "      <td>25432</td>\n",
       "    </tr>\n",
       "    <tr>\n",
       "      <th>Japan</th>\n",
       "      <td>23092</td>\n",
       "    </tr>\n",
       "    <tr>\n",
       "      <th>Republic of Korea</th>\n",
       "      <td>13510</td>\n",
       "    </tr>\n",
       "    <tr>\n",
       "      <th>Brazil</th>\n",
       "      <td>11163</td>\n",
       "    </tr>\n",
       "    <tr>\n",
       "      <th>Germany</th>\n",
       "      <td>10088</td>\n",
       "    </tr>\n",
       "    <tr>\n",
       "      <th>Ukraine</th>\n",
       "      <td>7574</td>\n",
       "    </tr>\n",
       "    <tr>\n",
       "      <th>Mexico</th>\n",
       "      <td>6234</td>\n",
       "    </tr>\n",
       "    <tr>\n",
       "      <th>Poland</th>\n",
       "      <td>5420</td>\n",
       "    </tr>\n",
       "    <tr>\n",
       "      <th>United Kingdom</th>\n",
       "      <td>4910</td>\n",
       "    </tr>\n",
       "  </tbody>\n",
       "</table>\n",
       "</div>"
      ],
      "text/plain": [
       "                    Num_Suicides\n",
       "Country                         \n",
       "United States              44189\n",
       "Russian Federation         25432\n",
       "Japan                      23092\n",
       "Republic of Korea          13510\n",
       "Brazil                     11163\n",
       "Germany                    10088\n",
       "Ukraine                     7574\n",
       "Mexico                      6234\n",
       "Poland                      5420\n",
       "United Kingdom              4910"
      ]
     },
     "execution_count": 32,
     "metadata": {},
     "output_type": "execute_result"
    }
   ],
   "source": [
    "top10countriesbynum"
   ]
  },
  {
   "cell_type": "markdown",
   "metadata": {},
   "source": [
    "# Now we realize that took into account the num of suicides. But if we take into account the size of the population, results can be different. Let's check:\n",
    "\n",
    "\n"
   ]
  },
  {
   "cell_type": "code",
   "execution_count": 33,
   "metadata": {
    "collapsed": true
   },
   "outputs": [],
   "source": [
    "top10bysize = suicides_2015[['Country','Suicides/100kPop']].groupby('Country').sum().sort_values(\"Suicides/100kPop\", ascending=False)[0:10]"
   ]
  },
  {
   "cell_type": "code",
   "execution_count": 34,
   "metadata": {
    "scrolled": true
   },
   "outputs": [
    {
     "data": {
      "text/html": [
       "<div>\n",
       "<style>\n",
       "    .dataframe thead tr:only-child th {\n",
       "        text-align: right;\n",
       "    }\n",
       "\n",
       "    .dataframe thead th {\n",
       "        text-align: left;\n",
       "    }\n",
       "\n",
       "    .dataframe tbody tr th {\n",
       "        vertical-align: top;\n",
       "    }\n",
       "</style>\n",
       "<table border=\"1\" class=\"dataframe\">\n",
       "  <thead>\n",
       "    <tr style=\"text-align: right;\">\n",
       "      <th></th>\n",
       "      <th>Suicides/100kPop</th>\n",
       "    </tr>\n",
       "    <tr>\n",
       "      <th>Country</th>\n",
       "      <th></th>\n",
       "    </tr>\n",
       "  </thead>\n",
       "  <tbody>\n",
       "    <tr>\n",
       "      <th>Republic of Korea</th>\n",
       "      <td>389.14000</td>\n",
       "    </tr>\n",
       "    <tr>\n",
       "      <th>Lithuania</th>\n",
       "      <td>385.48000</td>\n",
       "    </tr>\n",
       "    <tr>\n",
       "      <th>Uruguay</th>\n",
       "      <td>270.02000</td>\n",
       "    </tr>\n",
       "    <tr>\n",
       "      <th>Slovenia</th>\n",
       "      <td>264.81000</td>\n",
       "    </tr>\n",
       "    <tr>\n",
       "      <th>Hungary</th>\n",
       "      <td>257.27000</td>\n",
       "    </tr>\n",
       "    <tr>\n",
       "      <th>Latvia</th>\n",
       "      <td>251.47000</td>\n",
       "    </tr>\n",
       "    <tr>\n",
       "      <th>Ukraine</th>\n",
       "      <td>244.72000</td>\n",
       "    </tr>\n",
       "    <tr>\n",
       "      <th>Kazakhstan</th>\n",
       "      <td>238.02000</td>\n",
       "    </tr>\n",
       "    <tr>\n",
       "      <th>Russian Federation</th>\n",
       "      <td>236.92000</td>\n",
       "    </tr>\n",
       "    <tr>\n",
       "      <th>Croatia</th>\n",
       "      <td>229.68000</td>\n",
       "    </tr>\n",
       "  </tbody>\n",
       "</table>\n",
       "</div>"
      ],
      "text/plain": [
       "                    Suicides/100kPop\n",
       "Country                             \n",
       "Republic of Korea          389.14000\n",
       "Lithuania                  385.48000\n",
       "Uruguay                    270.02000\n",
       "Slovenia                   264.81000\n",
       "Hungary                    257.27000\n",
       "Latvia                     251.47000\n",
       "Ukraine                    244.72000\n",
       "Kazakhstan                 238.02000\n",
       "Russian Federation         236.92000\n",
       "Croatia                    229.68000"
      ]
     },
     "execution_count": 34,
     "metadata": {},
     "output_type": "execute_result"
    }
   ],
   "source": [
    "top10bysize"
   ]
  },
  {
   "cell_type": "markdown",
   "metadata": {},
   "source": [
    "### Taking the size of the population into account, we realize that only  Russia, Ukraine and Republic of Korea appears in this new ranking."
   ]
  },
  {
   "cell_type": "code",
   "execution_count": 35,
   "metadata": {
    "collapsed": true
   },
   "outputs": [],
   "source": [
    "# Creating an intersection by index to see which countries appears in both rankings.\n",
    "idx1 = pd.Index(top10bysize.index)\n",
    "idx2 = pd.Index(top10countriesbynum.index)"
   ]
  },
  {
   "cell_type": "code",
   "execution_count": 36,
   "metadata": {
    "collapsed": true
   },
   "outputs": [],
   "source": [
    "set_intersection = idx1.intersection(idx2)"
   ]
  },
  {
   "cell_type": "code",
   "execution_count": 37,
   "metadata": {},
   "outputs": [
    {
     "data": {
      "text/plain": [
       "Index(['Republic of Korea', 'Ukraine', 'Russian Federation'], dtype='object', name='Country')"
      ]
     },
     "execution_count": 37,
     "metadata": {},
     "output_type": "execute_result"
    }
   ],
   "source": [
    "set_intersection"
   ]
  },
  {
   "cell_type": "markdown",
   "metadata": {},
   "source": [
    "## Now we will do the same but by gender:"
   ]
  },
  {
   "cell_type": "markdown",
   "metadata": {},
   "source": [
    "### MALES : TOP 10 COUNTRIES BY NUM"
   ]
  },
  {
   "cell_type": "code",
   "execution_count": 38,
   "metadata": {
    "collapsed": true
   },
   "outputs": [],
   "source": [
    "top10malesbynum = suicides_2015[['Country','Gender','Num_Suicides']].loc[suicides_2015['Gender']=='male'].groupby('Country').sum().sort_values(\"Num_Suicides\", ascending=False)[0:10]"
   ]
  },
  {
   "cell_type": "code",
   "execution_count": 39,
   "metadata": {},
   "outputs": [
    {
     "data": {
      "text/html": [
       "<div>\n",
       "<style>\n",
       "    .dataframe thead tr:only-child th {\n",
       "        text-align: right;\n",
       "    }\n",
       "\n",
       "    .dataframe thead th {\n",
       "        text-align: left;\n",
       "    }\n",
       "\n",
       "    .dataframe tbody tr th {\n",
       "        vertical-align: top;\n",
       "    }\n",
       "</style>\n",
       "<table border=\"1\" class=\"dataframe\">\n",
       "  <thead>\n",
       "    <tr style=\"text-align: right;\">\n",
       "      <th></th>\n",
       "      <th>Num_Suicides</th>\n",
       "    </tr>\n",
       "    <tr>\n",
       "      <th>Country</th>\n",
       "      <th></th>\n",
       "    </tr>\n",
       "  </thead>\n",
       "  <tbody>\n",
       "    <tr>\n",
       "      <th>United States</th>\n",
       "      <td>33990</td>\n",
       "    </tr>\n",
       "    <tr>\n",
       "      <th>Russian Federation</th>\n",
       "      <td>20861</td>\n",
       "    </tr>\n",
       "    <tr>\n",
       "      <th>Japan</th>\n",
       "      <td>16146</td>\n",
       "    </tr>\n",
       "    <tr>\n",
       "      <th>Republic of Korea</th>\n",
       "      <td>9556</td>\n",
       "    </tr>\n",
       "    <tr>\n",
       "      <th>Brazil</th>\n",
       "      <td>8766</td>\n",
       "    </tr>\n",
       "    <tr>\n",
       "      <th>Germany</th>\n",
       "      <td>7403</td>\n",
       "    </tr>\n",
       "    <tr>\n",
       "      <th>Ukraine</th>\n",
       "      <td>6148</td>\n",
       "    </tr>\n",
       "    <tr>\n",
       "      <th>Mexico</th>\n",
       "      <td>4986</td>\n",
       "    </tr>\n",
       "    <tr>\n",
       "      <th>Poland</th>\n",
       "      <td>4697</td>\n",
       "    </tr>\n",
       "    <tr>\n",
       "      <th>United Kingdom</th>\n",
       "      <td>3732</td>\n",
       "    </tr>\n",
       "  </tbody>\n",
       "</table>\n",
       "</div>"
      ],
      "text/plain": [
       "                    Num_Suicides\n",
       "Country                         \n",
       "United States              33990\n",
       "Russian Federation         20861\n",
       "Japan                      16146\n",
       "Republic of Korea           9556\n",
       "Brazil                      8766\n",
       "Germany                     7403\n",
       "Ukraine                     6148\n",
       "Mexico                      4986\n",
       "Poland                      4697\n",
       "United Kingdom              3732"
      ]
     },
     "execution_count": 39,
     "metadata": {},
     "output_type": "execute_result"
    }
   ],
   "source": [
    "top10malesbynum"
   ]
  },
  {
   "cell_type": "markdown",
   "metadata": {},
   "source": [
    "### FEMALES : TOP 10 COUNTRIES BY NUM"
   ]
  },
  {
   "cell_type": "code",
   "execution_count": 40,
   "metadata": {
    "collapsed": true
   },
   "outputs": [],
   "source": [
    "top10femalesbynum = suicides_2015[['Country','Gender','Num_Suicides']].loc[suicides_2015['Gender']=='female'].groupby('Country').sum().sort_values(\"Num_Suicides\", ascending=False)[0:10]"
   ]
  },
  {
   "cell_type": "code",
   "execution_count": 41,
   "metadata": {},
   "outputs": [
    {
     "data": {
      "text/html": [
       "<div>\n",
       "<style>\n",
       "    .dataframe thead tr:only-child th {\n",
       "        text-align: right;\n",
       "    }\n",
       "\n",
       "    .dataframe thead th {\n",
       "        text-align: left;\n",
       "    }\n",
       "\n",
       "    .dataframe tbody tr th {\n",
       "        vertical-align: top;\n",
       "    }\n",
       "</style>\n",
       "<table border=\"1\" class=\"dataframe\">\n",
       "  <thead>\n",
       "    <tr style=\"text-align: right;\">\n",
       "      <th></th>\n",
       "      <th>Num_Suicides</th>\n",
       "    </tr>\n",
       "    <tr>\n",
       "      <th>Country</th>\n",
       "      <th></th>\n",
       "    </tr>\n",
       "  </thead>\n",
       "  <tbody>\n",
       "    <tr>\n",
       "      <th>United States</th>\n",
       "      <td>10199</td>\n",
       "    </tr>\n",
       "    <tr>\n",
       "      <th>Japan</th>\n",
       "      <td>6946</td>\n",
       "    </tr>\n",
       "    <tr>\n",
       "      <th>Russian Federation</th>\n",
       "      <td>4571</td>\n",
       "    </tr>\n",
       "    <tr>\n",
       "      <th>Republic of Korea</th>\n",
       "      <td>3954</td>\n",
       "    </tr>\n",
       "    <tr>\n",
       "      <th>Germany</th>\n",
       "      <td>2685</td>\n",
       "    </tr>\n",
       "    <tr>\n",
       "      <th>Brazil</th>\n",
       "      <td>2397</td>\n",
       "    </tr>\n",
       "    <tr>\n",
       "      <th>Ukraine</th>\n",
       "      <td>1426</td>\n",
       "    </tr>\n",
       "    <tr>\n",
       "      <th>Mexico</th>\n",
       "      <td>1248</td>\n",
       "    </tr>\n",
       "    <tr>\n",
       "      <th>United Kingdom</th>\n",
       "      <td>1178</td>\n",
       "    </tr>\n",
       "    <tr>\n",
       "      <th>Spain</th>\n",
       "      <td>923</td>\n",
       "    </tr>\n",
       "  </tbody>\n",
       "</table>\n",
       "</div>"
      ],
      "text/plain": [
       "                    Num_Suicides\n",
       "Country                         \n",
       "United States              10199\n",
       "Japan                       6946\n",
       "Russian Federation          4571\n",
       "Republic of Korea           3954\n",
       "Germany                     2685\n",
       "Brazil                      2397\n",
       "Ukraine                     1426\n",
       "Mexico                      1248\n",
       "United Kingdom              1178\n",
       "Spain                        923"
      ]
     },
     "execution_count": 41,
     "metadata": {},
     "output_type": "execute_result"
    }
   ],
   "source": [
    "top10femalesbynum"
   ]
  },
  {
   "cell_type": "code",
   "execution_count": 42,
   "metadata": {
    "collapsed": true
   },
   "outputs": [],
   "source": [
    "# Creating an intersection by index to see if the countries with a higher number of suicides\n",
    "# are the same countries for both genres.\n",
    "\n",
    "idgnf = pd.Index(top10femalesbynum.index)\n",
    "idgnm = pd.Index(top10malesbynum.index)"
   ]
  },
  {
   "cell_type": "code",
   "execution_count": 43,
   "metadata": {
    "collapsed": true
   },
   "outputs": [],
   "source": [
    "set_intersection = idgnf.intersection(idgnm)"
   ]
  },
  {
   "cell_type": "code",
   "execution_count": 44,
   "metadata": {},
   "outputs": [
    {
     "data": {
      "text/plain": [
       "Index(['United States', 'Japan', 'Russian Federation', 'Republic of Korea',\n",
       "       'Germany', 'Brazil', 'Ukraine', 'Mexico', 'United Kingdom'],\n",
       "      dtype='object', name='Country')"
      ]
     },
     "execution_count": 44,
     "metadata": {},
     "output_type": "execute_result"
    }
   ],
   "source": [
    "set_intersection"
   ]
  },
  {
   "cell_type": "markdown",
   "metadata": {},
   "source": [
    "### As we can see 9 out of 10 countries match"
   ]
  },
  {
   "cell_type": "code",
   "execution_count": 45,
   "metadata": {},
   "outputs": [
    {
     "data": {
      "text/plain": [
       "Index(['Spain'], dtype='object', name='Country')"
      ]
     },
     "execution_count": 45,
     "metadata": {},
     "output_type": "execute_result"
    }
   ],
   "source": [
    "# Spain appears in top10 of countries where females commit suicides.\n",
    "\n",
    "idgnf.difference(idgnm)"
   ]
  },
  {
   "cell_type": "code",
   "execution_count": 46,
   "metadata": {},
   "outputs": [
    {
     "data": {
      "text/plain": [
       "Index(['Poland'], dtype='object', name='Country')"
      ]
     },
     "execution_count": 46,
     "metadata": {},
     "output_type": "execute_result"
    }
   ],
   "source": [
    "# Poland appears in top10 of countries where males commit suicides.\n",
    "\n",
    "idgnm.difference(idgnf)"
   ]
  },
  {
   "cell_type": "markdown",
   "metadata": {},
   "source": [
    "### MALE: TOP 10 COUNTRIES BY SIZE\n"
   ]
  },
  {
   "cell_type": "code",
   "execution_count": 47,
   "metadata": {
    "collapsed": true
   },
   "outputs": [],
   "source": [
    "top10malesbysize = suicides_2015[['Country','Gender','Suicides/100kPop']].loc[suicides_2015['Gender']=='male'].groupby('Country').sum().sort_values(\"Suicides/100kPop\", ascending=False)[0:10]\n"
   ]
  },
  {
   "cell_type": "code",
   "execution_count": 48,
   "metadata": {},
   "outputs": [
    {
     "data": {
      "text/html": [
       "<div>\n",
       "<style>\n",
       "    .dataframe thead tr:only-child th {\n",
       "        text-align: right;\n",
       "    }\n",
       "\n",
       "    .dataframe thead th {\n",
       "        text-align: left;\n",
       "    }\n",
       "\n",
       "    .dataframe tbody tr th {\n",
       "        vertical-align: top;\n",
       "    }\n",
       "</style>\n",
       "<table border=\"1\" class=\"dataframe\">\n",
       "  <thead>\n",
       "    <tr style=\"text-align: right;\">\n",
       "      <th></th>\n",
       "      <th>Suicides/100kPop</th>\n",
       "    </tr>\n",
       "    <tr>\n",
       "      <th>Country</th>\n",
       "      <th></th>\n",
       "    </tr>\n",
       "  </thead>\n",
       "  <tbody>\n",
       "    <tr>\n",
       "      <th>Lithuania</th>\n",
       "      <td>323.31000</td>\n",
       "    </tr>\n",
       "    <tr>\n",
       "      <th>Republic of Korea</th>\n",
       "      <td>285.19000</td>\n",
       "    </tr>\n",
       "    <tr>\n",
       "      <th>Uruguay</th>\n",
       "      <td>223.03000</td>\n",
       "    </tr>\n",
       "    <tr>\n",
       "      <th>Slovenia</th>\n",
       "      <td>217.67000</td>\n",
       "    </tr>\n",
       "    <tr>\n",
       "      <th>Latvia</th>\n",
       "      <td>211.07000</td>\n",
       "    </tr>\n",
       "    <tr>\n",
       "      <th>Ukraine</th>\n",
       "      <td>206.64000</td>\n",
       "    </tr>\n",
       "    <tr>\n",
       "      <th>Hungary</th>\n",
       "      <td>203.39000</td>\n",
       "    </tr>\n",
       "    <tr>\n",
       "      <th>Russian Federation</th>\n",
       "      <td>199.26000</td>\n",
       "    </tr>\n",
       "    <tr>\n",
       "      <th>Kazakhstan</th>\n",
       "      <td>195.35000</td>\n",
       "    </tr>\n",
       "    <tr>\n",
       "      <th>Croatia</th>\n",
       "      <td>178.05000</td>\n",
       "    </tr>\n",
       "  </tbody>\n",
       "</table>\n",
       "</div>"
      ],
      "text/plain": [
       "                    Suicides/100kPop\n",
       "Country                             \n",
       "Lithuania                  323.31000\n",
       "Republic of Korea          285.19000\n",
       "Uruguay                    223.03000\n",
       "Slovenia                   217.67000\n",
       "Latvia                     211.07000\n",
       "Ukraine                    206.64000\n",
       "Hungary                    203.39000\n",
       "Russian Federation         199.26000\n",
       "Kazakhstan                 195.35000\n",
       "Croatia                    178.05000"
      ]
     },
     "execution_count": 48,
     "metadata": {},
     "output_type": "execute_result"
    }
   ],
   "source": [
    "top10malesbysize"
   ]
  },
  {
   "cell_type": "markdown",
   "metadata": {
    "collapsed": true
   },
   "source": [
    "### FEMALE: TOP 10 COUNTRIES BY SIZE"
   ]
  },
  {
   "cell_type": "code",
   "execution_count": 49,
   "metadata": {
    "collapsed": true
   },
   "outputs": [],
   "source": [
    "top10femalesbysize = suicides_2015[['Country','Gender','Suicides/100kPop']].loc[suicides_2015['Gender']=='female'].groupby('Country').sum().sort_values(\"Suicides/100kPop\", ascending=False)[0:10]\n"
   ]
  },
  {
   "cell_type": "code",
   "execution_count": 50,
   "metadata": {},
   "outputs": [
    {
     "data": {
      "text/html": [
       "<div>\n",
       "<style>\n",
       "    .dataframe thead tr:only-child th {\n",
       "        text-align: right;\n",
       "    }\n",
       "\n",
       "    .dataframe thead th {\n",
       "        text-align: left;\n",
       "    }\n",
       "\n",
       "    .dataframe tbody tr th {\n",
       "        vertical-align: top;\n",
       "    }\n",
       "</style>\n",
       "<table border=\"1\" class=\"dataframe\">\n",
       "  <thead>\n",
       "    <tr style=\"text-align: right;\">\n",
       "      <th></th>\n",
       "      <th>Suicides/100kPop</th>\n",
       "    </tr>\n",
       "    <tr>\n",
       "      <th>Country</th>\n",
       "      <th></th>\n",
       "    </tr>\n",
       "  </thead>\n",
       "  <tbody>\n",
       "    <tr>\n",
       "      <th>Republic of Korea</th>\n",
       "      <td>103.95000</td>\n",
       "    </tr>\n",
       "    <tr>\n",
       "      <th>Lithuania</th>\n",
       "      <td>62.17000</td>\n",
       "    </tr>\n",
       "    <tr>\n",
       "      <th>Japan</th>\n",
       "      <td>58.29000</td>\n",
       "    </tr>\n",
       "    <tr>\n",
       "      <th>Hungary</th>\n",
       "      <td>53.88000</td>\n",
       "    </tr>\n",
       "    <tr>\n",
       "      <th>Belgium</th>\n",
       "      <td>52.21000</td>\n",
       "    </tr>\n",
       "    <tr>\n",
       "      <th>Croatia</th>\n",
       "      <td>51.63000</td>\n",
       "    </tr>\n",
       "    <tr>\n",
       "      <th>Slovenia</th>\n",
       "      <td>47.14000</td>\n",
       "    </tr>\n",
       "    <tr>\n",
       "      <th>Uruguay</th>\n",
       "      <td>46.99000</td>\n",
       "    </tr>\n",
       "    <tr>\n",
       "      <th>Iceland</th>\n",
       "      <td>45.69000</td>\n",
       "    </tr>\n",
       "    <tr>\n",
       "      <th>Serbia</th>\n",
       "      <td>45.29000</td>\n",
       "    </tr>\n",
       "  </tbody>\n",
       "</table>\n",
       "</div>"
      ],
      "text/plain": [
       "                   Suicides/100kPop\n",
       "Country                            \n",
       "Republic of Korea         103.95000\n",
       "Lithuania                  62.17000\n",
       "Japan                      58.29000\n",
       "Hungary                    53.88000\n",
       "Belgium                    52.21000\n",
       "Croatia                    51.63000\n",
       "Slovenia                   47.14000\n",
       "Uruguay                    46.99000\n",
       "Iceland                    45.69000\n",
       "Serbia                     45.29000"
      ]
     },
     "execution_count": 50,
     "metadata": {},
     "output_type": "execute_result"
    }
   ],
   "source": [
    "top10femalesbysize"
   ]
  },
  {
   "cell_type": "code",
   "execution_count": 51,
   "metadata": {
    "collapsed": true
   },
   "outputs": [],
   "source": [
    "# Creating an intersection by index to see if the countries with a higher number of suicides \n",
    "# by size of the population are the same countries for both genres.\n",
    "\n",
    "idgsf = pd.Index(top10femalesbysize.index)\n",
    "idgsm = pd.Index(top10malesbysize.index)"
   ]
  },
  {
   "cell_type": "code",
   "execution_count": 52,
   "metadata": {
    "collapsed": true
   },
   "outputs": [],
   "source": [
    "set_intersection = idgsf.intersection(idgsm)"
   ]
  },
  {
   "cell_type": "code",
   "execution_count": 53,
   "metadata": {},
   "outputs": [
    {
     "data": {
      "text/plain": [
       "Index(['Republic of Korea', 'Lithuania', 'Hungary', 'Croatia', 'Slovenia',\n",
       "       'Uruguay'],\n",
       "      dtype='object', name='Country')"
      ]
     },
     "execution_count": 53,
     "metadata": {},
     "output_type": "execute_result"
    }
   ],
   "source": [
    "set_intersection"
   ]
  },
  {
   "cell_type": "code",
   "execution_count": 54,
   "metadata": {},
   "outputs": [
    {
     "data": {
      "text/plain": [
       "Index(['Belgium', 'Iceland', 'Japan', 'Serbia'], dtype='object', name='Country')"
      ]
     },
     "execution_count": 54,
     "metadata": {},
     "output_type": "execute_result"
    }
   ],
   "source": [
    "# females but no males:\n",
    "\n",
    "idgsf.difference(idgsm)"
   ]
  },
  {
   "cell_type": "code",
   "execution_count": 55,
   "metadata": {},
   "outputs": [
    {
     "data": {
      "text/plain": [
       "Index(['Kazakhstan', 'Latvia', 'Russian Federation', 'Ukraine'], dtype='object', name='Country')"
      ]
     },
     "execution_count": 55,
     "metadata": {},
     "output_type": "execute_result"
    }
   ],
   "source": [
    "# males but not females:\n",
    "\n",
    "idgsm.difference(idgsf)"
   ]
  },
  {
   "cell_type": "markdown",
   "metadata": {},
   "source": [
    "### In this case, the countries Republic of Korea,  Lithuania, Hungary, Croatia, Slovenia and Uruguay match for both genres.\n",
    "\n",
    "### But Belgiun, Iceland, Japan and Serbia appear in the top 10 for females while Kazakhstan, Latvia, Russian Federation and Ukraine appear in the top 10 for males."
   ]
  },
  {
   "cell_type": "code",
   "execution_count": null,
   "metadata": {
    "collapsed": true
   },
   "outputs": [],
   "source": []
  },
  {
   "cell_type": "markdown",
   "metadata": {},
   "source": [
    "# QUESTION 5: \n",
    "\n",
    "#  Which generation has committed suicide the most/least?\n"
   ]
  },
  {
   "cell_type": "code",
   "execution_count": 56,
   "metadata": {},
   "outputs": [
    {
     "data": {
      "text/html": [
       "<div>\n",
       "<style>\n",
       "    .dataframe thead tr:only-child th {\n",
       "        text-align: right;\n",
       "    }\n",
       "\n",
       "    .dataframe thead th {\n",
       "        text-align: left;\n",
       "    }\n",
       "\n",
       "    .dataframe tbody tr th {\n",
       "        vertical-align: top;\n",
       "    }\n",
       "</style>\n",
       "<table border=\"1\" class=\"dataframe\">\n",
       "  <thead>\n",
       "    <tr style=\"text-align: right;\">\n",
       "      <th></th>\n",
       "      <th>Country</th>\n",
       "      <th>Year</th>\n",
       "      <th>Gender</th>\n",
       "      <th>Age</th>\n",
       "      <th>Num_Suicides</th>\n",
       "      <th>Population</th>\n",
       "      <th>Suicides/100kPop</th>\n",
       "      <th>GDP/Year</th>\n",
       "      <th>GDP/Capita</th>\n",
       "      <th>Generation</th>\n",
       "    </tr>\n",
       "  </thead>\n",
       "  <tbody>\n",
       "    <tr>\n",
       "      <th>576</th>\n",
       "      <td>Antigua and Barbuda</td>\n",
       "      <td>2015</td>\n",
       "      <td>female</td>\n",
       "      <td>55-74 years</td>\n",
       "      <td>1</td>\n",
       "      <td>6403</td>\n",
       "      <td>15.62000</td>\n",
       "      <td>1364863037.00000</td>\n",
       "      <td>14853</td>\n",
       "      <td>Boomers</td>\n",
       "    </tr>\n",
       "    <tr>\n",
       "      <th>577</th>\n",
       "      <td>Antigua and Barbuda</td>\n",
       "      <td>2015</td>\n",
       "      <td>female</td>\n",
       "      <td>15-24 years</td>\n",
       "      <td>0</td>\n",
       "      <td>8561</td>\n",
       "      <td>0.00000</td>\n",
       "      <td>1364863037.00000</td>\n",
       "      <td>14853</td>\n",
       "      <td>Millenials</td>\n",
       "    </tr>\n",
       "  </tbody>\n",
       "</table>\n",
       "</div>"
      ],
      "text/plain": [
       "                 Country  Year  Gender          Age  Num_Suicides  Population  \\\n",
       "576  Antigua and Barbuda  2015  female  55-74 years             1        6403   \n",
       "577  Antigua and Barbuda  2015  female  15-24 years             0        8561   \n",
       "\n",
       "     Suicides/100kPop         GDP/Year  GDP/Capita  Generation  \n",
       "576          15.62000 1364863037.00000       14853     Boomers  \n",
       "577           0.00000 1364863037.00000       14853  Millenials  "
      ]
     },
     "execution_count": 56,
     "metadata": {},
     "output_type": "execute_result"
    }
   ],
   "source": [
    "# checking the data \n",
    "\n",
    "suicides_2015.head(2)"
   ]
  },
  {
   "cell_type": "code",
   "execution_count": null,
   "metadata": {
    "collapsed": true
   },
   "outputs": [],
   "source": []
  },
  {
   "cell_type": "markdown",
   "metadata": {},
   "source": [
    "## Let's check the number of suicides grouped by generations:"
   ]
  },
  {
   "cell_type": "markdown",
   "metadata": {},
   "source": [
    "## First, we will see which generation committed more suicides from 2000 till 2015"
   ]
  },
  {
   "cell_type": "code",
   "execution_count": 73,
   "metadata": {
    "collapsed": true
   },
   "outputs": [],
   "source": [
    "# Change 'Year' to integer so we can filter by years.\n",
    "suicides_new = suicides.astype({\"Year\": 'int64'})"
   ]
  },
  {
   "cell_type": "code",
   "execution_count": 113,
   "metadata": {
    "collapsed": true
   },
   "outputs": [],
   "source": [
    "# This will be our filter\n",
    "mask = (suicides_new['Year'] >= 1990) & (suicides_new['Year'] < 2016)"
   ]
  },
  {
   "cell_type": "code",
   "execution_count": 114,
   "metadata": {
    "collapsed": true
   },
   "outputs": [],
   "source": [
    "df = suicides_new.loc[mask]"
   ]
  },
  {
   "cell_type": "code",
   "execution_count": 115,
   "metadata": {},
   "outputs": [
    {
     "data": {
      "text/html": [
       "<div>\n",
       "<style>\n",
       "    .dataframe thead tr:only-child th {\n",
       "        text-align: right;\n",
       "    }\n",
       "\n",
       "    .dataframe thead th {\n",
       "        text-align: left;\n",
       "    }\n",
       "\n",
       "    .dataframe tbody tr th {\n",
       "        vertical-align: top;\n",
       "    }\n",
       "</style>\n",
       "<table border=\"1\" class=\"dataframe\">\n",
       "  <thead>\n",
       "    <tr style=\"text-align: right;\">\n",
       "      <th></th>\n",
       "      <th>Country</th>\n",
       "      <th>Year</th>\n",
       "      <th>Gender</th>\n",
       "      <th>Age</th>\n",
       "      <th>Num_Suicides</th>\n",
       "      <th>Population</th>\n",
       "      <th>Suicides/100kPop</th>\n",
       "      <th>GDP/Year</th>\n",
       "      <th>GDP/Capita</th>\n",
       "      <th>Generation</th>\n",
       "    </tr>\n",
       "  </thead>\n",
       "  <tbody>\n",
       "    <tr>\n",
       "      <th>36</th>\n",
       "      <td>Albania</td>\n",
       "      <td>1992</td>\n",
       "      <td>male</td>\n",
       "      <td>35-54 years</td>\n",
       "      <td>12</td>\n",
       "      <td>343800</td>\n",
       "      <td>3.49000</td>\n",
       "      <td>709452584.00000</td>\n",
       "      <td>251</td>\n",
       "      <td>Boomers</td>\n",
       "    </tr>\n",
       "    <tr>\n",
       "      <th>37</th>\n",
       "      <td>Albania</td>\n",
       "      <td>1992</td>\n",
       "      <td>male</td>\n",
       "      <td>15-24 years</td>\n",
       "      <td>9</td>\n",
       "      <td>263700</td>\n",
       "      <td>3.41000</td>\n",
       "      <td>709452584.00000</td>\n",
       "      <td>251</td>\n",
       "      <td>Generation X</td>\n",
       "    </tr>\n",
       "  </tbody>\n",
       "</table>\n",
       "</div>"
      ],
      "text/plain": [
       "    Country  Year Gender          Age  Num_Suicides  Population  \\\n",
       "36  Albania  1992   male  35-54 years            12      343800   \n",
       "37  Albania  1992   male  15-24 years             9      263700   \n",
       "\n",
       "    Suicides/100kPop        GDP/Year  GDP/Capita    Generation  \n",
       "36           3.49000 709452584.00000         251       Boomers  \n",
       "37           3.41000 709452584.00000         251  Generation X  "
      ]
     },
     "execution_count": 115,
     "metadata": {},
     "output_type": "execute_result"
    }
   ],
   "source": [
    "# new data frame from 1990 till 2015 \n",
    "df.head(2)"
   ]
  },
  {
   "cell_type": "code",
   "execution_count": 100,
   "metadata": {
    "collapsed": true
   },
   "outputs": [],
   "source": [
    "df1 = df[['Generation', 'Age','Num_Suicides']]"
   ]
  },
  {
   "cell_type": "code",
   "execution_count": 101,
   "metadata": {},
   "outputs": [
    {
     "data": {
      "text/html": [
       "<div>\n",
       "<style>\n",
       "    .dataframe thead tr:only-child th {\n",
       "        text-align: right;\n",
       "    }\n",
       "\n",
       "    .dataframe thead th {\n",
       "        text-align: left;\n",
       "    }\n",
       "\n",
       "    .dataframe tbody tr th {\n",
       "        vertical-align: top;\n",
       "    }\n",
       "</style>\n",
       "<table border=\"1\" class=\"dataframe\">\n",
       "  <thead>\n",
       "    <tr style=\"text-align: right;\">\n",
       "      <th></th>\n",
       "      <th></th>\n",
       "      <th>Num_Suicides</th>\n",
       "    </tr>\n",
       "    <tr>\n",
       "      <th>Generation</th>\n",
       "      <th>Age</th>\n",
       "      <th></th>\n",
       "    </tr>\n",
       "  </thead>\n",
       "  <tbody>\n",
       "    <tr>\n",
       "      <th rowspan=\"2\" valign=\"top\">Boomers</th>\n",
       "      <th>35-54 years</th>\n",
       "      <td>923044</td>\n",
       "    </tr>\n",
       "    <tr>\n",
       "      <th>55-74 years</th>\n",
       "      <td>286601</td>\n",
       "    </tr>\n",
       "    <tr>\n",
       "      <th>G.I. Generation</th>\n",
       "      <th>75+ years</th>\n",
       "      <td>21633</td>\n",
       "    </tr>\n",
       "    <tr>\n",
       "      <th rowspan=\"3\" valign=\"top\">Generation X</th>\n",
       "      <th>15-24 years</th>\n",
       "      <td>31742</td>\n",
       "    </tr>\n",
       "    <tr>\n",
       "      <th>25-34 years</th>\n",
       "      <td>430755</td>\n",
       "    </tr>\n",
       "    <tr>\n",
       "      <th>35-54 years</th>\n",
       "      <td>485848</td>\n",
       "    </tr>\n",
       "    <tr>\n",
       "      <th>Generation Z</th>\n",
       "      <th>5-14 years</th>\n",
       "      <td>15906</td>\n",
       "    </tr>\n",
       "    <tr>\n",
       "      <th rowspan=\"3\" valign=\"top\">Millenials</th>\n",
       "      <th>15-24 years</th>\n",
       "      <td>413035</td>\n",
       "    </tr>\n",
       "    <tr>\n",
       "      <th>25-34 years</th>\n",
       "      <td>177128</td>\n",
       "    </tr>\n",
       "    <tr>\n",
       "      <th>5-14 years</th>\n",
       "      <td>13465</td>\n",
       "    </tr>\n",
       "    <tr>\n",
       "      <th rowspan=\"2\" valign=\"top\">Silent</th>\n",
       "      <th>55-74 years</th>\n",
       "      <td>645749</td>\n",
       "    </tr>\n",
       "    <tr>\n",
       "      <th>75+ years</th>\n",
       "      <td>349860</td>\n",
       "    </tr>\n",
       "  </tbody>\n",
       "</table>\n",
       "</div>"
      ],
      "text/plain": [
       "                             Num_Suicides\n",
       "Generation      Age                      \n",
       "Boomers         35-54 years        923044\n",
       "                55-74 years        286601\n",
       "G.I. Generation 75+ years           21633\n",
       "Generation X    15-24 years         31742\n",
       "                25-34 years        430755\n",
       "                35-54 years        485848\n",
       "Generation Z    5-14 years          15906\n",
       "Millenials      15-24 years        413035\n",
       "                25-34 years        177128\n",
       "                5-14 years          13465\n",
       "Silent          55-74 years        645749\n",
       "                75+ years          349860"
      ]
     },
     "execution_count": 101,
     "metadata": {},
     "output_type": "execute_result"
    }
   ],
   "source": [
    "df1.groupby(['Generation','Age']).sum()"
   ]
  },
  {
   "cell_type": "code",
   "execution_count": 102,
   "metadata": {
    "collapsed": true
   },
   "outputs": [],
   "source": [
    "# we will drop the column 'Age' because can be confuse as is taking two different ranges\n",
    "# fot the same generation. The reason why it does this is because in 2000 people from the same\n",
    "# generation was in another range of age."
   ]
  },
  {
   "cell_type": "code",
   "execution_count": 103,
   "metadata": {
    "collapsed": true
   },
   "outputs": [],
   "source": [
    "df1 = df1.groupby('Generation').sum().sort_values(\"Num_Suicides\", ascending=False)"
   ]
  },
  {
   "cell_type": "code",
   "execution_count": 104,
   "metadata": {},
   "outputs": [
    {
     "data": {
      "text/html": [
       "<div>\n",
       "<style>\n",
       "    .dataframe thead tr:only-child th {\n",
       "        text-align: right;\n",
       "    }\n",
       "\n",
       "    .dataframe thead th {\n",
       "        text-align: left;\n",
       "    }\n",
       "\n",
       "    .dataframe tbody tr th {\n",
       "        vertical-align: top;\n",
       "    }\n",
       "</style>\n",
       "<table border=\"1\" class=\"dataframe\">\n",
       "  <thead>\n",
       "    <tr style=\"text-align: right;\">\n",
       "      <th></th>\n",
       "      <th>Num_Suicides</th>\n",
       "    </tr>\n",
       "    <tr>\n",
       "      <th>Generation</th>\n",
       "      <th></th>\n",
       "    </tr>\n",
       "  </thead>\n",
       "  <tbody>\n",
       "    <tr>\n",
       "      <th>Boomers</th>\n",
       "      <td>1209645</td>\n",
       "    </tr>\n",
       "    <tr>\n",
       "      <th>Silent</th>\n",
       "      <td>995609</td>\n",
       "    </tr>\n",
       "    <tr>\n",
       "      <th>Generation X</th>\n",
       "      <td>948345</td>\n",
       "    </tr>\n",
       "    <tr>\n",
       "      <th>Millenials</th>\n",
       "      <td>603628</td>\n",
       "    </tr>\n",
       "    <tr>\n",
       "      <th>G.I. Generation</th>\n",
       "      <td>21633</td>\n",
       "    </tr>\n",
       "    <tr>\n",
       "      <th>Generation Z</th>\n",
       "      <td>15906</td>\n",
       "    </tr>\n",
       "  </tbody>\n",
       "</table>\n",
       "</div>"
      ],
      "text/plain": [
       "                 Num_Suicides\n",
       "Generation                   \n",
       "Boomers               1209645\n",
       "Silent                 995609\n",
       "Generation X           948345\n",
       "Millenials             603628\n",
       "G.I. Generation         21633\n",
       "Generation Z            15906"
      ]
     },
     "execution_count": 104,
     "metadata": {},
     "output_type": "execute_result"
    }
   ],
   "source": [
    "df1"
   ]
  },
  {
   "cell_type": "markdown",
   "metadata": {},
   "source": [
    "### ----- COUNT CUANTOS DE CADA GENERATION HAY ------"
   ]
  },
  {
   "cell_type": "code",
   "execution_count": 106,
   "metadata": {
    "collapsed": true
   },
   "outputs": [],
   "source": [
    "df2 = df.groupby('Generation').sum().sort_values(\"Num_Suicides\", ascending=False)"
   ]
  },
  {
   "cell_type": "code",
   "execution_count": 109,
   "metadata": {
    "collapsed": true
   },
   "outputs": [],
   "source": [
    "df2 = df2[['Population', 'Suicides/100kPop']]"
   ]
  },
  {
   "cell_type": "code",
   "execution_count": 110,
   "metadata": {},
   "outputs": [
    {
     "data": {
      "text/html": [
       "<div>\n",
       "<style>\n",
       "    .dataframe thead tr:only-child th {\n",
       "        text-align: right;\n",
       "    }\n",
       "\n",
       "    .dataframe thead th {\n",
       "        text-align: left;\n",
       "    }\n",
       "\n",
       "    .dataframe tbody tr th {\n",
       "        vertical-align: top;\n",
       "    }\n",
       "</style>\n",
       "<table border=\"1\" class=\"dataframe\">\n",
       "  <thead>\n",
       "    <tr style=\"text-align: right;\">\n",
       "      <th></th>\n",
       "      <th>Population</th>\n",
       "      <th>Suicides/100kPop</th>\n",
       "    </tr>\n",
       "    <tr>\n",
       "      <th>Generation</th>\n",
       "      <th></th>\n",
       "      <th></th>\n",
       "    </tr>\n",
       "  </thead>\n",
       "  <tbody>\n",
       "    <tr>\n",
       "      <th>Boomers</th>\n",
       "      <td>7112476453</td>\n",
       "      <td>36854.62000</td>\n",
       "    </tr>\n",
       "    <tr>\n",
       "      <th>Silent</th>\n",
       "      <td>5076891426</td>\n",
       "      <td>84449.40000</td>\n",
       "    </tr>\n",
       "    <tr>\n",
       "      <th>Generation X</th>\n",
       "      <td>6908760170</td>\n",
       "      <td>36966.83000</td>\n",
       "    </tr>\n",
       "    <tr>\n",
       "      <th>Millenials</th>\n",
       "      <td>8025200090</td>\n",
       "      <td>30024.97000</td>\n",
       "    </tr>\n",
       "    <tr>\n",
       "      <th>G.I. Generation</th>\n",
       "      <td>86361616</td>\n",
       "      <td>4461.89000</td>\n",
       "    </tr>\n",
       "    <tr>\n",
       "      <th>Generation Z</th>\n",
       "      <td>2503541842</td>\n",
       "      <td>944.18000</td>\n",
       "    </tr>\n",
       "  </tbody>\n",
       "</table>\n",
       "</div>"
      ],
      "text/plain": [
       "                 Population  Suicides/100kPop\n",
       "Generation                                   \n",
       "Boomers          7112476453       36854.62000\n",
       "Silent           5076891426       84449.40000\n",
       "Generation X     6908760170       36966.83000\n",
       "Millenials       8025200090       30024.97000\n",
       "G.I. Generation    86361616        4461.89000\n",
       "Generation Z     2503541842         944.18000"
      ]
     },
     "execution_count": 110,
     "metadata": {},
     "output_type": "execute_result"
    }
   ],
   "source": [
    "df2"
   ]
  },
  {
   "cell_type": "code",
   "execution_count": 111,
   "metadata": {},
   "outputs": [
    {
     "data": {
      "text/plain": [
       "29713231597"
      ]
     },
     "execution_count": 111,
     "metadata": {},
     "output_type": "execute_result"
    }
   ],
   "source": [
    "df2['Population'].sum()"
   ]
  },
  {
   "cell_type": "code",
   "execution_count": 66,
   "metadata": {
    "collapsed": true
   },
   "outputs": [],
   "source": [
    "# Let's see what happened in 2015:"
   ]
  },
  {
   "cell_type": "code",
   "execution_count": 67,
   "metadata": {
    "collapsed": true
   },
   "outputs": [],
   "source": [
    "sui_gen = suicides_2015[['Generation', 'Age','Num_Suicides']]"
   ]
  },
  {
   "cell_type": "code",
   "execution_count": 68,
   "metadata": {},
   "outputs": [
    {
     "data": {
      "text/html": [
       "<div>\n",
       "<style>\n",
       "    .dataframe thead tr:only-child th {\n",
       "        text-align: right;\n",
       "    }\n",
       "\n",
       "    .dataframe thead th {\n",
       "        text-align: left;\n",
       "    }\n",
       "\n",
       "    .dataframe tbody tr th {\n",
       "        vertical-align: top;\n",
       "    }\n",
       "</style>\n",
       "<table border=\"1\" class=\"dataframe\">\n",
       "  <thead>\n",
       "    <tr style=\"text-align: right;\">\n",
       "      <th></th>\n",
       "      <th></th>\n",
       "      <th>Num_Suicides</th>\n",
       "    </tr>\n",
       "    <tr>\n",
       "      <th>Generation</th>\n",
       "      <th>Age</th>\n",
       "      <th></th>\n",
       "    </tr>\n",
       "  </thead>\n",
       "  <tbody>\n",
       "    <tr>\n",
       "      <th>Boomers</th>\n",
       "      <th>55-74 years</th>\n",
       "      <td>53588</td>\n",
       "    </tr>\n",
       "    <tr>\n",
       "      <th>Generation X</th>\n",
       "      <th>35-54 years</th>\n",
       "      <td>71298</td>\n",
       "    </tr>\n",
       "    <tr>\n",
       "      <th>Generation Z</th>\n",
       "      <th>5-14 years</th>\n",
       "      <td>1681</td>\n",
       "    </tr>\n",
       "    <tr>\n",
       "      <th rowspan=\"2\" valign=\"top\">Millenials</th>\n",
       "      <th>15-24 years</th>\n",
       "      <td>21841</td>\n",
       "    </tr>\n",
       "    <tr>\n",
       "      <th>25-34 years</th>\n",
       "      <td>32118</td>\n",
       "    </tr>\n",
       "    <tr>\n",
       "      <th>Silent</th>\n",
       "      <th>75+ years</th>\n",
       "      <td>23114</td>\n",
       "    </tr>\n",
       "  </tbody>\n",
       "</table>\n",
       "</div>"
      ],
      "text/plain": [
       "                          Num_Suicides\n",
       "Generation   Age                      \n",
       "Boomers      55-74 years         53588\n",
       "Generation X 35-54 years         71298\n",
       "Generation Z 5-14 years           1681\n",
       "Millenials   15-24 years         21841\n",
       "             25-34 years         32118\n",
       "Silent       75+ years           23114"
      ]
     },
     "execution_count": 68,
     "metadata": {},
     "output_type": "execute_result"
    }
   ],
   "source": [
    "sui_gen.groupby(['Generation','Age']).sum()"
   ]
  },
  {
   "cell_type": "markdown",
   "metadata": {},
   "source": [
    "## - - FALTA MERGE MILLENIALS ROWS - -"
   ]
  },
  {
   "cell_type": "code",
   "execution_count": 69,
   "metadata": {
    "collapsed": true
   },
   "outputs": [],
   "source": [
    "#Q6) Countries with the highest 5-14 years range suicide rate?"
   ]
  },
  {
   "cell_type": "code",
   "execution_count": 112,
   "metadata": {},
   "outputs": [
    {
     "data": {
      "text/html": [
       "<div>\n",
       "<style>\n",
       "    .dataframe thead tr:only-child th {\n",
       "        text-align: right;\n",
       "    }\n",
       "\n",
       "    .dataframe thead th {\n",
       "        text-align: left;\n",
       "    }\n",
       "\n",
       "    .dataframe tbody tr th {\n",
       "        vertical-align: top;\n",
       "    }\n",
       "</style>\n",
       "<table border=\"1\" class=\"dataframe\">\n",
       "  <thead>\n",
       "    <tr style=\"text-align: right;\">\n",
       "      <th></th>\n",
       "      <th>Country</th>\n",
       "      <th>Year</th>\n",
       "      <th>Gender</th>\n",
       "      <th>Age</th>\n",
       "      <th>Num_Suicides</th>\n",
       "      <th>Population</th>\n",
       "      <th>Suicides/100kPop</th>\n",
       "      <th>GDP/Year</th>\n",
       "      <th>GDP/Capita</th>\n",
       "      <th>Generation</th>\n",
       "    </tr>\n",
       "  </thead>\n",
       "  <tbody>\n",
       "    <tr>\n",
       "      <th>0</th>\n",
       "      <td>Albania</td>\n",
       "      <td>1987</td>\n",
       "      <td>male</td>\n",
       "      <td>15-24 years</td>\n",
       "      <td>21</td>\n",
       "      <td>312900</td>\n",
       "      <td>6.71000</td>\n",
       "      <td>2156624900.00000</td>\n",
       "      <td>796</td>\n",
       "      <td>Generation X</td>\n",
       "    </tr>\n",
       "    <tr>\n",
       "      <th>1</th>\n",
       "      <td>Albania</td>\n",
       "      <td>1987</td>\n",
       "      <td>male</td>\n",
       "      <td>35-54 years</td>\n",
       "      <td>16</td>\n",
       "      <td>308000</td>\n",
       "      <td>5.19000</td>\n",
       "      <td>2156624900.00000</td>\n",
       "      <td>796</td>\n",
       "      <td>Silent</td>\n",
       "    </tr>\n",
       "    <tr>\n",
       "      <th>2</th>\n",
       "      <td>Albania</td>\n",
       "      <td>1987</td>\n",
       "      <td>female</td>\n",
       "      <td>15-24 years</td>\n",
       "      <td>14</td>\n",
       "      <td>289700</td>\n",
       "      <td>4.83000</td>\n",
       "      <td>2156624900.00000</td>\n",
       "      <td>796</td>\n",
       "      <td>Generation X</td>\n",
       "    </tr>\n",
       "    <tr>\n",
       "      <th>3</th>\n",
       "      <td>Albania</td>\n",
       "      <td>1987</td>\n",
       "      <td>male</td>\n",
       "      <td>75+ years</td>\n",
       "      <td>1</td>\n",
       "      <td>21800</td>\n",
       "      <td>4.59000</td>\n",
       "      <td>2156624900.00000</td>\n",
       "      <td>796</td>\n",
       "      <td>G.I. Generation</td>\n",
       "    </tr>\n",
       "    <tr>\n",
       "      <th>4</th>\n",
       "      <td>Albania</td>\n",
       "      <td>1987</td>\n",
       "      <td>male</td>\n",
       "      <td>25-34 years</td>\n",
       "      <td>9</td>\n",
       "      <td>274300</td>\n",
       "      <td>3.28000</td>\n",
       "      <td>2156624900.00000</td>\n",
       "      <td>796</td>\n",
       "      <td>Boomers</td>\n",
       "    </tr>\n",
       "  </tbody>\n",
       "</table>\n",
       "</div>"
      ],
      "text/plain": [
       "   Country  Year  Gender          Age  Num_Suicides  Population  \\\n",
       "0  Albania  1987    male  15-24 years            21      312900   \n",
       "1  Albania  1987    male  35-54 years            16      308000   \n",
       "2  Albania  1987  female  15-24 years            14      289700   \n",
       "3  Albania  1987    male    75+ years             1       21800   \n",
       "4  Albania  1987    male  25-34 years             9      274300   \n",
       "\n",
       "   Suicides/100kPop         GDP/Year  GDP/Capita       Generation  \n",
       "0           6.71000 2156624900.00000         796     Generation X  \n",
       "1           5.19000 2156624900.00000         796           Silent  \n",
       "2           4.83000 2156624900.00000         796     Generation X  \n",
       "3           4.59000 2156624900.00000         796  G.I. Generation  \n",
       "4           3.28000 2156624900.00000         796          Boomers  "
      ]
     },
     "execution_count": 112,
     "metadata": {},
     "output_type": "execute_result"
    }
   ],
   "source": [
    "suicides.head()"
   ]
  },
  {
   "cell_type": "code",
   "execution_count": null,
   "metadata": {
    "collapsed": true
   },
   "outputs": [],
   "source": [
    "suicides_lrange = suicides"
   ]
  },
  {
   "cell_type": "code",
   "execution_count": null,
   "metadata": {
    "collapsed": true
   },
   "outputs": [],
   "source": []
  },
  {
   "cell_type": "code",
   "execution_count": null,
   "metadata": {
    "collapsed": true
   },
   "outputs": [],
   "source": []
  },
  {
   "cell_type": "code",
   "execution_count": null,
   "metadata": {
    "collapsed": true
   },
   "outputs": [],
   "source": []
  },
  {
   "cell_type": "code",
   "execution_count": null,
   "metadata": {
    "collapsed": true
   },
   "outputs": [],
   "source": []
  },
  {
   "cell_type": "code",
   "execution_count": null,
   "metadata": {
    "collapsed": true
   },
   "outputs": [],
   "source": []
  },
  {
   "cell_type": "code",
   "execution_count": null,
   "metadata": {
    "collapsed": true
   },
   "outputs": [],
   "source": []
  },
  {
   "cell_type": "code",
   "execution_count": null,
   "metadata": {
    "collapsed": true
   },
   "outputs": [],
   "source": []
  },
  {
   "cell_type": "code",
   "execution_count": null,
   "metadata": {
    "collapsed": true
   },
   "outputs": [],
   "source": []
  },
  {
   "cell_type": "code",
   "execution_count": null,
   "metadata": {
    "collapsed": true
   },
   "outputs": [],
   "source": []
  }
 ],
 "metadata": {
  "kernelspec": {
   "display_name": "Python 3",
   "language": "python",
   "name": "python3"
  },
  "language_info": {
   "codemirror_mode": {
    "name": "ipython",
    "version": 3
   },
   "file_extension": ".py",
   "mimetype": "text/x-python",
   "name": "python",
   "nbconvert_exporter": "python",
   "pygments_lexer": "ipython3",
   "version": "3.6.3"
  }
 },
 "nbformat": 4,
 "nbformat_minor": 2
}
